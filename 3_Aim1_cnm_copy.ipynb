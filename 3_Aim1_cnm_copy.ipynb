{
  "nbformat": 4,
  "nbformat_minor": 0,
  "metadata": {
    "colab": {
      "provenance": [],
      "toc_visible": true,
      "include_colab_link": true
    },
    "kernelspec": {
      "name": "python3",
      "display_name": "Python 3"
    },
    "language_info": {
      "name": "python"
    }
  },
  "cells": [
    {
      "cell_type": "markdown",
      "metadata": {
        "id": "view-in-github",
        "colab_type": "text"
      },
      "source": [
        "<a href=\"https://colab.research.google.com/github/cskipper07/Data-Science/blob/main/3_Aim1_cnm_copy.ipynb\" target=\"_parent\"><img src=\"https://colab.research.google.com/assets/colab-badge.svg\" alt=\"Open In Colab\"/></a>"
      ]
    },
    {
      "cell_type": "markdown",
      "source": [
        "# **Aim 1: Testing method accuracy: CNM**\n",
        "* Some outputs have been removed to protect PII and the raw data."
      ],
      "metadata": {
        "id": "FU-ef78SKsKr"
      }
    },
    {
      "cell_type": "markdown",
      "source": [
        "## Input data file:\n",
        "*   *cnm_collapsed.xlsx*: This file contains the cnm data with left and right sides collapsed (prior to having traits with > 50% data missing removed). The traits have been renamed and traits with low IO agreement have already been removed.\n",
        "\n",
        "\n",
        "\n"
      ],
      "metadata": {
        "id": "xcvJ8azPGLxp"
      }
    },
    {
      "cell_type": "markdown",
      "source": [
        "### Import libraries"
      ],
      "metadata": {
        "id": "rp1JD3KnICrM"
      }
    },
    {
      "cell_type": "code",
      "source": [
        "# Import libraries\n",
        "import pandas as pd\n",
        "import scipy\n",
        "import numpy as np\n",
        "import seaborn as sns\n",
        "import os"
      ],
      "metadata": {
        "id": "UMcG-DJFq0_z"
      },
      "execution_count": null,
      "outputs": []
    },
    {
      "cell_type": "code",
      "source": [
        "!pip install --upgrade openpyxl"
      ],
      "metadata": {
        "colab": {
          "base_uri": "https://localhost:8080/"
        },
        "id": "NhD7IYeHA4YS",
        "outputId": "4de206c3-f53c-498d-f6db-59e9fd81bd93"
      },
      "execution_count": null,
      "outputs": [
        {
          "output_type": "stream",
          "name": "stdout",
          "text": [
            "Requirement already satisfied: openpyxl in /usr/local/lib/python3.7/dist-packages (3.0.9)\n",
            "Requirement already satisfied: et-xmlfile in /usr/local/lib/python3.7/dist-packages (from openpyxl) (1.1.0)\n"
          ]
        }
      ]
    },
    {
      "cell_type": "markdown",
      "source": [
        "### Set print options"
      ],
      "metadata": {
        "id": "VnH9-LvTA7OJ"
      }
    },
    {
      "cell_type": "code",
      "source": [
        "import sys"
      ],
      "metadata": {
        "id": "fNYX-sKtA7OQ"
      },
      "execution_count": null,
      "outputs": []
    },
    {
      "cell_type": "code",
      "source": [
        "import pandas as pd\n",
        "pd.set_option('display.max_rows', 500)\n",
        "pd.set_option('display.max_columns', 500)\n",
        "pd.set_option('display.width', 1000)"
      ],
      "metadata": {
        "id": "ASia58paA7OQ"
      },
      "execution_count": null,
      "outputs": []
    },
    {
      "cell_type": "code",
      "source": [
        "np.set_printoptions(threshold=sys.maxsize)"
      ],
      "metadata": {
        "id": "2pw5BhJcA7OQ"
      },
      "execution_count": null,
      "outputs": []
    },
    {
      "cell_type": "markdown",
      "source": [
        "### Set export"
      ],
      "metadata": {
        "id": "ZvFqMznFA-cA"
      }
    },
    {
      "cell_type": "code",
      "source": [
        "from google.colab import  drive\n",
        "drive.mount('/drive')"
      ],
      "metadata": {
        "colab": {
          "base_uri": "https://localhost:8080/"
        },
        "outputId": "ce93eb2b-ba53-4cd3-a88c-940c36b04611",
        "id": "ck7l_RlmA7OR"
      },
      "execution_count": null,
      "outputs": [
        {
          "output_type": "stream",
          "name": "stdout",
          "text": [
            "Mounted at /drive\n"
          ]
        }
      ]
    },
    {
      "cell_type": "markdown",
      "source": [
        "### Import data"
      ],
      "metadata": {
        "id": "Kxo2nZIzILoC"
      }
    },
    {
      "cell_type": "code",
      "source": [
        "cnm_collapsed = pd.read_excel('cnm_collapsed.xlsx')"
      ],
      "metadata": {
        "id": "GSI2eCnEH3ht"
      },
      "execution_count": null,
      "outputs": []
    },
    {
      "cell_type": "markdown",
      "source": [
        "The output for the following code cell was removed to protect PII. The output contained the following columns:\n",
        "* SkelID, Collection, Sex, Age, Population, Population2, Population3, Population4, SSSF, ANS...."
      ],
      "metadata": {
        "id": "A8Zbs2ic7SwG"
      }
    },
    {
      "cell_type": "code",
      "source": [
        "cnm_collapsed.head()"
      ],
      "metadata": {
        "id": "bmmvinPyIZEX"
      },
      "execution_count": null,
      "outputs": []
    },
    {
      "cell_type": "markdown",
      "source": [
        "## Prep cnm data for Comp3\n",
        "* Comp3 refers to Comparative Dataset 3, which was referenced in the '2_EDA_cnm_copy.ipynb' file.\n",
        "* The output for the following code cell was removed to protect PII and/or the raw data. The output included the following columns:\n",
        "** ANS, INA, IOB..."
      ],
      "metadata": {
        "id": "Yxf588prwzSg"
      }
    },
    {
      "cell_type": "code",
      "source": [
        "# filter cnm df to only include the traits in Comp3\n",
        "cnm_Comp3 = cnm_collapsed.filter(['ANS', 'INA', 'IOB', 'MT', 'NAW', 'NBC', 'NO', 'PBD',\n",
        "                         'SPS', 'TPS', 'ZS'], axis=1)\n",
        "\n",
        "cnm_Comp3.head(10)"
      ],
      "metadata": {
        "id": "wgiZdDRgudoq"
      },
      "execution_count": null,
      "outputs": []
    },
    {
      "cell_type": "code",
      "source": [
        "cnm_Comp3['PBD'] = np.nan\n",
        "cnm_Comp3['SPS'] = np.nan\n",
        "cnm_Comp3['TPS'] = np.nan"
      ],
      "metadata": {
        "id": "C4vCMXRvyyt7"
      },
      "execution_count": null,
      "outputs": []
    },
    {
      "cell_type": "markdown",
      "source": [
        "The output for the following code cell was removed to protect PII and/or the raw data. The output included the following columns:\n",
        "* ANS, INA, IOB..."
      ],
      "metadata": {
        "id": "wft_Hr399D5d"
      }
    },
    {
      "cell_type": "code",
      "source": [
        "cnm_Comp3.head()"
      ],
      "metadata": {
        "id": "CCct5gOa7YNF"
      },
      "execution_count": null,
      "outputs": []
    },
    {
      "cell_type": "markdown",
      "source": [
        "The output for the following code cell was removed to protect PII and/or the raw data. The output included the following columns:\n",
        "* ANS, INA, IOB..."
      ],
      "metadata": {
        "id": "QMgLZoDA9RYj"
      }
    },
    {
      "cell_type": "code",
      "source": [
        "cnm_Comp3 = cnm_Comp3[['ANS', 'INA', 'IOB', 'MT', 'NAW', 'NBC', 'NO', 'PBD',\n",
        "                         'SPS', 'TPS', 'ZS']]\n",
        "cnm_Comp3.head()"
      ],
      "metadata": {
        "colab": {
          "base_uri": "https://localhost:8080/",
          "height": 206
        },
        "id": "FKxFMlDB7htc",
        "outputId": "260c3709-8580-4dd8-8ee6-96c2380b1512"
      },
      "execution_count": null,
      "outputs": [
        {
          "output_type": "execute_result",
          "data": {
            "text/html": [
              "\n",
              "  <div id=\"df-7df25cb2-4e10-452f-8690-dbbc8bf881b5\">\n",
              "    <div class=\"colab-df-container\">\n",
              "      <div>\n",
              "<style scoped>\n",
              "    .dataframe tbody tr th:only-of-type {\n",
              "        vertical-align: middle;\n",
              "    }\n",
              "\n",
              "    .dataframe tbody tr th {\n",
              "        vertical-align: top;\n",
              "    }\n",
              "\n",
              "    .dataframe thead th {\n",
              "        text-align: right;\n",
              "    }\n",
              "</style>\n",
              "<table border=\"1\" class=\"dataframe\">\n",
              "  <thead>\n",
              "    <tr style=\"text-align: right;\">\n",
              "      <th></th>\n",
              "      <th>ANS</th>\n",
              "      <th>INA</th>\n",
              "      <th>IOB</th>\n",
              "      <th>MT</th>\n",
              "      <th>NAW</th>\n",
              "      <th>NBC</th>\n",
              "      <th>NO</th>\n",
              "      <th>PBD</th>\n",
              "      <th>SPS</th>\n",
              "      <th>TPS</th>\n",
              "      <th>ZS</th>\n",
              "    </tr>\n",
              "  </thead>\n",
              "  <tbody>\n",
              "    <tr>\n",
              "      <th>0</th>\n",
              "      <td>0.0</td>\n",
              "      <td>3</td>\n",
              "      <td>1.0</td>\n",
              "      <td>3</td>\n",
              "      <td>1.0</td>\n",
              "      <td>3.0</td>\n",
              "      <td>1.0</td>\n",
              "      <td>NaN</td>\n",
              "      <td>NaN</td>\n",
              "      <td>NaN</td>\n",
              "      <td>2.0</td>\n",
              "    </tr>\n",
              "    <tr>\n",
              "      <th>1</th>\n",
              "      <td>3.0</td>\n",
              "      <td>4</td>\n",
              "      <td>2.0</td>\n",
              "      <td>2</td>\n",
              "      <td>2.0</td>\n",
              "      <td>0.0</td>\n",
              "      <td>1.0</td>\n",
              "      <td>NaN</td>\n",
              "      <td>NaN</td>\n",
              "      <td>NaN</td>\n",
              "      <td>2.0</td>\n",
              "    </tr>\n",
              "    <tr>\n",
              "      <th>2</th>\n",
              "      <td>2.0</td>\n",
              "      <td>4</td>\n",
              "      <td>2.0</td>\n",
              "      <td>1</td>\n",
              "      <td>2.0</td>\n",
              "      <td>0.0</td>\n",
              "      <td>0.0</td>\n",
              "      <td>NaN</td>\n",
              "      <td>NaN</td>\n",
              "      <td>NaN</td>\n",
              "      <td>2.0</td>\n",
              "    </tr>\n",
              "    <tr>\n",
              "      <th>3</th>\n",
              "      <td>1.0</td>\n",
              "      <td>3</td>\n",
              "      <td>2.0</td>\n",
              "      <td>2</td>\n",
              "      <td>1.0</td>\n",
              "      <td>1.0</td>\n",
              "      <td>1.0</td>\n",
              "      <td>NaN</td>\n",
              "      <td>NaN</td>\n",
              "      <td>NaN</td>\n",
              "      <td>1.0</td>\n",
              "    </tr>\n",
              "    <tr>\n",
              "      <th>4</th>\n",
              "      <td>2.0</td>\n",
              "      <td>1</td>\n",
              "      <td>2.0</td>\n",
              "      <td>2</td>\n",
              "      <td>2.0</td>\n",
              "      <td>1.0</td>\n",
              "      <td>1.0</td>\n",
              "      <td>NaN</td>\n",
              "      <td>NaN</td>\n",
              "      <td>NaN</td>\n",
              "      <td>2.0</td>\n",
              "    </tr>\n",
              "  </tbody>\n",
              "</table>\n",
              "</div>\n",
              "      <button class=\"colab-df-convert\" onclick=\"convertToInteractive('df-7df25cb2-4e10-452f-8690-dbbc8bf881b5')\"\n",
              "              title=\"Convert this dataframe to an interactive table.\"\n",
              "              style=\"display:none;\">\n",
              "        \n",
              "  <svg xmlns=\"http://www.w3.org/2000/svg\" height=\"24px\"viewBox=\"0 0 24 24\"\n",
              "       width=\"24px\">\n",
              "    <path d=\"M0 0h24v24H0V0z\" fill=\"none\"/>\n",
              "    <path d=\"M18.56 5.44l.94 2.06.94-2.06 2.06-.94-2.06-.94-.94-2.06-.94 2.06-2.06.94zm-11 1L8.5 8.5l.94-2.06 2.06-.94-2.06-.94L8.5 2.5l-.94 2.06-2.06.94zm10 10l.94 2.06.94-2.06 2.06-.94-2.06-.94-.94-2.06-.94 2.06-2.06.94z\"/><path d=\"M17.41 7.96l-1.37-1.37c-.4-.4-.92-.59-1.43-.59-.52 0-1.04.2-1.43.59L10.3 9.45l-7.72 7.72c-.78.78-.78 2.05 0 2.83L4 21.41c.39.39.9.59 1.41.59.51 0 1.02-.2 1.41-.59l7.78-7.78 2.81-2.81c.8-.78.8-2.07 0-2.86zM5.41 20L4 18.59l7.72-7.72 1.47 1.35L5.41 20z\"/>\n",
              "  </svg>\n",
              "      </button>\n",
              "      \n",
              "  <style>\n",
              "    .colab-df-container {\n",
              "      display:flex;\n",
              "      flex-wrap:wrap;\n",
              "      gap: 12px;\n",
              "    }\n",
              "\n",
              "    .colab-df-convert {\n",
              "      background-color: #E8F0FE;\n",
              "      border: none;\n",
              "      border-radius: 50%;\n",
              "      cursor: pointer;\n",
              "      display: none;\n",
              "      fill: #1967D2;\n",
              "      height: 32px;\n",
              "      padding: 0 0 0 0;\n",
              "      width: 32px;\n",
              "    }\n",
              "\n",
              "    .colab-df-convert:hover {\n",
              "      background-color: #E2EBFA;\n",
              "      box-shadow: 0px 1px 2px rgba(60, 64, 67, 0.3), 0px 1px 3px 1px rgba(60, 64, 67, 0.15);\n",
              "      fill: #174EA6;\n",
              "    }\n",
              "\n",
              "    [theme=dark] .colab-df-convert {\n",
              "      background-color: #3B4455;\n",
              "      fill: #D2E3FC;\n",
              "    }\n",
              "\n",
              "    [theme=dark] .colab-df-convert:hover {\n",
              "      background-color: #434B5C;\n",
              "      box-shadow: 0px 1px 3px 1px rgba(0, 0, 0, 0.15);\n",
              "      filter: drop-shadow(0px 1px 2px rgba(0, 0, 0, 0.3));\n",
              "      fill: #FFFFFF;\n",
              "    }\n",
              "  </style>\n",
              "\n",
              "      <script>\n",
              "        const buttonEl =\n",
              "          document.querySelector('#df-7df25cb2-4e10-452f-8690-dbbc8bf881b5 button.colab-df-convert');\n",
              "        buttonEl.style.display =\n",
              "          google.colab.kernel.accessAllowed ? 'block' : 'none';\n",
              "\n",
              "        async function convertToInteractive(key) {\n",
              "          const element = document.querySelector('#df-7df25cb2-4e10-452f-8690-dbbc8bf881b5');\n",
              "          const dataTable =\n",
              "            await google.colab.kernel.invokeFunction('convertToInteractive',\n",
              "                                                     [key], {});\n",
              "          if (!dataTable) return;\n",
              "\n",
              "          const docLinkHtml = 'Like what you see? Visit the ' +\n",
              "            '<a target=\"_blank\" href=https://colab.research.google.com/notebooks/data_table.ipynb>data table notebook</a>'\n",
              "            + ' to learn more about interactive tables.';\n",
              "          element.innerHTML = '';\n",
              "          dataTable['output_type'] = 'display_data';\n",
              "          await google.colab.output.renderOutput(dataTable, element);\n",
              "          const docLink = document.createElement('div');\n",
              "          docLink.innerHTML = docLinkHtml;\n",
              "          element.appendChild(docLink);\n",
              "        }\n",
              "      </script>\n",
              "    </div>\n",
              "  </div>\n",
              "  "
            ],
            "text/plain": [
              "   ANS  INA  IOB  MT  NAW  NBC   NO  PBD  SPS  TPS   ZS\n",
              "0  0.0    3  1.0   3  1.0  3.0  1.0  NaN  NaN  NaN  2.0\n",
              "1  3.0    4  2.0   2  2.0  0.0  1.0  NaN  NaN  NaN  2.0\n",
              "2  2.0    4  2.0   1  2.0  0.0  0.0  NaN  NaN  NaN  2.0\n",
              "3  1.0    3  2.0   2  1.0  1.0  1.0  NaN  NaN  NaN  1.0\n",
              "4  2.0    1  2.0   2  2.0  1.0  1.0  NaN  NaN  NaN  2.0"
            ]
          },
          "metadata": {},
          "execution_count": 12
        }
      ]
    },
    {
      "cell_type": "code",
      "source": [
        "cnm_Comp3.to_excel('/drive/My Drive/Colab Notebooks/Statistical analysis/Aim 1 - Testing method accuracy/cnm_Comp3.xlsx', index=False)"
      ],
      "metadata": {
        "id": "p_ej_HwO8DmB"
      },
      "execution_count": null,
      "outputs": []
    },
    {
      "cell_type": "markdown",
      "source": [
        "# Output data file:\n",
        "\n",
        "*   *cnm_Comp3.xlsx*: This file contains the MMS traits for testing Comp3. It is ready to be batch input into Comp3 software.\n",
        "*   *cnm_Comp3.xlsx* was subsequently modified in a 97-2003 Excel file (now a .xls file) such that blanks were assigned NA and all scores had to match the *Comp3 Template.xlsx* file.\n"
      ],
      "metadata": {
        "id": "08FJsVijHl9m"
      }
    },
    {
      "cell_type": "markdown",
      "source": [
        "# Comp3 results\n",
        "* Comp3_results reflect the output of the Comp3 software analysis, which is an external software."
      ],
      "metadata": {
        "id": "U7kKXEFwJ0CB"
      }
    },
    {
      "cell_type": "code",
      "source": [
        "Comp3_results = pd.read_excel('cnm_batch_Comp3_with demographics.xlsx')"
      ],
      "metadata": {
        "id": "_4WE7P1XH1zO"
      },
      "execution_count": null,
      "outputs": []
    },
    {
      "cell_type": "markdown",
      "source": [
        "The output for the following code cell was removed to protect PII and/or the raw data. The output contained the following columns:\n",
        "* SkelID, Collection, Sex, Age, Population, Population2, Population3, Population4, African, American Indian, Asian, European, Classification, Unnamed: 13, Collection.1, Population Affinity, n, Percentage Correct, Percentage Incorrect"
      ],
      "metadata": {
        "id": "1jcJ3UFk9ocD"
      }
    },
    {
      "cell_type": "code",
      "source": [
        "Comp3_results"
      ],
      "metadata": {
        "id": "2Xg3X_yTJ_Un"
      },
      "execution_count": null,
      "outputs": []
    },
    {
      "cell_type": "markdown",
      "source": [
        "The Comp3_results resembled the following:\n",
        "\n",
        "* Collection - Population Affinity - n - Percentage Correct - Percentage Incorrect\n",
        "* US - Asian American - 65 - 18% - 82%\n",
        "* Japan - Japanese - 32 - 19% - 81%\n",
        "* Pooled - Pooled - 97 - 19% - 81%"
      ],
      "metadata": {
        "id": "uIF4I9Je-v_n"
      }
    }
  ]
}