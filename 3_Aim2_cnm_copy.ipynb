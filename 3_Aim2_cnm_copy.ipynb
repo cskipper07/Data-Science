{
  "nbformat": 4,
  "nbformat_minor": 0,
  "metadata": {
    "colab": {
      "provenance": [],
      "toc_visible": true,
      "authorship_tag": "ABX9TyOxe4NafETZoFOobTeBop13",
      "include_colab_link": true
    },
    "kernelspec": {
      "name": "python3",
      "display_name": "Python 3"
    },
    "language_info": {
      "name": "python"
    }
  },
  "cells": [
    {
      "cell_type": "markdown",
      "metadata": {
        "id": "view-in-github",
        "colab_type": "text"
      },
      "source": [
        "<a href=\"https://colab.research.google.com/github/cskipper07/Data-Science/blob/main/3_Aim2_cnm_copy.ipynb\" target=\"_parent\"><img src=\"https://colab.research.google.com/assets/colab-badge.svg\" alt=\"Open In Colab\"/></a>"
      ]
    },
    {
      "cell_type": "markdown",
      "source": [
        "# **Aim 2: Microevolution: CNM**\n",
        "* This file contains the code to prepare the dfs for comparison in the TMD software.\n",
        "* Some outputs have been removed to protect PII and the raw data."
      ],
      "metadata": {
        "id": "fVZ4dQlCK4EH"
      }
    },
    {
      "cell_type": "markdown",
      "source": [
        "The cnm data will be tested using the Konigsberg (1990) R workspace for tetrachoric Malahanobis distance (TMD)."
      ],
      "metadata": {
        "id": "otKKnA8xLL_V"
      }
    },
    {
      "cell_type": "markdown",
      "source": [
        "## Input data file:\n",
        "**My data**\n",
        "*   *cnm_cleaned2.xlsx*: This file includes the cranial nonmetric and macromorphoscopic data and demographics after traits with > 50% missing data were removed.\n",
        "\n",
        "\n",
        "**Comp1 data**\n",
        "*   *Comp1_cnm_for_analysis.xlsx*\n",
        "\n",
        "**Comp2 data**\n",
        "*   *Comp2_cnm_recoded_popAff.xlsx*: This file contains the recoded Comp2 data with added population affinities (added in Excel)\n",
        "\n",
        "**Comp3 data**\n",
        "*   *Comp3_cnm_for_analysis.xlsx*\n"
      ],
      "metadata": {
        "id": "xcvJ8azPGLxp"
      }
    },
    {
      "cell_type": "markdown",
      "source": [
        "### Import libraries"
      ],
      "metadata": {
        "id": "rp1JD3KnICrM"
      }
    },
    {
      "cell_type": "code",
      "source": [
        "# Import libraries\n",
        "import pandas as pd\n",
        "import scipy\n",
        "import numpy as np\n",
        "import seaborn as sns\n",
        "import os"
      ],
      "metadata": {
        "id": "UMcG-DJFq0_z"
      },
      "execution_count": null,
      "outputs": []
    },
    {
      "cell_type": "code",
      "source": [
        "!pip install --upgrade openpyxl"
      ],
      "metadata": {
        "colab": {
          "base_uri": "https://localhost:8080/"
        },
        "id": "NhD7IYeHA4YS",
        "outputId": "25c543ee-493b-4c01-8bde-99a2a6681de5"
      },
      "execution_count": null,
      "outputs": [
        {
          "output_type": "stream",
          "name": "stdout",
          "text": [
            "Requirement already satisfied: openpyxl in /usr/local/lib/python3.7/dist-packages (3.0.9)\n",
            "Requirement already satisfied: et-xmlfile in /usr/local/lib/python3.7/dist-packages (from openpyxl) (1.1.0)\n"
          ]
        }
      ]
    },
    {
      "cell_type": "markdown",
      "source": [
        "### Set print options"
      ],
      "metadata": {
        "id": "VnH9-LvTA7OJ"
      }
    },
    {
      "cell_type": "code",
      "source": [
        "import sys"
      ],
      "metadata": {
        "id": "fNYX-sKtA7OQ"
      },
      "execution_count": null,
      "outputs": []
    },
    {
      "cell_type": "code",
      "source": [
        "import pandas as pd\n",
        "pd.set_option('display.max_rows', 500)\n",
        "pd.set_option('display.max_columns', 500)\n",
        "pd.set_option('display.width', 1000)"
      ],
      "metadata": {
        "id": "ASia58paA7OQ"
      },
      "execution_count": null,
      "outputs": []
    },
    {
      "cell_type": "code",
      "source": [
        "np.set_printoptions(threshold=sys.maxsize)"
      ],
      "metadata": {
        "id": "2pw5BhJcA7OQ"
      },
      "execution_count": null,
      "outputs": []
    },
    {
      "cell_type": "markdown",
      "source": [
        "### Set export"
      ],
      "metadata": {
        "id": "ZvFqMznFA-cA"
      }
    },
    {
      "cell_type": "code",
      "source": [
        "from google.colab import  drive\n",
        "drive.mount('/drive')"
      ],
      "metadata": {
        "colab": {
          "base_uri": "https://localhost:8080/"
        },
        "outputId": "f6adfd2a-7225-4ac1-942b-3e359f39c1cd",
        "id": "ck7l_RlmA7OR"
      },
      "execution_count": null,
      "outputs": [
        {
          "output_type": "stream",
          "name": "stdout",
          "text": [
            "Mounted at /drive\n"
          ]
        }
      ]
    },
    {
      "cell_type": "markdown",
      "source": [
        "# My Data"
      ],
      "metadata": {
        "id": "ZDqR6ijVMwE-"
      }
    },
    {
      "cell_type": "markdown",
      "source": [
        "### Import data"
      ],
      "metadata": {
        "id": "Kxo2nZIzILoC"
      }
    },
    {
      "cell_type": "code",
      "execution_count": null,
      "metadata": {
        "id": "yc1YHxDaKnpg"
      },
      "outputs": [],
      "source": [
        "cnm_cleaned2 = pd.read_excel('cnm_cleaned2.xlsx')"
      ]
    },
    {
      "cell_type": "markdown",
      "source": [
        "The output for the following code cells related to cnm_cleaned2.head() and cnm_cleaned2.tail() were removed to protect PII and/or the raw data. The outputs contained the following columns:\n",
        "* SkelID, Collection, Sex, Age, Population, Population2, Population3, Population4, SSSF, ANS...."
      ],
      "metadata": {
        "id": "Te0_NEwWCD11"
      }
    },
    {
      "cell_type": "code",
      "source": [
        "cnm_cleaned2.head()"
      ],
      "metadata": {
        "id": "eHQyuytIM1Fj"
      },
      "execution_count": null,
      "outputs": []
    },
    {
      "cell_type": "code",
      "source": [
        "cnm_cleaned2.tail()"
      ],
      "metadata": {
        "id": "OxQX5iqxNA6H"
      },
      "execution_count": null,
      "outputs": []
    },
    {
      "cell_type": "code",
      "source": [
        "# add an empty row (row 97) to the end of the df to standardize decimals across the df\n",
        "cnm_cleaned2.loc[cnm_cleaned2.shape[0]] = np.nan"
      ],
      "metadata": {
        "id": "QRU26yNmNFx8"
      },
      "execution_count": null,
      "outputs": []
    },
    {
      "cell_type": "code",
      "source": [
        "cnm_cleaned2.tail()"
      ],
      "metadata": {
        "id": "zqlUyC5fNe81"
      },
      "execution_count": null,
      "outputs": []
    },
    {
      "cell_type": "code",
      "source": [
        "# drop empty row 97\n",
        "cnm_cleaned2 = cnm_cleaned2.drop(97)"
      ],
      "metadata": {
        "id": "32NjztGSNgzS"
      },
      "execution_count": null,
      "outputs": []
    },
    {
      "cell_type": "code",
      "source": [
        "cnm_cleaned2.tail()"
      ],
      "metadata": {
        "id": "hApJ0oYTNqmZ"
      },
      "execution_count": null,
      "outputs": []
    },
    {
      "cell_type": "code",
      "source": [
        "for c in cnm_cleaned2.columns:\n",
        "  print(c)"
      ],
      "metadata": {
        "colab": {
          "base_uri": "https://localhost:8080/"
        },
        "id": "bG4zuwsbNrEB",
        "outputId": "12bf8c63-8093-4e71-8f91-def7e71443cc"
      },
      "execution_count": null,
      "outputs": [
        {
          "output_type": "stream",
          "name": "stdout",
          "text": [
            "SkelID\n",
            "Collection\n",
            "Sex\n",
            "Age\n",
            "Population\n",
            "Population2\n",
            "Population3\n",
            "Population4\n",
            "SSSF\n",
            "ANS\n",
            "INA\n",
            "IOB\n",
            "NAS\n",
            "NAW\n",
            "NBC\n",
            "NBS\n",
            "NFS\n",
            "OBS\n",
            "TPS\n",
            "INCA\n",
            "BREG\n",
            "PALT\n",
            "METO\n",
            "MANT\n",
            "SON\n",
            "SOF\n",
            "IFS\n",
            "ZFF\n",
            "CCO\n",
            "FOI\n",
            "FSI\n",
            "PTB\n",
            "TYM\n",
            "AUD\n",
            "MT\n",
            "NO\n",
            "PZT\n",
            "ZS\n",
            "LBM\n",
            "LBLa\n",
            "PF\n",
            "MF\n",
            "CRB\n",
            "EPB\n",
            "FTA\n",
            "PNB\n",
            "AST\n",
            "OMB\n",
            "HYP\n",
            "APF\n",
            "FF\n",
            "MHB\n",
            "MEN\n",
            "MIF\n",
            "CIV\n",
            "MFLo\n",
            "PHAR\n"
          ]
        }
      ]
    },
    {
      "cell_type": "code",
      "source": [
        "cnm_cleaned2.head(50)"
      ],
      "metadata": {
        "id": "AjbVJ55STELE"
      },
      "execution_count": null,
      "outputs": []
    },
    {
      "cell_type": "code",
      "source": [
        "cnm_cleaned2['SSSF'].unique()"
      ],
      "metadata": {
        "colab": {
          "base_uri": "https://localhost:8080/"
        },
        "id": "uEeXIs8BThv7",
        "outputId": "ae818396-364a-4638-eab7-3fc46782b364"
      },
      "execution_count": null,
      "outputs": [
        {
          "output_type": "execute_result",
          "data": {
            "text/plain": [
              "array([ 1.,  3.,  2., nan])"
            ]
          },
          "metadata": {},
          "execution_count": 26
        }
      ]
    },
    {
      "cell_type": "code",
      "source": [
        "cnm_recoded = pd.DataFrame(cnm_cleaned2)"
      ],
      "metadata": {
        "id": "AKapXGAcTABP"
      },
      "execution_count": null,
      "outputs": []
    },
    {
      "cell_type": "code",
      "source": [
        "#cnm_recoded['SSSF'] = cnm_recoded['SSSF'].replace([1.0, 2.0, 3.0], [1, 0, 1])"
      ],
      "metadata": {
        "id": "UoI0zaUwTQJS"
      },
      "execution_count": null,
      "outputs": []
    },
    {
      "cell_type": "markdown",
      "source": [
        "The output for the following code cell was removed to protect PII and/or the raw data. The output contained the following columns:\n",
        "* SkelID, Collection, Sex, Age, Population, Population2, Population3, Population4, SSSF, ANS...."
      ],
      "metadata": {
        "id": "uPhUwdWACigr"
      }
    },
    {
      "cell_type": "code",
      "source": [
        "cnm_recoded.head(50)"
      ],
      "metadata": {
        "id": "Jxb8tZP5TTfy"
      },
      "execution_count": null,
      "outputs": []
    },
    {
      "cell_type": "code",
      "source": [
        "cnm_recoded['CCO'].unique()"
      ],
      "metadata": {
        "colab": {
          "base_uri": "https://localhost:8080/"
        },
        "id": "SRFdzwftXGf5",
        "outputId": "0662cd97-f894-44df-f1e9-97ca161ea897"
      },
      "execution_count": null,
      "outputs": [
        {
          "output_type": "execute_result",
          "data": {
            "text/plain": [
              "array([1., 0.])"
            ]
          },
          "metadata": {},
          "execution_count": 31
        }
      ]
    },
    {
      "cell_type": "markdown",
      "source": [
        "## Recode My Data"
      ],
      "metadata": {
        "id": "epGx8yYd7BFg"
      }
    },
    {
      "cell_type": "code",
      "source": [
        "cnm_recoded['SSSF'] = cnm_recoded['SSSF'].replace([1.0, 2.0, 3.0], [1, 0, 1])\n",
        "# ANS\n",
        "# INA\n",
        "# IOB\n",
        "# NAS\n",
        "# NAW\n",
        "# NBC\n",
        "# NBS\n",
        "# OBS\n",
        "# TPS\n",
        "# INCA\n",
        "# BREG\n",
        "# PALT\n",
        "# METO\n",
        "cnm_recoded['METO'] = cnm_recoded['METO'].replace([0.0, 1.0, 2.0], [0, 0, 1])\n",
        "# MANT\n",
        "# SON\n",
        "cnm_recoded['SOF'] = cnm_recoded['SOF'].replace([0.0, 1.0, 2.0], [0, 1, 1])\n",
        "cnm_recoded['IFS'] = cnm_recoded['IFS'].replace([0.0, 1.0, 2.0], [0, 0, 1])\n",
        "# ZFF\n",
        "# CCO\n",
        "# FOI\n",
        "# FSI\n",
        "# PTB\n",
        "cnm_recoded['TYM'] = cnm_recoded['TYM'].replace([0.0, 1.0, 2.0, 3.0], [0, 0, 0, 1])\n",
        "# AUD\n",
        "# MT\n",
        "# NO\n",
        "# PZT\n",
        "# ZS\n",
        "# LBM\n",
        "# LBLa\n",
        "# PF\n",
        "# MF\n",
        "cnm_recoded['MF'] = cnm_recoded['MF'].replace([0.0, 1.0, 2.0, 3.0], [0, 1, 1, 1])\n",
        "# CRB\n",
        "# EPB\n",
        "# FTA\n",
        "# PNB\n",
        "# AST\n",
        "# OMB\n",
        "cnm_recoded['HYP'] = cnm_recoded['HYP'].replace([0.0, 1.0, 2.0, 3.0, 4.0], [0, 0, 0, 1, 1])\n",
        "cnm_recoded['APF'] = cnm_recoded['APF'].replace([0.0, 1.0, 2.0, 3.0], [0, 1, 1, 1])\n",
        "# FF\n",
        "cnm_recoded['FF'] = cnm_recoded['FF'].replace([0.0, 1.0, 2.0, 3.0], [0, 1, 1, 1])\n",
        "cnm_recoded['MHB'] = cnm_recoded['MHB'].replace([0.0, 1.0, 2.0], [0, 1, 1])\n",
        "cnm_recoded['MEN'] = cnm_recoded['MEN'].replace([0.0, 1.0, 2.0], [0, 1, 1])\n",
        "cnm_recoded['MIF'] = cnm_recoded['MIF'].replace([0.0, 1.0, 2.0, 3.0], [0, 0, 1, 1])\n",
        "cnm_recoded['CIV'] = cnm_recoded['CIV'].replace([0.0, 1.0, 2.0, 3.0], [0, 0, 0, 1])\n",
        "cnm_recoded['MFLo'] = cnm_recoded['MFLo'].replace([0.0, 1.0, 2.0, 3.0, 4.0, 5.0], [0, 1, 1, 1, 1, 1])\n",
        "# PHAR"
      ],
      "metadata": {
        "id": "9aDgvJhwR6cZ"
      },
      "execution_count": null,
      "outputs": []
    },
    {
      "cell_type": "markdown",
      "source": [
        "The output for the following two code cells were removed to protect PII and/or the raw data. The outputs contained the following columns:\n",
        "* SkelID, Collection, Sex, Age, Population, Population2, Population3, Population4, SSSF, ANS...."
      ],
      "metadata": {
        "id": "RAn6KYF0CrPS"
      }
    },
    {
      "cell_type": "code",
      "source": [
        "cnm_recoded.head()"
      ],
      "metadata": {
        "id": "xHj3Avpc6-Te"
      },
      "execution_count": null,
      "outputs": []
    },
    {
      "cell_type": "code",
      "source": [
        "conditions = [\n",
        "    (cnm_recoded['Collection'] == 'US'),\n",
        "    (cnm_recoded['Collection'] == 'Japan')]\n",
        "choices = ['Asian American', 'Japanese']\n",
        "cnm_recoded['Population Affinity'] = np.select(conditions, choices)\n",
        "print(cnm_recoded)"
      ],
      "metadata": {
        "id": "4XuKiAmg7Fn6"
      },
      "execution_count": null,
      "outputs": []
    },
    {
      "cell_type": "code",
      "source": [
        "cnm_recoded = pd.read_excel('cnm_recoded.xlsx')"
      ],
      "metadata": {
        "id": "HNrxIRsSmy1h"
      },
      "execution_count": null,
      "outputs": []
    },
    {
      "cell_type": "code",
      "source": [
        "cnm_recoded.info()"
      ],
      "metadata": {
        "colab": {
          "base_uri": "https://localhost:8080/"
        },
        "id": "M55UpcsUnAc6",
        "outputId": "6ab2157c-ddb9-47b4-fef9-28bbaf9c2ae1"
      },
      "execution_count": null,
      "outputs": [
        {
          "output_type": "stream",
          "name": "stdout",
          "text": [
            "<class 'pandas.core.frame.DataFrame'>\n",
            "RangeIndex: 97 entries, 0 to 96\n",
            "Data columns (total 57 columns):\n",
            " #   Column               Non-Null Count  Dtype  \n",
            "---  ------               --------------  -----  \n",
            " 0   SkelID               97 non-null     int64  \n",
            " 1   Collection           97 non-null     object \n",
            " 2   Sex                  97 non-null     object \n",
            " 3   Age                  97 non-null     int64  \n",
            " 4   Population           97 non-null     object \n",
            " 5   Population2          19 non-null     object \n",
            " 6   Population3          10 non-null     object \n",
            " 7   Population4          1 non-null      object \n",
            " 8   SSSF                 95 non-null     float64\n",
            " 9   ANS                  95 non-null     float64\n",
            " 10  INA                  97 non-null     int64  \n",
            " 11  IOB                  96 non-null     float64\n",
            " 12  NAS                  96 non-null     float64\n",
            " 13  NAW                  95 non-null     float64\n",
            " 14  NBC                  94 non-null     float64\n",
            " 15  NBS                  94 non-null     float64\n",
            " 16  NFS                  95 non-null     float64\n",
            " 17  OBS                  96 non-null     float64\n",
            " 18  TPS                  89 non-null     float64\n",
            " 19  INCA                 80 non-null     float64\n",
            " 20  BREG                 83 non-null     float64\n",
            " 21  PALT                 95 non-null     float64\n",
            " 22  METO                 96 non-null     float64\n",
            " 23  MANT                 91 non-null     float64\n",
            " 24  SON                  97 non-null     int64  \n",
            " 25  SOF                  97 non-null     int64  \n",
            " 26  IFS                  95 non-null     float64\n",
            " 27  ZFF                  97 non-null     int64  \n",
            " 28  CCO                  97 non-null     int64  \n",
            " 29  FOI                  96 non-null     float64\n",
            " 30  FSI                  96 non-null     float64\n",
            " 31  PTB                  97 non-null     int64  \n",
            " 32  TYM                  97 non-null     int64  \n",
            " 33  AUD                  97 non-null     int64  \n",
            " 34  MT                   97 non-null     int64  \n",
            " 35  NO                   94 non-null     float64\n",
            " 36  PZT                  97 non-null     int64  \n",
            " 37  ZS                   92 non-null     float64\n",
            " 38  LBM                  64 non-null     float64\n",
            " 39  LBLa                 80 non-null     float64\n",
            " 40  PF                   95 non-null     float64\n",
            " 41  MF                   96 non-null     float64\n",
            " 42  CRB                  81 non-null     float64\n",
            " 43  EPB                  70 non-null     float64\n",
            " 44  FTA                  81 non-null     float64\n",
            " 45  PNB                  94 non-null     float64\n",
            " 46  AST                  88 non-null     float64\n",
            " 47  OMB                  64 non-null     float64\n",
            " 48  HYP                  96 non-null     float64\n",
            " 49  APF                  97 non-null     int64  \n",
            " 50  MHB                  97 non-null     int64  \n",
            " 51  MEN                  96 non-null     float64\n",
            " 52  MIF                  96 non-null     float64\n",
            " 53  CIV                  95 non-null     float64\n",
            " 54  MFLo                 94 non-null     float64\n",
            " 55  PHAR                 95 non-null     float64\n",
            " 56  Population Affinity  97 non-null     object \n",
            "dtypes: float64(36), int64(14), object(7)\n",
            "memory usage: 43.3+ KB\n"
          ]
        }
      ]
    },
    {
      "cell_type": "code",
      "source": [
        "del cnm_recoded['FF']"
      ],
      "metadata": {
        "id": "awv2rKjrnGgC"
      },
      "execution_count": null,
      "outputs": []
    },
    {
      "cell_type": "markdown",
      "source": [
        "#### Output file: CES_cnm_recoded"
      ],
      "metadata": {
        "id": "qr9eWwP1yROJ"
      }
    },
    {
      "cell_type": "code",
      "source": [
        "cnm_recoded.to_excel('/drive/My Drive/Colab Notebooks/Statistical analysis/Aim 2 - Microevolution/CES_cnm_recoded.xlsx', index=False)"
      ],
      "metadata": {
        "id": "zT_BJO9km17V"
      },
      "execution_count": null,
      "outputs": []
    },
    {
      "cell_type": "code",
      "source": [
        "CES_cnm_recoded = pd.read_excel('CES_cnm_recoded.xlsx')"
      ],
      "metadata": {
        "id": "UlLnddF5-yuk"
      },
      "execution_count": null,
      "outputs": []
    },
    {
      "cell_type": "markdown",
      "source": [
        "The output for the following code cell was removed to protect PII and/or the raw data. The output contained the following columns:\n",
        "* SkelID, Collection, Sex, Age, Population, Population2, Population3, Population4, SSSF, ANS...."
      ],
      "metadata": {
        "id": "7j_GkyJrDH8B"
      }
    },
    {
      "cell_type": "code",
      "source": [
        "CES_cnm_recoded.head()"
      ],
      "metadata": {
        "id": "B1aFep0f_Dok"
      },
      "execution_count": null,
      "outputs": []
    },
    {
      "cell_type": "code",
      "source": [
        "CES_cnm_recoded['OMB'].unique()"
      ],
      "metadata": {
        "colab": {
          "base_uri": "https://localhost:8080/"
        },
        "id": "vCAApt04_Fiw",
        "outputId": "07be5a31-2b64-4e4e-de70-29d5eeb93021"
      },
      "execution_count": null,
      "outputs": [
        {
          "output_type": "execute_result",
          "data": {
            "text/plain": [
              "array([ 0., nan,  1.])"
            ]
          },
          "metadata": {},
          "execution_count": 55
        }
      ]
    },
    {
      "cell_type": "markdown",
      "source": [
        "### Prep my data for analyses\n"
      ],
      "metadata": {
        "id": "ofUORdwA_2Bo"
      }
    },
    {
      "cell_type": "code",
      "source": [
        "CES_cnm_recoded_backup = pd.DataFrame(CES_cnm_recoded)"
      ],
      "metadata": {
        "id": "QTJycGI4_rZD"
      },
      "execution_count": null,
      "outputs": []
    },
    {
      "cell_type": "code",
      "source": [
        "CES_cnm = pd.DataFrame(CES_cnm_recoded)"
      ],
      "metadata": {
        "id": "wkHcGyzl_Fqd"
      },
      "execution_count": null,
      "outputs": []
    },
    {
      "cell_type": "markdown",
      "source": [
        "The output for the following code cells related to CES_cnm.head() were removed to protect PII and/or the raw data. The outputs contained the following columns:\n",
        "* SkelID, Collection, Sex, Age, Population, Population2, Population3, Population4, SSSF, ANS...."
      ],
      "metadata": {
        "id": "Nk7eVsS2DRNZ"
      }
    },
    {
      "cell_type": "code",
      "source": [
        "CES_cnm.head()"
      ],
      "metadata": {
        "id": "JQ0lN2td_v-M"
      },
      "execution_count": null,
      "outputs": []
    },
    {
      "cell_type": "code",
      "source": [
        "del CES_cnm['Population']\n",
        "del CES_cnm['Population2']\n",
        "del CES_cnm['Population3']\n",
        "del CES_cnm['Population4']"
      ],
      "metadata": {
        "id": "WPn3GdDO_zu1"
      },
      "execution_count": null,
      "outputs": []
    },
    {
      "cell_type": "code",
      "source": [
        "CES_cnm.head()"
      ],
      "metadata": {
        "id": "D5bG-8w1AGJD"
      },
      "execution_count": null,
      "outputs": []
    },
    {
      "cell_type": "code",
      "source": [
        "CES_cnm.info()"
      ],
      "metadata": {
        "colab": {
          "base_uri": "https://localhost:8080/"
        },
        "id": "Gv2_NYaLAJK5",
        "outputId": "f48fe368-4977-450a-af7e-5a685f848d49"
      },
      "execution_count": null,
      "outputs": [
        {
          "output_type": "stream",
          "name": "stdout",
          "text": [
            "<class 'pandas.core.frame.DataFrame'>\n",
            "RangeIndex: 97 entries, 0 to 96\n",
            "Data columns (total 53 columns):\n",
            " #   Column               Non-Null Count  Dtype  \n",
            "---  ------               --------------  -----  \n",
            " 0   SkelID               97 non-null     int64  \n",
            " 1   Collection           97 non-null     object \n",
            " 2   Sex                  97 non-null     object \n",
            " 3   Age                  97 non-null     int64  \n",
            " 4   SSSF                 95 non-null     float64\n",
            " 5   ANS                  95 non-null     float64\n",
            " 6   INA                  97 non-null     int64  \n",
            " 7   IOB                  96 non-null     float64\n",
            " 8   NAS                  96 non-null     float64\n",
            " 9   NAW                  95 non-null     float64\n",
            " 10  NBC                  94 non-null     float64\n",
            " 11  NBS                  94 non-null     float64\n",
            " 12  NFS                  95 non-null     float64\n",
            " 13  OBS                  96 non-null     float64\n",
            " 14  TPS                  89 non-null     float64\n",
            " 15  INCA                 80 non-null     float64\n",
            " 16  BREG                 83 non-null     float64\n",
            " 17  PALT                 95 non-null     float64\n",
            " 18  METO                 96 non-null     float64\n",
            " 19  MANT                 91 non-null     float64\n",
            " 20  SON                  97 non-null     int64  \n",
            " 21  SOF                  97 non-null     int64  \n",
            " 22  IFS                  95 non-null     float64\n",
            " 23  ZFF                  97 non-null     int64  \n",
            " 24  CCO                  97 non-null     int64  \n",
            " 25  FOI                  96 non-null     float64\n",
            " 26  FSI                  96 non-null     float64\n",
            " 27  PTB                  97 non-null     int64  \n",
            " 28  TYM                  97 non-null     int64  \n",
            " 29  AUD                  97 non-null     int64  \n",
            " 30  MT                   97 non-null     int64  \n",
            " 31  NO                   94 non-null     float64\n",
            " 32  PZT                  97 non-null     int64  \n",
            " 33  ZS                   92 non-null     float64\n",
            " 34  LBM                  64 non-null     float64\n",
            " 35  LBLa                 80 non-null     float64\n",
            " 36  PF                   95 non-null     float64\n",
            " 37  MF                   96 non-null     float64\n",
            " 38  CRB                  81 non-null     float64\n",
            " 39  EPB                  70 non-null     float64\n",
            " 40  FTA                  81 non-null     float64\n",
            " 41  PNB                  94 non-null     float64\n",
            " 42  AST                  88 non-null     float64\n",
            " 43  OMB                  64 non-null     float64\n",
            " 44  HYP                  96 non-null     float64\n",
            " 45  APF                  97 non-null     int64  \n",
            " 46  MHB                  97 non-null     int64  \n",
            " 47  MEN                  96 non-null     float64\n",
            " 48  MIF                  96 non-null     float64\n",
            " 49  CIV                  95 non-null     float64\n",
            " 50  MFLo                 94 non-null     float64\n",
            " 51  PHAR                 95 non-null     float64\n",
            " 52  Population Affinity  97 non-null     object \n",
            "dtypes: float64(36), int64(14), object(3)\n",
            "memory usage: 40.3+ KB\n"
          ]
        }
      ]
    },
    {
      "cell_type": "code",
      "source": [
        "CES_cnm.replace(9, np.nan, inplace=True)"
      ],
      "metadata": {
        "id": "zBaXcKW8AKth"
      },
      "execution_count": null,
      "outputs": []
    },
    {
      "cell_type": "markdown",
      "source": [
        "Add an empty row (row 97) to make the decimals uniform and then drop that row"
      ],
      "metadata": {
        "id": "WESPBsenB5ux"
      }
    },
    {
      "cell_type": "code",
      "source": [
        "CES_cnm.loc[97] = np.nan"
      ],
      "metadata": {
        "id": "4Hz-SLbuAKy4"
      },
      "execution_count": null,
      "outputs": []
    },
    {
      "cell_type": "markdown",
      "source": [
        "The output for the following code cells related to CES_cnm.tail() and CES_cnm.drop() were removed to protect PII and/or the raw data. The outputs contained the following columns:\n",
        "* SkelID, Collection, Sex, Age, Population, Population2, Population3, Population4, SSSF, ANS...."
      ],
      "metadata": {
        "id": "BvS3lDsIDzg7"
      }
    },
    {
      "cell_type": "code",
      "source": [
        "CES_cnm.tail()"
      ],
      "metadata": {
        "id": "oYoCjuA0AK4D"
      },
      "execution_count": null,
      "outputs": []
    },
    {
      "cell_type": "code",
      "source": [
        "CES_cnm.drop(97)"
      ],
      "metadata": {
        "id": "q1VWvSbmBzXF"
      },
      "execution_count": null,
      "outputs": []
    },
    {
      "cell_type": "code",
      "source": [
        "CES_cnm.info()"
      ],
      "metadata": {
        "colab": {
          "base_uri": "https://localhost:8080/"
        },
        "id": "U8-1KxlkCDNB",
        "outputId": "cd2fe7e6-b482-4bde-f309-c34306b7611c"
      },
      "execution_count": null,
      "outputs": [
        {
          "output_type": "stream",
          "name": "stdout",
          "text": [
            "<class 'pandas.core.frame.DataFrame'>\n",
            "Int64Index: 98 entries, 0 to 97\n",
            "Data columns (total 53 columns):\n",
            " #   Column               Non-Null Count  Dtype  \n",
            "---  ------               --------------  -----  \n",
            " 0   SkelID               97 non-null     float64\n",
            " 1   Collection           97 non-null     object \n",
            " 2   Sex                  97 non-null     object \n",
            " 3   Age                  97 non-null     float64\n",
            " 4   SSSF                 95 non-null     float64\n",
            " 5   ANS                  95 non-null     float64\n",
            " 6   INA                  97 non-null     float64\n",
            " 7   IOB                  96 non-null     float64\n",
            " 8   NAS                  96 non-null     float64\n",
            " 9   NAW                  95 non-null     float64\n",
            " 10  NBC                  94 non-null     float64\n",
            " 11  NBS                  94 non-null     float64\n",
            " 12  NFS                  95 non-null     float64\n",
            " 13  OBS                  96 non-null     float64\n",
            " 14  TPS                  89 non-null     float64\n",
            " 15  INCA                 80 non-null     float64\n",
            " 16  BREG                 83 non-null     float64\n",
            " 17  PALT                 95 non-null     float64\n",
            " 18  METO                 96 non-null     float64\n",
            " 19  MANT                 91 non-null     float64\n",
            " 20  SON                  97 non-null     float64\n",
            " 21  SOF                  97 non-null     float64\n",
            " 22  IFS                  95 non-null     float64\n",
            " 23  ZFF                  97 non-null     float64\n",
            " 24  CCO                  97 non-null     float64\n",
            " 25  FOI                  96 non-null     float64\n",
            " 26  FSI                  96 non-null     float64\n",
            " 27  PTB                  97 non-null     float64\n",
            " 28  TYM                  97 non-null     float64\n",
            " 29  AUD                  97 non-null     float64\n",
            " 30  MT                   97 non-null     float64\n",
            " 31  NO                   94 non-null     float64\n",
            " 32  PZT                  97 non-null     float64\n",
            " 33  ZS                   92 non-null     float64\n",
            " 34  LBM                  64 non-null     float64\n",
            " 35  LBLa                 80 non-null     float64\n",
            " 36  PF                   95 non-null     float64\n",
            " 37  MF                   96 non-null     float64\n",
            " 38  CRB                  81 non-null     float64\n",
            " 39  EPB                  70 non-null     float64\n",
            " 40  FTA                  81 non-null     float64\n",
            " 41  PNB                  94 non-null     float64\n",
            " 42  AST                  88 non-null     float64\n",
            " 43  OMB                  64 non-null     float64\n",
            " 44  HYP                  96 non-null     float64\n",
            " 45  APF                  97 non-null     float64\n",
            " 46  MHB                  97 non-null     float64\n",
            " 47  MEN                  96 non-null     float64\n",
            " 48  MIF                  96 non-null     float64\n",
            " 49  CIV                  95 non-null     float64\n",
            " 50  MFLo                 94 non-null     float64\n",
            " 51  PHAR                 95 non-null     float64\n",
            " 52  Population Affinity  97 non-null     object \n",
            "dtypes: float64(50), object(3)\n",
            "memory usage: 43.4+ KB\n"
          ]
        }
      ]
    },
    {
      "cell_type": "code",
      "source": [
        "CES_cnm_sorted = CES_cnm.sort_index(axis=1, ascending=False)\n",
        "CES_cnm_sorted.info()"
      ],
      "metadata": {
        "colab": {
          "base_uri": "https://localhost:8080/"
        },
        "id": "onEO95DnHOvP",
        "outputId": "c24a9ac5-8132-4cb4-cb48-f08e43964a8e"
      },
      "execution_count": null,
      "outputs": [
        {
          "output_type": "stream",
          "name": "stdout",
          "text": [
            "<class 'pandas.core.frame.DataFrame'>\n",
            "Int64Index: 98 entries, 0 to 97\n",
            "Data columns (total 53 columns):\n",
            " #   Column               Non-Null Count  Dtype  \n",
            "---  ------               --------------  -----  \n",
            " 0   ZS                   92 non-null     float64\n",
            " 1   ZFF                  97 non-null     float64\n",
            " 2   TYM                  97 non-null     float64\n",
            " 3   TPS                  89 non-null     float64\n",
            " 4   SkelID               97 non-null     float64\n",
            " 5   Sex                  97 non-null     object \n",
            " 6   SSSF                 95 non-null     float64\n",
            " 7   SON                  97 non-null     float64\n",
            " 8   SOF                  97 non-null     float64\n",
            " 9   Population Affinity  97 non-null     object \n",
            " 10  PZT                  97 non-null     float64\n",
            " 11  PTB                  97 non-null     float64\n",
            " 12  PNB                  94 non-null     float64\n",
            " 13  PHAR                 95 non-null     float64\n",
            " 14  PF                   95 non-null     float64\n",
            " 15  PALT                 95 non-null     float64\n",
            " 16  OMB                  64 non-null     float64\n",
            " 17  OBS                  96 non-null     float64\n",
            " 18  NO                   94 non-null     float64\n",
            " 19  NFS                  95 non-null     float64\n",
            " 20  NBS                  94 non-null     float64\n",
            " 21  NBC                  94 non-null     float64\n",
            " 22  NAW                  95 non-null     float64\n",
            " 23  NAS                  96 non-null     float64\n",
            " 24  MT                   97 non-null     float64\n",
            " 25  MIF                  96 non-null     float64\n",
            " 26  MHB                  97 non-null     float64\n",
            " 27  MFLo                 94 non-null     float64\n",
            " 28  MF                   96 non-null     float64\n",
            " 29  METO                 96 non-null     float64\n",
            " 30  MEN                  96 non-null     float64\n",
            " 31  MANT                 91 non-null     float64\n",
            " 32  LBM                  64 non-null     float64\n",
            " 33  LBLa                 80 non-null     float64\n",
            " 34  IOB                  96 non-null     float64\n",
            " 35  INCA                 80 non-null     float64\n",
            " 36  INA                  97 non-null     float64\n",
            " 37  IFS                  95 non-null     float64\n",
            " 38  HYP                  96 non-null     float64\n",
            " 39  FTA                  81 non-null     float64\n",
            " 40  FSI                  96 non-null     float64\n",
            " 41  FOI                  96 non-null     float64\n",
            " 42  EPB                  70 non-null     float64\n",
            " 43  Collection           97 non-null     object \n",
            " 44  CRB                  81 non-null     float64\n",
            " 45  CIV                  95 non-null     float64\n",
            " 46  CCO                  97 non-null     float64\n",
            " 47  BREG                 83 non-null     float64\n",
            " 48  Age                  97 non-null     float64\n",
            " 49  AUD                  97 non-null     float64\n",
            " 50  AST                  88 non-null     float64\n",
            " 51  APF                  97 non-null     float64\n",
            " 52  ANS                  95 non-null     float64\n",
            "dtypes: float64(50), object(3)\n",
            "memory usage: 43.4+ KB\n"
          ]
        }
      ]
    },
    {
      "cell_type": "code",
      "source": [
        "CES_cnm = CES_cnm.rename(columns={'Population Affinity': 'Population Name'})"
      ],
      "metadata": {
        "id": "MsIR-Dkk4BHe"
      },
      "execution_count": null,
      "outputs": []
    },
    {
      "cell_type": "code",
      "source": [
        "CES_cnm.replace(9, np.nan, inplace=True)"
      ],
      "metadata": {
        "id": "d83GeafQ4q-S"
      },
      "execution_count": null,
      "outputs": []
    },
    {
      "cell_type": "markdown",
      "source": [
        "The output for the following code cells related to CES_cnm were removed to protect PII and/or the raw data. The outputs contained the following columns:\n",
        "* SkelID, Collection, Sex, Age, SSSF, ANS....Population Name"
      ],
      "metadata": {
        "id": "M9h87rzUEEkE"
      }
    },
    {
      "cell_type": "code",
      "source": [
        "CES_cnm.head()"
      ],
      "metadata": {
        "id": "jNbluFMR4UQ6"
      },
      "execution_count": null,
      "outputs": []
    },
    {
      "cell_type": "code",
      "source": [
        "conditions = [\n",
        "    (CES_cnm['Collection'] == 'US'),\n",
        "    (CES_cnm['Collection'] == 'Japan')]\n",
        "choices = ['AA', 'J']\n",
        "CES_cnm['Population Code'] = np.select(conditions, choices)\n",
        "print(CES_cnm)"
      ],
      "metadata": {
        "id": "tB1jTtaE47Jb"
      },
      "execution_count": null,
      "outputs": []
    },
    {
      "cell_type": "code",
      "source": [
        "CES_cnm.info()"
      ],
      "metadata": {
        "colab": {
          "base_uri": "https://localhost:8080/"
        },
        "id": "QqZ1bOGH5OI2",
        "outputId": "79ced0e2-efcf-4820-9cca-a9287a96639b"
      },
      "execution_count": null,
      "outputs": [
        {
          "output_type": "stream",
          "name": "stdout",
          "text": [
            "<class 'pandas.core.frame.DataFrame'>\n",
            "Int64Index: 98 entries, 0 to 97\n",
            "Data columns (total 54 columns):\n",
            " #   Column           Non-Null Count  Dtype  \n",
            "---  ------           --------------  -----  \n",
            " 0   SkelID           97 non-null     float64\n",
            " 1   Collection       97 non-null     object \n",
            " 2   Sex              97 non-null     object \n",
            " 3   Age              97 non-null     float64\n",
            " 4   SSSF             95 non-null     float64\n",
            " 5   ANS              95 non-null     float64\n",
            " 6   INA              97 non-null     float64\n",
            " 7   IOB              96 non-null     float64\n",
            " 8   NAS              96 non-null     float64\n",
            " 9   NAW              95 non-null     float64\n",
            " 10  NBC              94 non-null     float64\n",
            " 11  NBS              94 non-null     float64\n",
            " 12  NFS              95 non-null     float64\n",
            " 13  OBS              96 non-null     float64\n",
            " 14  TPS              89 non-null     float64\n",
            " 15  INCA             80 non-null     float64\n",
            " 16  BREG             83 non-null     float64\n",
            " 17  PALT             95 non-null     float64\n",
            " 18  METO             96 non-null     float64\n",
            " 19  MANT             91 non-null     float64\n",
            " 20  SON              97 non-null     float64\n",
            " 21  SOF              97 non-null     float64\n",
            " 22  IFS              95 non-null     float64\n",
            " 23  ZFF              97 non-null     float64\n",
            " 24  CCO              97 non-null     float64\n",
            " 25  FOI              96 non-null     float64\n",
            " 26  FSI              96 non-null     float64\n",
            " 27  PTB              97 non-null     float64\n",
            " 28  TYM              97 non-null     float64\n",
            " 29  AUD              97 non-null     float64\n",
            " 30  MT               97 non-null     float64\n",
            " 31  NO               94 non-null     float64\n",
            " 32  PZT              97 non-null     float64\n",
            " 33  ZS               92 non-null     float64\n",
            " 34  LBM              64 non-null     float64\n",
            " 35  LBLa             80 non-null     float64\n",
            " 36  PF               95 non-null     float64\n",
            " 37  MF               96 non-null     float64\n",
            " 38  CRB              81 non-null     float64\n",
            " 39  EPB              70 non-null     float64\n",
            " 40  FTA              81 non-null     float64\n",
            " 41  PNB              94 non-null     float64\n",
            " 42  AST              88 non-null     float64\n",
            " 43  OMB              64 non-null     float64\n",
            " 44  HYP              96 non-null     float64\n",
            " 45  APF              97 non-null     float64\n",
            " 46  MHB              97 non-null     float64\n",
            " 47  MEN              96 non-null     float64\n",
            " 48  MIF              96 non-null     float64\n",
            " 49  CIV              95 non-null     float64\n",
            " 50  MFLo             94 non-null     float64\n",
            " 51  PHAR             95 non-null     float64\n",
            " 52  Population Name  97 non-null     object \n",
            " 53  Population Code  98 non-null     object \n",
            "dtypes: float64(50), object(4)\n",
            "memory usage: 44.2+ KB\n"
          ]
        }
      ]
    },
    {
      "cell_type": "code",
      "source": [
        "CES_cnm.head()"
      ],
      "metadata": {
        "id": "72Iki7U85bnp"
      },
      "execution_count": null,
      "outputs": []
    },
    {
      "cell_type": "code",
      "source": [
        "CES_cnm_dems = pd.DataFrame()\n",
        "CES_cnm_dems['SkelID'] = CES_cnm['SkelID']\n",
        "CES_cnm_dems['Collection'] = CES_cnm['Collection']\n",
        "CES_cnm_dems['Sex'] = CES_cnm['Sex']\n",
        "CES_cnm_dems['Age'] = CES_cnm['Age']\n",
        "CES_cnm_dems['Population Name'] = CES_cnm['Population Name']\n",
        "CES_cnm_dems['Population Code'] = CES_cnm['Population Code']"
      ],
      "metadata": {
        "id": "7wdX6Ies-yzo"
      },
      "execution_count": null,
      "outputs": []
    },
    {
      "cell_type": "markdown",
      "source": [
        "The output for the following code cell related to CES_cnm_dems was removed to protect PII and/or the raw data. The output contained the following columns:\n",
        "* SkelID, Collection, Sex, Age, Population Name, Population Code"
      ],
      "metadata": {
        "id": "4moSubyfEZp6"
      }
    },
    {
      "cell_type": "code",
      "source": [
        "CES_cnm_dems.head()"
      ],
      "metadata": {
        "id": "susnQPGK_KPn"
      },
      "execution_count": null,
      "outputs": []
    },
    {
      "cell_type": "markdown",
      "source": [
        "The output for the following code cell was removed to protect PII and/or the raw data. The output contained the following columns:\n",
        "* SSSF, ANS....PHAR"
      ],
      "metadata": {
        "id": "BYOCVbq4EvVO"
      }
    },
    {
      "cell_type": "code",
      "source": [
        "CES_cnm_VarsOnly = pd.DataFrame(CES_cnm.iloc[:, 4:52])\n",
        "CES_cnm_VarsOnly.head()"
      ],
      "metadata": {
        "id": "dBMAit_w_MG3"
      },
      "execution_count": null,
      "outputs": []
    },
    {
      "cell_type": "code",
      "source": [
        "CES_cnm_VarsOnly_sorted = CES_cnm_VarsOnly.sort_index(axis=1, ascending=True)"
      ],
      "metadata": {
        "id": "zG3NBZ7z_bN6"
      },
      "execution_count": null,
      "outputs": []
    },
    {
      "cell_type": "markdown",
      "source": [
        "The output for the following code cell was removed to protect PII and/or the raw data. The output contained the following columns:\n",
        "* ANS, APF....ZS"
      ],
      "metadata": {
        "id": "8AKEE_UfE4gj"
      }
    },
    {
      "cell_type": "code",
      "source": [
        "CES_cnm_VarsOnly_sorted.head()"
      ],
      "metadata": {
        "id": "HcN_5LWW_mgj"
      },
      "execution_count": null,
      "outputs": []
    },
    {
      "cell_type": "code",
      "source": [
        "CES_cnm_prepped = pd.concat([CES_cnm_dems, CES_cnm_VarsOnly_sorted], axis=1)"
      ],
      "metadata": {
        "id": "Yz230GdK_ohM"
      },
      "execution_count": null,
      "outputs": []
    },
    {
      "cell_type": "markdown",
      "source": [
        "The output for the following code cell was removed to protect PII and/or the raw data. The output contained the following columns:\n",
        "* SkelID, Collection, Sex, Age, Population Name, Population Code, ANS, APF...ZS"
      ],
      "metadata": {
        "id": "vTmBebBgFAPI"
      }
    },
    {
      "cell_type": "code",
      "source": [
        "CES_cnm_prepped.head()"
      ],
      "metadata": {
        "id": "dIzhsdQL_9yF"
      },
      "execution_count": null,
      "outputs": []
    },
    {
      "cell_type": "code",
      "source": [
        "CES_cnm_prepped.info()"
      ],
      "metadata": {
        "colab": {
          "base_uri": "https://localhost:8080/"
        },
        "id": "3VEWhZJyAATt",
        "outputId": "4ec8893e-106b-41a0-c2f9-d713da0f9a35"
      },
      "execution_count": null,
      "outputs": [
        {
          "output_type": "stream",
          "name": "stdout",
          "text": [
            "<class 'pandas.core.frame.DataFrame'>\n",
            "Int64Index: 98 entries, 0 to 97\n",
            "Data columns (total 54 columns):\n",
            " #   Column           Non-Null Count  Dtype  \n",
            "---  ------           --------------  -----  \n",
            " 0   SkelID           97 non-null     float64\n",
            " 1   Collection       97 non-null     object \n",
            " 2   Sex              97 non-null     object \n",
            " 3   Age              97 non-null     float64\n",
            " 4   Population Name  97 non-null     object \n",
            " 5   Population Code  98 non-null     object \n",
            " 6   ANS              95 non-null     float64\n",
            " 7   APF              97 non-null     float64\n",
            " 8   AST              88 non-null     float64\n",
            " 9   AUD              97 non-null     float64\n",
            " 10  BREG             83 non-null     float64\n",
            " 11  CCO              97 non-null     float64\n",
            " 12  CIV              95 non-null     float64\n",
            " 13  CRB              81 non-null     float64\n",
            " 14  EPB              70 non-null     float64\n",
            " 15  FOI              96 non-null     float64\n",
            " 16  FSI              96 non-null     float64\n",
            " 17  FTA              81 non-null     float64\n",
            " 18  HYP              96 non-null     float64\n",
            " 19  IFS              95 non-null     float64\n",
            " 20  INA              97 non-null     float64\n",
            " 21  INCA             80 non-null     float64\n",
            " 22  IOB              96 non-null     float64\n",
            " 23  LBLa             80 non-null     float64\n",
            " 24  LBM              64 non-null     float64\n",
            " 25  MANT             91 non-null     float64\n",
            " 26  MEN              96 non-null     float64\n",
            " 27  METO             96 non-null     float64\n",
            " 28  MF               96 non-null     float64\n",
            " 29  MFLo             94 non-null     float64\n",
            " 30  MHB              97 non-null     float64\n",
            " 31  MIF              96 non-null     float64\n",
            " 32  MT               97 non-null     float64\n",
            " 33  NAS              96 non-null     float64\n",
            " 34  NAW              95 non-null     float64\n",
            " 35  NBC              94 non-null     float64\n",
            " 36  NBS              94 non-null     float64\n",
            " 37  NFS              95 non-null     float64\n",
            " 38  NO               94 non-null     float64\n",
            " 39  OBS              96 non-null     float64\n",
            " 40  OMB              64 non-null     float64\n",
            " 41  PALT             95 non-null     float64\n",
            " 42  PF               95 non-null     float64\n",
            " 43  PHAR             95 non-null     float64\n",
            " 44  PNB              94 non-null     float64\n",
            " 45  PTB              97 non-null     float64\n",
            " 46  PZT              97 non-null     float64\n",
            " 47  SOF              97 non-null     float64\n",
            " 48  SON              97 non-null     float64\n",
            " 49  SSSF             95 non-null     float64\n",
            " 50  TPS              89 non-null     float64\n",
            " 51  TYM              97 non-null     float64\n",
            " 52  ZFF              97 non-null     float64\n",
            " 53  ZS               92 non-null     float64\n",
            "dtypes: float64(50), object(4)\n",
            "memory usage: 44.2+ KB\n"
          ]
        }
      ]
    },
    {
      "cell_type": "markdown",
      "source": [
        "The output for the following code cell was removed to protect PII and/or the raw data. The output contained the following columns:\n",
        "* SkelID, Collection, Sex, Age, Population Name, Population Code, ANS, APF...ZS"
      ],
      "metadata": {
        "id": "lGcrI_6mFWaE"
      }
    },
    {
      "cell_type": "code",
      "source": [
        "CES_cnm_prepped_US = CES_cnm_prepped[CES_cnm_prepped['Collection'] == 'US']\n",
        "CES_cnm_prepped_US.head(100)"
      ],
      "metadata": {
        "id": "l3xsgYfgBLrt"
      },
      "execution_count": null,
      "outputs": []
    },
    {
      "cell_type": "markdown",
      "source": [
        "The output for the following code cell was removed to protect PII and/or the raw data. The output contained the following columns:\n",
        "* SkelID, Collection, Sex, Age, Population Name, Population Code, ANS, APF...ZS\n",
        "\n",
        "The prefix 'US-' was added to all SkelID values."
      ],
      "metadata": {
        "id": "91dIA6EIFujo"
      }
    },
    {
      "cell_type": "code",
      "source": [
        "CES_cnm_prepped_US['SkelID'] ='US-' + CES_cnm_prepped_US['SkelID'].astype(str)\n",
        "CES_cnm_prepped_US.head()"
      ],
      "metadata": {
        "id": "dddJNJRrCw94"
      },
      "execution_count": null,
      "outputs": []
    },
    {
      "cell_type": "markdown",
      "source": [
        "The output for the following code cells were removed to protect PII and/or the raw data. The outputs contained the following columns:\n",
        "* SkelID, Collection, Sex, Age, Population Name, Population Code, ANS, APF...ZS\n",
        "\n",
        "In the second code cell, the prefix 'J-' was added to all SkelID values."
      ],
      "metadata": {
        "id": "pjvpvhn7F8pl"
      }
    },
    {
      "cell_type": "code",
      "source": [
        "CES_cnm_prepped_Japan = CES_cnm_prepped[CES_cnm_prepped['Collection'] == 'Japan']\n",
        "CES_cnm_prepped_Japan.head(100)"
      ],
      "metadata": {
        "id": "4oSXW2R8B51m"
      },
      "execution_count": null,
      "outputs": []
    },
    {
      "cell_type": "code",
      "source": [
        "CES_cnm_prepped_Japan['SkelID'] ='J-' + CES_cnm_prepped_Japan['SkelID'].astype(str)\n",
        "CES_cnm_prepped_Japan.head()"
      ],
      "metadata": {
        "id": "GQdS9Jt6CWCA"
      },
      "execution_count": null,
      "outputs": []
    },
    {
      "cell_type": "code",
      "source": [
        "CES_cnm_prepped = CES_cnm_prepped_US.append(CES_cnm_prepped_Japan)"
      ],
      "metadata": {
        "id": "KmkoqU7TC_gU"
      },
      "execution_count": null,
      "outputs": []
    },
    {
      "cell_type": "markdown",
      "source": [
        "The output for the following code cells related to CES_cnm_prepped were removed to protect PII and/or the raw data. The outputs contained the following columns:\n",
        "* SkelID, Collection, Sex, Age, Population Name, Population Code, ANS, APF...ZS\n",
        "* SkelID values include either prefix 'US-' or 'J-'"
      ],
      "metadata": {
        "id": "FtRDIZOmGUuO"
      }
    },
    {
      "cell_type": "code",
      "source": [
        "CES_cnm_prepped.head()"
      ],
      "metadata": {
        "id": "U9eiYsGpDKcj"
      },
      "execution_count": null,
      "outputs": []
    },
    {
      "cell_type": "code",
      "source": [
        "CES_cnm_prepped.tail()"
      ],
      "metadata": {
        "id": "D1tByIhNDMhH"
      },
      "execution_count": null,
      "outputs": []
    },
    {
      "cell_type": "code",
      "source": [
        "'''\n",
        "CES_cnm = CES_cnm[['SkelID', 'Collection', 'Sex', 'Age', 'Population Name', 'Population Code', 'SSSF', 'ANS', 'INA', 'IOB', 'NAS', 'NAW', 'NBC', 'NBS', 'NFS', 'OBS', 'TPS', 'INCA', 'BREG',\n",
        "                   'PALT', 'METO', 'MANT', 'SON', 'SOF', 'IFS', 'ZFF', 'CCO', 'FOI', 'FSI', 'PTB', 'TYM', 'AUD', 'MT', 'NO', 'PZT', 'ZS', 'LBM', 'LBLa', 'PF', 'MF', 'CRB', 'EPB', 'FTA',\n",
        "                   'PNB', 'AST', 'OMB', 'HYP', 'APF', 'MHB', 'MEN', 'CIV', 'MFLo', 'PHAR']]\n",
        "                   '''"
      ],
      "metadata": {
        "id": "RCt8hhj_5ReH"
      },
      "execution_count": null,
      "outputs": []
    },
    {
      "cell_type": "code",
      "source": [
        "del CES_cnm_prepped['AUD']"
      ],
      "metadata": {
        "id": "T2lZF5hSdLC1"
      },
      "execution_count": null,
      "outputs": []
    },
    {
      "cell_type": "markdown",
      "source": [
        "#### Output file: CES_cnm_prepped"
      ],
      "metadata": {
        "id": "kQFbIxDLAIKx"
      }
    },
    {
      "cell_type": "code",
      "source": [
        "CES_cnm_prepped.to_excel('/drive/My Drive/Colab Notebooks/Statistical analysis/Aim 2 - Microevolution/CES_cnm_prepped.xlsx', index=False)"
      ],
      "metadata": {
        "id": "99k0MCTHAIKx"
      },
      "execution_count": null,
      "outputs": []
    },
    {
      "cell_type": "markdown",
      "source": [
        "## Prep CES for Comp1 & Comp2"
      ],
      "metadata": {
        "id": "gBVZPsXZBqcw"
      }
    },
    {
      "cell_type": "code",
      "source": [
        "CES_cnm_prepped = pd.read_excel('CES_cnm_prepped.xlsx')"
      ],
      "metadata": {
        "id": "NnOplxwSCKo0"
      },
      "execution_count": null,
      "outputs": []
    },
    {
      "cell_type": "code",
      "source": [
        "CES_cnm_prepped.head()"
      ],
      "metadata": {
        "id": "LbikQEcWCKo1"
      },
      "execution_count": null,
      "outputs": []
    },
    {
      "cell_type": "code",
      "source": [
        "CES_Comp1_Comp2_prepped = pd.DataFrame(CES_cnm_prepped.iloc[:,:])"
      ],
      "metadata": {
        "id": "zA6JI9HbCNrk"
      },
      "execution_count": null,
      "outputs": []
    },
    {
      "cell_type": "code",
      "source": [
        "del CES_Comp1_Comp2_prepped['ZFF']\n",
        "del CES_Comp1_Comp2_prepped['FOI']\n",
        "del CES_Comp1_Comp2_prepped['FSI']\n",
        "#del CES_Comp1_Comp2_prepped['AUD']\n",
        "del CES_Comp1_Comp2_prepped['ANS']\n",
        "del CES_Comp1_Comp2_prepped['INA']\n",
        "del CES_Comp1_Comp2_prepped['IOB']\n",
        "del CES_Comp1_Comp2_prepped['MT']\n",
        "del CES_Comp1_Comp2_prepped['NAS']\n",
        "del CES_Comp1_Comp2_prepped['NAW']\n",
        "del CES_Comp1_Comp2_prepped['NBC']\n",
        "del CES_Comp1_Comp2_prepped['NBS']\n",
        "del CES_Comp1_Comp2_prepped['NO']\n",
        "del CES_Comp1_Comp2_prepped['NFS']\n",
        "del CES_Comp1_Comp2_prepped['OBS']\n",
        "#del CES_Comp1_Comp2_prepped['PBD']\n",
        "del CES_Comp1_Comp2_prepped['PZT']\n",
        "#del CES_Comp1_Comp2_prepped['SPS']\n",
        "del CES_Comp1_Comp2_prepped['TPS']\n",
        "#del CES_Comp1_Comp2_prepped['PS']\n",
        "del CES_Comp1_Comp2_prepped['ZS']\n",
        "#del CES_Comp1_Comp2_prepped['FF']\n",
        "#del CES_Comp1_Comp2_prepped['MVP']\n",
        "#del CES_Comp1_Comp2_prepped['TWIG']\n",
        "#del CES_Comp1_Comp2_prepped['LBSO']\n",
        "#del CES_Comp1_Comp2_prepped['APIC']\n",
        "#del CES_Comp1_Comp2_prepped['SAGB']"
      ],
      "metadata": {
        "id": "ZCkvySdiCN0n"
      },
      "execution_count": null,
      "outputs": []
    },
    {
      "cell_type": "markdown",
      "source": [
        "## Prep CES for Comp3 match"
      ],
      "metadata": {
        "id": "DPsZuuQaDfZY"
      }
    },
    {
      "cell_type": "code",
      "source": [
        "CES_cnm_prepped = pd.read_excel('CES_cnm_prepped.xlsx')"
      ],
      "metadata": {
        "id": "-ApNgipFDhpt"
      },
      "execution_count": null,
      "outputs": []
    },
    {
      "cell_type": "code",
      "source": [
        "CES_cnm_prepped.head()"
      ],
      "metadata": {
        "id": "LL2lAm7yDhuo"
      },
      "execution_count": null,
      "outputs": []
    },
    {
      "cell_type": "code",
      "source": [
        "CES_Comp3_match = pd.DataFrame()"
      ],
      "metadata": {
        "id": "gCDMQM_6Dhwr"
      },
      "execution_count": null,
      "outputs": []
    },
    {
      "cell_type": "code",
      "source": [
        "CES_Comp3_match['SkelID'] = CES_cnm_prepped['SkelID']\n",
        "CES_Comp3_match['Collection'] = CES_cnm_prepped['Collection']\n",
        "CES_Comp3_match['Sex'] = CES_cnm_prepped['Sex']\n",
        "CES_Comp3_match['Age'] = CES_cnm_prepped['Age']\n",
        "CES_Comp3_match['Population Name'] = CES_cnm_prepped['Population Name']\n",
        "CES_Comp3_match['Population Code'] = CES_cnm_prepped['Population Code']\n",
        "CES_Comp3_match['ANS'] = CES_cnm_prepped['ANS']\n",
        "CES_Comp3_match['INA'] = CES_cnm_prepped['INA']\n",
        "CES_Comp3_match['IOB'] = CES_cnm_prepped['IOB']\n",
        "CES_Comp3_match['MT'] = CES_cnm_prepped['MT']\n",
        "CES_Comp3_match['NAS'] = CES_cnm_prepped['NAS']\n",
        "CES_Comp3_match['NAW'] = CES_cnm_prepped['NAW']\n",
        "CES_Comp3_match['NBC'] = CES_cnm_prepped['NBC']\n",
        "CES_Comp3_match['NBS'] = CES_cnm_prepped['NBS']\n",
        "CES_Comp3_match['NO'] = CES_cnm_prepped['NO']\n",
        "CES_Comp3_match['NFS'] = CES_cnm_prepped['NFS']\n",
        "CES_Comp3_match['OBS'] = CES_cnm_prepped['OBS']\n",
        "#CES_Comp3_match['PBD'] = CES_cnm_prepped['PBD']     # removed previously due to low IO agreement\n",
        "CES_Comp3_match['PZT'] = CES_cnm_prepped['PZT']\n",
        "#CES_Comp3_match['SPS'] = CES_cnm_prepped['SPS']     # removed previously due to IO agreement\n",
        "CES_Comp3_match['TPS'] = CES_cnm_prepped['TPS']\n",
        "#CES_Comp3_match['PS'] = CES_cnm_prepped['PS']       # removed previously because the Japan collection didn't have this trait\n",
        "CES_Comp3_match['ZS'] = CES_cnm_prepped['ZS']"
      ],
      "metadata": {
        "id": "fUG8Zsi4DzcY"
      },
      "execution_count": null,
      "outputs": []
    },
    {
      "cell_type": "markdown",
      "source": [
        "The output for the following code cell was removed to protect PII and/or the raw data. The output contained the following columns:\n",
        "* SkelID, Collection, Sex, Age, Population Name, Population Code, ANS, APF...ZS"
      ],
      "metadata": {
        "id": "jAW4clOIHVei"
      }
    },
    {
      "cell_type": "code",
      "source": [
        "CES_Comp3_match.head()"
      ],
      "metadata": {
        "id": "fBbtemeqEy6E"
      },
      "execution_count": null,
      "outputs": []
    },
    {
      "cell_type": "markdown",
      "source": [
        "#### Output file: CES_Comp3_match"
      ],
      "metadata": {
        "id": "-q07Ycs5GRBX"
      }
    },
    {
      "cell_type": "code",
      "source": [
        "CES_Comp3_match.to_excel('/drive/My Drive/Colab Notebooks/Statistical analysis/Aim 2 - Microevolution/CES_Comp3_match.xlsx', index=False)"
      ],
      "metadata": {
        "id": "efU0fiFvGRBY"
      },
      "execution_count": null,
      "outputs": []
    },
    {
      "cell_type": "markdown",
      "source": [
        "Because TMD can only handle present/absent traits, the only traits that can be used in the TMD analysis for the CES and Comp3 datasets are:\n",
        "\n",
        "\n",
        "*   MT\n",
        "*   NO\n",
        "*   PBD\n",
        "*   SPS\n",
        "*   ZS\n",
        "\n",
        "But I cannot use PBD or SPS because they had low IO agreement...so the only traits in the analysis will be MT, NO, and ZS...\n",
        "\n"
      ],
      "metadata": {
        "id": "eVxZ9iDRFfo6"
      }
    },
    {
      "cell_type": "code",
      "source": [
        "CES_Comp3_prepped = pd.DataFrame()"
      ],
      "metadata": {
        "id": "oAJQvIKoF8vS"
      },
      "execution_count": null,
      "outputs": []
    },
    {
      "cell_type": "code",
      "source": [
        "CES_Comp3_prepped['SkelID'] = CES_Comp3_match['SkelID']\n",
        "CES_Comp3_prepped['Collection'] = CES_Comp3_match['Collection']\n",
        "CES_Comp3_prepped['Sex'] = CES_Comp3_match['Sex']\n",
        "CES_Comp3_prepped['Age'] = CES_Comp3_match['Age']\n",
        "CES_Comp3_prepped['Population Name'] = CES_Comp3_match['Population Name']\n",
        "CES_Comp3_prepped['Population Code'] = CES_Comp3_match['Population Code']\n",
        "CES_Comp3_prepped['MT'] = CES_Comp3_match['MT']\n",
        "CES_Comp3_prepped['NO'] = CES_Comp3_match['NO']\n",
        "CES_Comp3_prepped['PZT'] = CES_Comp3_match['PZT']\n",
        "CES_Comp3_prepped['ZS'] = CES_Comp3_match['ZS']"
      ],
      "metadata": {
        "id": "4LzPDlL6Fe-q"
      },
      "execution_count": null,
      "outputs": []
    },
    {
      "cell_type": "markdown",
      "source": [
        "The output for the following code cell was removed to protect PII and/or the raw data. The output contained the following columns:\n",
        "* SkelID, Collection, Sex, Age, Population Name, Population Code, MT, NO, PZT, ZS"
      ],
      "metadata": {
        "id": "_zV0vKpWHvlU"
      }
    },
    {
      "cell_type": "code",
      "source": [
        "CES_Comp3_prepped.head()"
      ],
      "metadata": {
        "id": "2fWCxBFDF82N"
      },
      "execution_count": null,
      "outputs": []
    },
    {
      "cell_type": "code",
      "source": [
        "CES_Comp3_prepped['MT'].unique()"
      ],
      "metadata": {
        "colab": {
          "base_uri": "https://localhost:8080/"
        },
        "id": "UJNXxdN7F89S",
        "outputId": "88c6d666-11a3-4aca-b79e-2f86269088bd"
      },
      "execution_count": null,
      "outputs": [
        {
          "output_type": "execute_result",
          "data": {
            "text/plain": [
              "array([3, 2, 1, 0])"
            ]
          },
          "metadata": {},
          "execution_count": 19
        }
      ]
    },
    {
      "cell_type": "markdown",
      "source": [
        "#### Output file: CES_Comp3_for_TMD"
      ],
      "metadata": {
        "id": "vYFHoVCBG3R2"
      }
    },
    {
      "cell_type": "code",
      "source": [
        "CES_Comp3_prepped.to_excel('/drive/My Drive/Colab Notebooks/Statistical analysis/Aim 2 - Microevolution/CES_Comp3_prepped.xlsx', index=False)"
      ],
      "metadata": {
        "id": "sFtNzF4vG3R2"
      },
      "execution_count": null,
      "outputs": []
    },
    {
      "cell_type": "markdown",
      "source": [
        "---"
      ],
      "metadata": {
        "id": "RDMo17F69Gmf"
      }
    },
    {
      "cell_type": "markdown",
      "source": [
        "# Comp1 data"
      ],
      "metadata": {
        "id": "gRXA7mWUL5M2"
      }
    },
    {
      "cell_type": "code",
      "source": [
        "Comp1_cnm = pd.read_excel('Comp1_cnm_for_analysis.xlsx')"
      ],
      "metadata": {
        "id": "IFHTaMgh6pVL"
      },
      "execution_count": null,
      "outputs": []
    },
    {
      "cell_type": "markdown",
      "source": [
        "The output for the following code cells were removed to protect PII and/or the raw data. The outputs contained the following columns:\n",
        "* ID, Curator, Sex, Race, Birth Year, Age at Death, Lamb Oss Med R, Lamb Odd Med L...."
      ],
      "metadata": {
        "id": "SNZ4HjiVH9ud"
      }
    },
    {
      "cell_type": "code",
      "source": [
        "Comp1_cnm.head()"
      ],
      "metadata": {
        "id": "XfQGUlYU66ZB"
      },
      "execution_count": null,
      "outputs": []
    },
    {
      "cell_type": "code",
      "source": [
        "Comp1_cnm.info()"
      ],
      "metadata": {
        "id": "gA_jDZTPFmhH"
      },
      "execution_count": null,
      "outputs": []
    },
    {
      "cell_type": "markdown",
      "source": [
        "### Rename Comp1 data"
      ],
      "metadata": {
        "id": "GjYwjuySK5iZ"
      }
    },
    {
      "cell_type": "code",
      "source": [
        "Comp1cnm_renamed = Comp1_cnm.rename(columns={'Meto': 'METO',\n",
        "                                  'Inca': 'INCA',\n",
        "                                  'Lamb Oss Med R': 'LBMR',\n",
        "                                  'Lamb Oss Med L': 'LBML',\n",
        "                                  'Lamb Oss Lat R': 'LBLaR',\n",
        "                                  'Lamb Oss Lat L': 'LBLaL',\n",
        "                                  'Mast for R': 'OMBR',\n",
        "                                  'Mast for L': 'OMBL',\n",
        "                                  'Oss Ast R': 'ASTR',\n",
        "                                  'Oss Ast L': 'ASTL',\n",
        "                                  'Par not R': 'PNBR',\n",
        "                                  'Par not L': 'PNBL',\n",
        "                                  'Pharyng fos': 'PHAR',\n",
        "                                  'Ant cc dbl R': 'HYPR',\n",
        "                                  'Ant cc dbl L': 'HYPL',\n",
        "                                  'Os Mast R': 'OMBR',\n",
        "                                  'Os Mast L': 'OMBL',\n",
        "                                  'Huschke R': 'TYMR',\n",
        "                                  'Huschke L': 'TYML',\n",
        "                                  'Sup comp R': 'SOFR',\n",
        "                                  'Sup comp L': 'SOFL',\n",
        "                                  'Acc mf R': 'MENR',\n",
        "                                  'Acc mf L': 'MENL',\n",
        "                                  'Mylo brg R': 'MHBR',\n",
        "                                  'Mylo brg L': 'MHBL',\n",
        "                                  'Par Form R': 'PFR',\n",
        "                                  'Par Form L': 'PFL',\n",
        "                                  'Mast for R': 'MFR',\n",
        "                                  'Mast for L': 'MFL',\n",
        "                                  'Cor oss R': 'CRBR',\n",
        "                                  'Cor oss L': 'CRBL',\n",
        "                                  'Epit R': 'EPBR',\n",
        "                                  'Epit L': 'EPBL',\n",
        "                                  'F-T Art R': 'FTAR',\n",
        "                                  'F-T Art L': 'FTAL',\n",
        "                                  'Acc pal R': 'APFR',\n",
        "                                  'Acc pal L': 'APFL',\n",
        "                                  'Sut inforb for R': 'IFSR',\n",
        "                                  'Sut inforb for L': 'IFSL',\n",
        "                                  'Acc infra for R': 'MIFR',\n",
        "                                  'Acc infra for L': 'MIFL',\n",
        "                                  'Sag oss': 'SAGB',\n",
        "                                  'Bregma bone': 'BREG',\n",
        "                                  'Pal torus': 'PALT',\n",
        "                                  'Mand torus': 'MANT',\n",
        "                                  'Sup left': 'SSSF',\n",
        "                                  'Mast for exsut R': 'MFLoR',\n",
        "                                  'Mast for exsut L': 'MFLoL',\n",
        "                                  'Fr for R': 'FFR',\n",
        "                                  'Fr for L': 'FFL',\n",
        "                                  'Oss lambda': 'APIC'})\n",
        "Comp1cnm_renamed.info()"
      ],
      "metadata": {
        "id": "Rll107eDGFfl"
      },
      "execution_count": null,
      "outputs": []
    },
    {
      "cell_type": "markdown",
      "source": [
        "### Collapse Comp1 sided traits"
      ],
      "metadata": {
        "id": "iJBd-SmcK9LP"
      }
    },
    {
      "cell_type": "code",
      "source": [
        "Comp1_cnm_sidedVars_collapsing = pd.DataFrame(Comp1cnm_renamed.iloc[:, 6:46])"
      ],
      "metadata": {
        "id": "6jcuISxIFV0b"
      },
      "execution_count": null,
      "outputs": []
    },
    {
      "cell_type": "markdown",
      "source": [
        "The output for the following code cell was removed to protect PII and/or the raw data. The output contained the following columns:\n",
        "* LBMR, LBML....MENR, MENL"
      ],
      "metadata": {
        "id": "00_QjpuyIbtj"
      }
    },
    {
      "cell_type": "code",
      "source": [
        "Comp1_cnm_sidedVars_collapsing.head()"
      ],
      "metadata": {
        "id": "SHEMJLZYFt1n"
      },
      "execution_count": null,
      "outputs": []
    },
    {
      "cell_type": "code",
      "source": [
        "Comp1_cnm_sidedVars_collapsing.info()"
      ],
      "metadata": {
        "id": "0DqSSGL8HF0l"
      },
      "execution_count": null,
      "outputs": []
    },
    {
      "cell_type": "code",
      "source": [
        "our_column_names = []                    # create an empty list for the column names\n",
        "for t in list(Comp1_cnm_sidedVars_collapsing.columns):\n",
        "    if t[-1] == 'L':                     # find all column names that end in L (double check that on Lefts end in L prior to this step)\n",
        "        our_column_names.append(t[:-1])  # t[:-1] truncates the last letter (L or R) from the col name\n",
        "print(our_column_names)"
      ],
      "metadata": {
        "colab": {
          "base_uri": "https://localhost:8080/"
        },
        "id": "K_FyKTMHFuT-",
        "outputId": "2f944c70-5781-4be7-a582-b25d6eb87807"
      },
      "execution_count": null,
      "outputs": [
        {
          "output_type": "stream",
          "name": "stdout",
          "text": [
            "['LBM', 'LBLa', 'PF', 'MF', 'MFLo', 'CRB', 'EPB', 'FTA', 'PNB', 'AST', 'OMB', 'TYM', 'HYP', 'APF', 'SOF', 'FF', 'IFS', 'MIF', 'MHB', 'MEN']\n"
          ]
        }
      ]
    },
    {
      "cell_type": "markdown",
      "source": [
        "The output for the following code cell was removed to protect PII and/or the raw data. The output contained the following columns:\n",
        "* LBMR, LBML....MENR, MENL"
      ],
      "metadata": {
        "id": "g54rtiR3Iszc"
      }
    },
    {
      "cell_type": "code",
      "source": [
        "Comp1_cnm_sidedVars_collapsing.head()"
      ],
      "metadata": {
        "id": "PNRiatXkHZGd"
      },
      "execution_count": null,
      "outputs": []
    },
    {
      "cell_type": "code",
      "source": [
        "for c in our_column_names:\n",
        "    c_l = c +'L'                                # loop through all Lefts in variable c_l\n",
        "    c_r = c + 'R'                               # loop through all Rights in variable c_r\n",
        "    #print(value)\n",
        "    Comp1_cnm_sidedVars_collapsing[c] = Comp1_cnm_sidedVars_collapsing[c_l]                     # overwrite the base (unsided) column variables (c) with Left values (c_l)\n",
        "    Comp1_cnm_sidedVars_collapsing['mask'] = (Comp1_cnm_sidedVars_collapsing[c].isnull())       # create a mask variable where all NaNs will be True\n",
        "\n",
        "    Comp1_cnm_sidedVars_collapsing.loc[Comp1_cnm_sidedVars_collapsing['mask'], c] = Comp1_cnm_sidedVars_collapsing[c_r] # for rows that have NaNs in 'mask', overwrite the corresponding value in c with the value from the Right side (c_r)\n",
        "    print(Comp1_cnm_sidedVars_collapsing[c].tail(15))                   # print the unsided columns tail to check for\n",
        "#print(Comp1_cnm_sidedVars_collapsing['SON'].head())\n",
        "#print(Comp1_cnm_sidedVars_collapsing['FOI'].tail(10))"
      ],
      "metadata": {
        "colab": {
          "base_uri": "https://localhost:8080/"
        },
        "id": "VqRr_8wwHZ3s",
        "outputId": "19c2158a-4835-4680-9b33-9bf103f7caed"
      },
      "execution_count": null,
      "outputs": [
        {
          "output_type": "stream",
          "name": "stdout",
          "text": [
            "225    1.0\n",
            "226    0.0\n",
            "227    0.0\n",
            "228    0.0\n",
            "229    0.0\n",
            "230    0.0\n",
            "231    NaN\n",
            "232    0.0\n",
            "233    0.0\n",
            "234    0.0\n",
            "235    0.0\n",
            "236    NaN\n",
            "237    0.0\n",
            "238    1.0\n",
            "239    0.0\n",
            "Name: LBM, dtype: float64\n",
            "225    0.0\n",
            "226    0.0\n",
            "227    1.0\n",
            "228    0.0\n",
            "229    1.0\n",
            "230    1.0\n",
            "231    NaN\n",
            "232    0.0\n",
            "233    0.0\n",
            "234    1.0\n",
            "235    1.0\n",
            "236    1.0\n",
            "237    0.0\n",
            "238    0.0\n",
            "239    0.0\n",
            "Name: LBLa, dtype: float64\n",
            "225    1.0\n",
            "226    0.0\n",
            "227    1.0\n",
            "228    1.0\n",
            "229    1.0\n",
            "230    1.0\n",
            "231    1.0\n",
            "232    1.0\n",
            "233    1.0\n",
            "234    1.0\n",
            "235    0.0\n",
            "236    1.0\n",
            "237    1.0\n",
            "238    1.0\n",
            "239    1.0\n",
            "Name: PF, dtype: float64\n",
            "225    1.0\n",
            "226    1.0\n",
            "227    1.0\n",
            "228    1.0\n",
            "229    0.0\n",
            "230    1.0\n",
            "231    1.0\n",
            "232    1.0\n",
            "233    1.0\n",
            "234    0.0\n",
            "235    1.0\n",
            "236    1.0\n",
            "237    1.0\n",
            "238    1.0\n",
            "239    1.0\n",
            "Name: MF, dtype: float64\n",
            "225    1.0\n",
            "226    0.0\n",
            "227    1.0\n",
            "228    0.0\n",
            "229    0.0\n",
            "230    0.0\n",
            "231    1.0\n",
            "232    0.0\n",
            "233    0.0\n",
            "234    0.0\n",
            "235    0.0\n",
            "236    0.0\n",
            "237    1.0\n",
            "238    1.0\n",
            "239    1.0\n",
            "Name: MFLo, dtype: float64\n",
            "225    1.0\n",
            "226    0.0\n",
            "227    1.0\n",
            "228    NaN\n",
            "229    0.0\n",
            "230    1.0\n",
            "231    1.0\n",
            "232    1.0\n",
            "233    0.0\n",
            "234    1.0\n",
            "235    0.0\n",
            "236    1.0\n",
            "237    1.0\n",
            "238    1.0\n",
            "239    0.0\n",
            "Name: CRB, dtype: float64\n",
            "225    1.0\n",
            "226    0.0\n",
            "227    0.0\n",
            "228    NaN\n",
            "229    0.0\n",
            "230    NaN\n",
            "231    0.0\n",
            "232    0.0\n",
            "233    0.0\n",
            "234    0.0\n",
            "235    0.0\n",
            "236    0.0\n",
            "237    0.0\n",
            "238    0.0\n",
            "239    0.0\n",
            "Name: EPB, dtype: float64\n",
            "225    0.0\n",
            "226    0.0\n",
            "227    0.0\n",
            "228    NaN\n",
            "229    0.0\n",
            "230    1.0\n",
            "231    0.0\n",
            "232    0.0\n",
            "233    0.0\n",
            "234    0.0\n",
            "235    0.0\n",
            "236    0.0\n",
            "237    0.0\n",
            "238    0.0\n",
            "239    0.0\n",
            "Name: FTA, dtype: float64\n",
            "225    1.0\n",
            "226    0.0\n",
            "227    0.0\n",
            "228    1.0\n",
            "229    0.0\n",
            "230    0.0\n",
            "231    0.0\n",
            "232    1.0\n",
            "233    0.0\n",
            "234    0.0\n",
            "235    0.0\n",
            "236    0.0\n",
            "237    NaN\n",
            "238    0.0\n",
            "239    0.0\n",
            "Name: PNB, dtype: float64\n",
            "225    0.0\n",
            "226    0.0\n",
            "227    0.0\n",
            "228    0.0\n",
            "229    0.0\n",
            "230    0.0\n",
            "231    0.0\n",
            "232    1.0\n",
            "233    0.0\n",
            "234    1.0\n",
            "235    0.0\n",
            "236    1.0\n",
            "237    0.0\n",
            "238    0.0\n",
            "239    0.0\n",
            "Name: AST, dtype: float64\n",
            "225    0.0\n",
            "226    0.0\n",
            "227    0.0\n",
            "228    NaN\n",
            "229    0.0\n",
            "230    1.0\n",
            "231    NaN\n",
            "232    0.0\n",
            "233    0.0\n",
            "234    0.0\n",
            "235    0.0\n",
            "236    0.0\n",
            "237    0.0\n",
            "238    0.0\n",
            "239    1.0\n",
            "Name: OMB, dtype: float64\n",
            "225    0.0\n",
            "226    0.0\n",
            "227    0.0\n",
            "228    0.0\n",
            "229    0.0\n",
            "230    0.0\n",
            "231    0.0\n",
            "232    1.0\n",
            "233    0.0\n",
            "234    0.0\n",
            "235    0.0\n",
            "236    0.0\n",
            "237    0.0\n",
            "238    0.0\n",
            "239    0.0\n",
            "Name: TYM, dtype: float64\n",
            "225    0.0\n",
            "226    0.0\n",
            "227    1.0\n",
            "228    1.0\n",
            "229    0.0\n",
            "230    0.0\n",
            "231    0.0\n",
            "232    0.0\n",
            "233    1.0\n",
            "234    0.0\n",
            "235    1.0\n",
            "236    0.0\n",
            "237    0.0\n",
            "238    0.0\n",
            "239    0.0\n",
            "Name: HYP, dtype: float64\n",
            "225    0.0\n",
            "226    0.0\n",
            "227    0.0\n",
            "228    NaN\n",
            "229    0.0\n",
            "230    0.0\n",
            "231    1.0\n",
            "232    0.0\n",
            "233    0.0\n",
            "234    1.0\n",
            "235    0.0\n",
            "236    0.0\n",
            "237    1.0\n",
            "238    NaN\n",
            "239    0.0\n",
            "Name: APF, dtype: float64\n",
            "225    0.0\n",
            "226    0.0\n",
            "227    1.0\n",
            "228    NaN\n",
            "229    1.0\n",
            "230    0.0\n",
            "231    0.0\n",
            "232    0.0\n",
            "233    1.0\n",
            "234    0.0\n",
            "235    1.0\n",
            "236    0.0\n",
            "237    0.0\n",
            "238    0.0\n",
            "239    0.0\n",
            "Name: SOF, dtype: float64\n",
            "225    0.0\n",
            "226    0.0\n",
            "227    1.0\n",
            "228    NaN\n",
            "229    0.0\n",
            "230    0.0\n",
            "231    0.0\n",
            "232    1.0\n",
            "233    0.0\n",
            "234    0.0\n",
            "235    0.0\n",
            "236    0.0\n",
            "237    0.0\n",
            "238    0.0\n",
            "239    0.0\n",
            "Name: FF, dtype: float64\n",
            "225    1.0\n",
            "226    1.0\n",
            "227    1.0\n",
            "228    NaN\n",
            "229    0.0\n",
            "230    0.0\n",
            "231    1.0\n",
            "232    1.0\n",
            "233    1.0\n",
            "234    1.0\n",
            "235    1.0\n",
            "236    0.0\n",
            "237    1.0\n",
            "238    0.0\n",
            "239    1.0\n",
            "Name: IFS, dtype: float64\n",
            "225    0.0\n",
            "226    1.0\n",
            "227    0.0\n",
            "228    NaN\n",
            "229    0.0\n",
            "230    0.0\n",
            "231    0.0\n",
            "232    1.0\n",
            "233    0.0\n",
            "234    0.0\n",
            "235    1.0\n",
            "236    0.0\n",
            "237    0.0\n",
            "238    0.0\n",
            "239    0.0\n",
            "Name: MIF, dtype: float64\n",
            "225    0.0\n",
            "226    NaN\n",
            "227    0.0\n",
            "228    0.0\n",
            "229    1.0\n",
            "230    0.0\n",
            "231    0.0\n",
            "232    1.0\n",
            "233    0.0\n",
            "234    0.0\n",
            "235    NaN\n",
            "236    0.0\n",
            "237    0.0\n",
            "238    0.0\n",
            "239    NaN\n",
            "Name: MHB, dtype: float64\n",
            "225    0.0\n",
            "226    NaN\n",
            "227    0.0\n",
            "228    0.0\n",
            "229    0.0\n",
            "230    0.0\n",
            "231    0.0\n",
            "232    0.0\n",
            "233    0.0\n",
            "234    0.0\n",
            "235    NaN\n",
            "236    0.0\n",
            "237    0.0\n",
            "238    0.0\n",
            "239    NaN\n",
            "Name: MEN, dtype: float64\n"
          ]
        }
      ]
    },
    {
      "cell_type": "markdown",
      "source": [
        "The output for the following code cell was removed to protect PII and/or the raw data. The output contained the following columns:\n",
        "* LBMR, LBML....MENR, MENL"
      ],
      "metadata": {
        "id": "eCSqsiJIJLKO"
      }
    },
    {
      "cell_type": "code",
      "source": [
        "Comp1_cnm_sidedVars_collapsing.head()"
      ],
      "metadata": {
        "id": "rJTtX2pnIM_m"
      },
      "execution_count": null,
      "outputs": []
    },
    {
      "cell_type": "code",
      "source": [
        "Comp1_cnm_sidedVars_collapsing.info()"
      ],
      "metadata": {
        "id": "b59HPn7kIhv6"
      },
      "execution_count": null,
      "outputs": []
    },
    {
      "cell_type": "code",
      "source": [
        "Comp1_cnm_sidedVars_collapsed = pd.DataFrame(Comp1_cnm_sidedVars_collapsing.iloc[:, 40:])"
      ],
      "metadata": {
        "id": "khkvQDv_INnl"
      },
      "execution_count": null,
      "outputs": []
    },
    {
      "cell_type": "markdown",
      "source": [
        "The output for the following code cell was removed to protect PII and/or the raw data. The output contained the following columns:\n",
        "* LBM, mask, LBLa....MEN"
      ],
      "metadata": {
        "id": "amv_LHsZJUhC"
      }
    },
    {
      "cell_type": "code",
      "source": [
        "Comp1_cnm_sidedVars_collapsed.head()"
      ],
      "metadata": {
        "id": "gznUrKLrIo0Y"
      },
      "execution_count": null,
      "outputs": []
    },
    {
      "cell_type": "code",
      "source": [
        "del Comp1_cnm_sidedVars_collapsed['mask']"
      ],
      "metadata": {
        "id": "6go_dvtDIzzn"
      },
      "execution_count": null,
      "outputs": []
    },
    {
      "cell_type": "code",
      "source": [
        "Comp1_cnm_sidedVars_collapsed.info()"
      ],
      "metadata": {
        "colab": {
          "base_uri": "https://localhost:8080/"
        },
        "id": "IduDM6GFIphK",
        "outputId": "0d6582e1-cc7a-4e7a-d702-4488ed4a0903"
      },
      "execution_count": null,
      "outputs": [
        {
          "output_type": "stream",
          "name": "stdout",
          "text": [
            "<class 'pandas.core.frame.DataFrame'>\n",
            "RangeIndex: 240 entries, 0 to 239\n",
            "Data columns (total 20 columns):\n",
            " #   Column  Non-Null Count  Dtype  \n",
            "---  ------  --------------  -----  \n",
            " 0   LBM     191 non-null    float64\n",
            " 1   LBLa    208 non-null    float64\n",
            " 2   PF      235 non-null    float64\n",
            " 3   MF      237 non-null    float64\n",
            " 4   MFLo    230 non-null    float64\n",
            " 5   CRB     216 non-null    float64\n",
            " 6   EPB     210 non-null    float64\n",
            " 7   FTA     227 non-null    float64\n",
            " 8   PNB     230 non-null    float64\n",
            " 9   AST     229 non-null    float64\n",
            " 10  OMB     222 non-null    float64\n",
            " 11  TYM     224 non-null    float64\n",
            " 12  HYP     235 non-null    float64\n",
            " 13  APF     214 non-null    float64\n",
            " 14  SOF     236 non-null    float64\n",
            " 15  FF      228 non-null    float64\n",
            " 16  IFS     216 non-null    float64\n",
            " 17  MIF     218 non-null    float64\n",
            " 18  MHB     216 non-null    float64\n",
            " 19  MEN     213 non-null    float64\n",
            "dtypes: float64(20)\n",
            "memory usage: 37.6 KB\n"
          ]
        }
      ]
    },
    {
      "cell_type": "markdown",
      "source": [
        "The output for the following code cell was removed to protect PII and/or the raw data. The output contained the following columns:\n",
        "* ID, Curator, Sex, Race, Birth Year, Age at Death, LBMR, LBML..."
      ],
      "metadata": {
        "id": "uiSldr8IJ-SI"
      }
    },
    {
      "cell_type": "code",
      "source": [
        "Comp1cnm_renamed.info()"
      ],
      "metadata": {
        "id": "vPXseHFOKOs_"
      },
      "execution_count": null,
      "outputs": []
    },
    {
      "cell_type": "code",
      "source": [
        "dems = pd.DataFrame(Comp1cnm_renamed.iloc[:, :6])"
      ],
      "metadata": {
        "id": "7Z7WRIPhKI86"
      },
      "execution_count": null,
      "outputs": []
    },
    {
      "cell_type": "markdown",
      "source": [
        "The output for the following code cell was removed to protect PII and/or the raw data. The output contained the following columns:\n",
        "* ID, Curator, Sex, Race, Birth Year, Age at Death"
      ],
      "metadata": {
        "id": "6LI04REUKJtw"
      }
    },
    {
      "cell_type": "code",
      "source": [
        "dems.info()"
      ],
      "metadata": {
        "id": "WKZb5EvfKRhk"
      },
      "execution_count": null,
      "outputs": []
    },
    {
      "cell_type": "code",
      "source": [
        "Comp1_cnm_unsidedVars = pd.DataFrame(Comp1cnm_renamed.iloc[:, 46:])"
      ],
      "metadata": {
        "id": "VNpiQhknKSBF"
      },
      "execution_count": null,
      "outputs": []
    },
    {
      "cell_type": "code",
      "source": [
        "Comp1_cnm_unsidedVars.info()"
      ],
      "metadata": {
        "colab": {
          "base_uri": "https://localhost:8080/"
        },
        "id": "v1KWUQH-Kd9G",
        "outputId": "b8ff5be5-aa1d-461b-bd37-9e81ea4b245a"
      },
      "execution_count": null,
      "outputs": [
        {
          "output_type": "stream",
          "name": "stdout",
          "text": [
            "<class 'pandas.core.frame.DataFrame'>\n",
            "RangeIndex: 240 entries, 0 to 239\n",
            "Data columns (total 9 columns):\n",
            " #   Column  Non-Null Count  Dtype  \n",
            "---  ------  --------------  -----  \n",
            " 0   APIC    210 non-null    float64\n",
            " 1   INCA    232 non-null    float64\n",
            " 2   SAGB    174 non-null    float64\n",
            " 3   BREG    216 non-null    float64\n",
            " 4   PALT    219 non-null    float64\n",
            " 5   MANT    205 non-null    float64\n",
            " 6   METO    232 non-null    float64\n",
            " 7   PHAR    196 non-null    float64\n",
            " 8   SSSF    187 non-null    float64\n",
            "dtypes: float64(9)\n",
            "memory usage: 17.0 KB\n"
          ]
        }
      ]
    },
    {
      "cell_type": "markdown",
      "source": [
        "### Remerge Comp1 demographics, sided Vars, unsided Vars"
      ],
      "metadata": {
        "id": "w2C2WQGwLCmh"
      }
    },
    {
      "cell_type": "code",
      "source": [
        "Comp1_cnm_collapsed = pd.concat([dems, Comp1_cnm_sidedVars_collapsed, Comp1_cnm_unsidedVars], axis=1)"
      ],
      "metadata": {
        "id": "iZ8vc1ObKkAR"
      },
      "execution_count": null,
      "outputs": []
    },
    {
      "cell_type": "markdown",
      "source": [
        "The output for the following code cell was removed to protect PII and/or the raw data. The output contained the following columns:\n",
        "* ID, Curator, Sex, Race, Birth Year, Age at Death, LBM, LBLa..."
      ],
      "metadata": {
        "id": "sgl-LN2QKxKz"
      }
    },
    {
      "cell_type": "code",
      "source": [
        "Comp1_cnm_collapsed.head()"
      ],
      "metadata": {
        "id": "DdXx5iH5KuBg"
      },
      "execution_count": null,
      "outputs": []
    },
    {
      "cell_type": "code",
      "source": [
        "Comp1_cnm_collapsed.describe()"
      ],
      "metadata": {
        "id": "8b1mVui6pE4r"
      },
      "execution_count": null,
      "outputs": []
    },
    {
      "cell_type": "markdown",
      "source": [
        "Comp1 cnm df does not need to be recoded! I just removed FF because of the scoring error in my data."
      ],
      "metadata": {
        "id": "UAO7XvmtploS"
      }
    },
    {
      "cell_type": "code",
      "source": [
        "del Comp1_cnm_collapsed['FF']"
      ],
      "metadata": {
        "id": "xwOWn1BRplVa"
      },
      "execution_count": null,
      "outputs": []
    },
    {
      "cell_type": "markdown",
      "source": [
        "The output for the following code cell was removed to protect PII and/or the raw data. The output contained the following columns:\n",
        "* ID, Curator, Sex, Race, Birth Year, Age at Death, LBM, LBLa..."
      ],
      "metadata": {
        "id": "0W_4ymmQLCE4"
      }
    },
    {
      "cell_type": "code",
      "source": [
        "Comp1_cnm_collapsed.head()"
      ],
      "metadata": {
        "id": "fM42VTKmpzvU"
      },
      "execution_count": null,
      "outputs": []
    },
    {
      "cell_type": "markdown",
      "source": [
        "#### Output file: Comp1 data collapsed\n",
        "This file was subsequently altered in Excel to delete rows where Race was blank"
      ],
      "metadata": {
        "id": "m4-fwCX3odsd"
      }
    },
    {
      "cell_type": "code",
      "source": [
        "Comp1_cnm_collapsed.to_excel('/drive/My Drive/Colab Notebooks/Statistical analysis/Aim 2 - Microevolution/Comp1_cnm_collapsed.xlsx', index=False)"
      ],
      "metadata": {
        "id": "LKWWbofModsd"
      },
      "execution_count": null,
      "outputs": []
    },
    {
      "cell_type": "markdown",
      "source": [
        "### Prep Comp1 data for analyses"
      ],
      "metadata": {
        "id": "M6sr_EwdCTcG"
      }
    },
    {
      "cell_type": "code",
      "source": [
        "Comp1_cnm_collapsed = pd.read_excel('Comp1_cnm_collapsed.xlsx')"
      ],
      "metadata": {
        "id": "eRbLMPyqCaqM"
      },
      "execution_count": null,
      "outputs": []
    },
    {
      "cell_type": "markdown",
      "source": [
        "The output for the following code cell was removed to protect PII and/or the raw data. The output contained the following columns:\n",
        "* ID, Curator, Sex, Race, Birth Year, Age at Death, LBM, LBLa..."
      ],
      "metadata": {
        "id": "eOYS6md3L2DJ"
      }
    },
    {
      "cell_type": "code",
      "source": [
        "Comp1_cnm_collapsed.info()"
      ],
      "metadata": {
        "id": "Fn_Fkg9KLXC8"
      },
      "execution_count": null,
      "outputs": []
    },
    {
      "cell_type": "code",
      "source": [
        "Comp1_cnm_collapsed['SAGB'].head()"
      ],
      "metadata": {
        "colab": {
          "base_uri": "https://localhost:8080/"
        },
        "id": "yQy0KmCYCa8B",
        "outputId": "5315aa6b-7551-48bc-f655-9bc29b5d66b1"
      },
      "execution_count": null,
      "outputs": [
        {
          "output_type": "execute_result",
          "data": {
            "text/plain": [
              "0    0.0\n",
              "1    NaN\n",
              "2    0.0\n",
              "3    0.0\n",
              "4    0.0\n",
              "Name: SAGB, dtype: float64"
            ]
          },
          "metadata": {},
          "execution_count": 91
        }
      ]
    },
    {
      "cell_type": "code",
      "source": [
        "Comp1_cnm = pd.DataFrame(Comp1_cnm_collapsed.iloc[:, :])"
      ],
      "metadata": {
        "id": "o8Zt8ZG2DLzq"
      },
      "execution_count": null,
      "outputs": []
    },
    {
      "cell_type": "code",
      "source": [
        "# drop SAGB from Comp1 because I dropped it from my data due to low IO agreement\n",
        "del Comp1_cnm['SAGB']\n",
        "\n",
        "# drop these columns because they are not in my data\n",
        "del Comp1_cnm['Birth Year']\n",
        "del Comp1_cnm['Curator']\n",
        "#del Comp1_cnm['FF']\n",
        "\n",
        "# drop APIC because I had to drop it from my data from Japan didn't have it\n"
      ],
      "metadata": {
        "id": "-n7_5zyZC20O"
      },
      "execution_count": null,
      "outputs": []
    },
    {
      "cell_type": "markdown",
      "source": [
        "The output for the following code cell was removed to protect PII and/or the raw data. The output contained the following columns:\n",
        "* ID, Curator, Sex, Race, Birth Year, Age at Death, LBM, LBLa..."
      ],
      "metadata": {
        "id": "IxeazLedMEfx"
      }
    },
    {
      "cell_type": "code",
      "source": [
        "Comp1_cnm.info()"
      ],
      "metadata": {
        "id": "oNpmKRoeDTqZ"
      },
      "execution_count": null,
      "outputs": []
    },
    {
      "cell_type": "code",
      "source": [
        "Comp1_cnm = Comp1_cnm.rename(columns={'ID': 'SkelID', 'Race': 'Population Affinity',\n",
        "                                         'Age at Death': 'Age'})"
      ],
      "metadata": {
        "id": "a4gQl_9gDkUC"
      },
      "execution_count": null,
      "outputs": []
    },
    {
      "cell_type": "code",
      "source": [
        "Comp1_cnm.info()"
      ],
      "metadata": {
        "colab": {
          "base_uri": "https://localhost:8080/"
        },
        "id": "BxjHDRabELYX",
        "outputId": "5c9ed8c3-be2e-449b-c2c9-23f4fd290de7"
      },
      "execution_count": null,
      "outputs": [
        {
          "output_type": "stream",
          "name": "stdout",
          "text": [
            "<class 'pandas.core.frame.DataFrame'>\n",
            "RangeIndex: 236 entries, 0 to 235\n",
            "Data columns (total 31 columns):\n",
            " #   Column               Non-Null Count  Dtype  \n",
            "---  ------               --------------  -----  \n",
            " 0   SkelID               236 non-null    int64  \n",
            " 1   Sex                  236 non-null    object \n",
            " 2   Population Affinity  236 non-null    object \n",
            " 3   Age                  187 non-null    object \n",
            " 4   LBM                  188 non-null    float64\n",
            " 5   LBLa                 205 non-null    float64\n",
            " 6   PF                   231 non-null    float64\n",
            " 7   MF                   233 non-null    float64\n",
            " 8   MFLo                 226 non-null    float64\n",
            " 9   CRB                  212 non-null    float64\n",
            " 10  EPB                  207 non-null    float64\n",
            " 11  FTA                  223 non-null    float64\n",
            " 12  PNB                  226 non-null    float64\n",
            " 13  AST                  225 non-null    float64\n",
            " 14  OMB                  218 non-null    float64\n",
            " 15  TYM                  220 non-null    float64\n",
            " 16  HYP                  232 non-null    float64\n",
            " 17  APF                  211 non-null    float64\n",
            " 18  SOF                  232 non-null    float64\n",
            " 19  IFS                  213 non-null    float64\n",
            " 20  MIF                  215 non-null    float64\n",
            " 21  MHB                  213 non-null    float64\n",
            " 22  MEN                  210 non-null    float64\n",
            " 23  APIC                 206 non-null    float64\n",
            " 24  INCA                 228 non-null    float64\n",
            " 25  BREG                 212 non-null    float64\n",
            " 26  PALT                 215 non-null    float64\n",
            " 27  MANT                 202 non-null    float64\n",
            " 28  METO                 228 non-null    float64\n",
            " 29  PHAR                 192 non-null    float64\n",
            " 30  SSSF                 184 non-null    float64\n",
            "dtypes: float64(27), int64(1), object(3)\n",
            "memory usage: 57.3+ KB\n"
          ]
        }
      ]
    },
    {
      "cell_type": "code",
      "source": [
        "Comp1_cnm['Collection'] = 'Comp1'"
      ],
      "metadata": {
        "id": "cSDW6KjIEalT"
      },
      "execution_count": null,
      "outputs": []
    },
    {
      "cell_type": "code",
      "source": [
        "Comp1_cnm.head()"
      ],
      "metadata": {
        "id": "vYhBb4BfElvG"
      },
      "execution_count": null,
      "outputs": []
    },
    {
      "cell_type": "code",
      "source": [
        "Comp1_cnm.info()"
      ],
      "metadata": {
        "colab": {
          "base_uri": "https://localhost:8080/"
        },
        "id": "-97di-MeEVRY",
        "outputId": "d6464cda-f83b-46bd-a2d5-9cb5c7d9a627"
      },
      "execution_count": null,
      "outputs": [
        {
          "output_type": "stream",
          "name": "stdout",
          "text": [
            "<class 'pandas.core.frame.DataFrame'>\n",
            "RangeIndex: 236 entries, 0 to 235\n",
            "Data columns (total 32 columns):\n",
            " #   Column               Non-Null Count  Dtype  \n",
            "---  ------               --------------  -----  \n",
            " 0   SkelID               236 non-null    int64  \n",
            " 1   Sex                  236 non-null    object \n",
            " 2   Population Affinity  236 non-null    object \n",
            " 3   Age                  187 non-null    object \n",
            " 4   LBM                  188 non-null    float64\n",
            " 5   LBLa                 205 non-null    float64\n",
            " 6   PF                   231 non-null    float64\n",
            " 7   MF                   233 non-null    float64\n",
            " 8   MFLo                 226 non-null    float64\n",
            " 9   CRB                  212 non-null    float64\n",
            " 10  EPB                  207 non-null    float64\n",
            " 11  FTA                  223 non-null    float64\n",
            " 12  PNB                  226 non-null    float64\n",
            " 13  AST                  225 non-null    float64\n",
            " 14  OMB                  218 non-null    float64\n",
            " 15  TYM                  220 non-null    float64\n",
            " 16  HYP                  232 non-null    float64\n",
            " 17  APF                  211 non-null    float64\n",
            " 18  SOF                  232 non-null    float64\n",
            " 19  IFS                  213 non-null    float64\n",
            " 20  MIF                  215 non-null    float64\n",
            " 21  MHB                  213 non-null    float64\n",
            " 22  MEN                  210 non-null    float64\n",
            " 23  APIC                 206 non-null    float64\n",
            " 24  INCA                 228 non-null    float64\n",
            " 25  BREG                 212 non-null    float64\n",
            " 26  PALT                 215 non-null    float64\n",
            " 27  MANT                 202 non-null    float64\n",
            " 28  METO                 228 non-null    float64\n",
            " 29  PHAR                 192 non-null    float64\n",
            " 30  SSSF                 184 non-null    float64\n",
            " 31  Collection           236 non-null    object \n",
            "dtypes: float64(27), int64(1), object(4)\n",
            "memory usage: 59.1+ KB\n"
          ]
        }
      ]
    },
    {
      "cell_type": "code",
      "source": [
        "# add empty columns to match the other three dfs\n",
        "\n",
        "Comp1_cnm['SON'] = np.nan\n",
        "Comp1_cnm['PTB'] = np.nan\n",
        "Comp1_cnm['CIV'] = np.nan\n",
        "Comp1_cnm['ZFF'] = np.nan\n",
        "Comp1_cnm['CCO'] = np.nan\n",
        "Comp1_cnm['FOI'] = np.nan\n",
        "Comp1_cnm['FSI'] = np.nan\n",
        "Comp1_cnm['AUD'] = np.nan\n",
        "Comp1_cnm['ANS'] = np.nan\n",
        "Comp1_cnm['INA'] = np.nan\n",
        "Comp1_cnm['IOB'] = np.nan\n",
        "Comp1_cnm['MT'] = np.nan\n",
        "Comp1_cnm['NAS'] = np.nan\n",
        "Comp1_cnm['NAW'] = np.nan\n",
        "Comp1_cnm['NBC'] = np.nan\n",
        "Comp1_cnm['NBS'] = np.nan\n",
        "Comp1_cnm['NO'] = np.nan\n",
        "Comp1_cnm['NFS'] = np.nan\n",
        "Comp1_cnm['OBS'] = np.nan\n",
        "#Comp1_cnm['PBD'] = np.nan\n",
        "Comp1_cnm['PZT'] = np.nan\n",
        "#Comp1_cnm['SPS'] = np.nan\n",
        "Comp1_cnm['TPS'] = np.nan\n",
        "#Comp1_cnm['PS'] = np.nan\n",
        "Comp1_cnm['ZS'] = np.nan\n",
        "#Comp1_cnm['LBSO'] = np.nan\n",
        "Comp1_cnm['FF'] = np.nan\n",
        "#Comp1_cnm['MVP'] = np.nan\n",
        "#Comp1_cnm['TWIG'] = np.nan"
      ],
      "metadata": {
        "id": "k9g5L9_YFqsm"
      },
      "execution_count": null,
      "outputs": []
    },
    {
      "cell_type": "code",
      "source": [
        "Comp1_cnm.info()"
      ],
      "metadata": {
        "colab": {
          "base_uri": "https://localhost:8080/"
        },
        "id": "-hAvGnVIGjAd",
        "outputId": "e40fac0a-d656-4384-d0bb-ba64d9083d81"
      },
      "execution_count": null,
      "outputs": [
        {
          "output_type": "stream",
          "name": "stdout",
          "text": [
            "<class 'pandas.core.frame.DataFrame'>\n",
            "RangeIndex: 236 entries, 0 to 235\n",
            "Data columns (total 55 columns):\n",
            " #   Column               Non-Null Count  Dtype  \n",
            "---  ------               --------------  -----  \n",
            " 0   SkelID               236 non-null    int64  \n",
            " 1   Sex                  236 non-null    object \n",
            " 2   Population Affinity  236 non-null    object \n",
            " 3   Age                  187 non-null    object \n",
            " 4   LBM                  188 non-null    float64\n",
            " 5   LBLa                 205 non-null    float64\n",
            " 6   PF                   231 non-null    float64\n",
            " 7   MF                   233 non-null    float64\n",
            " 8   MFLo                 226 non-null    float64\n",
            " 9   CRB                  212 non-null    float64\n",
            " 10  EPB                  207 non-null    float64\n",
            " 11  FTA                  223 non-null    float64\n",
            " 12  PNB                  226 non-null    float64\n",
            " 13  AST                  225 non-null    float64\n",
            " 14  OMB                  218 non-null    float64\n",
            " 15  TYM                  220 non-null    float64\n",
            " 16  HYP                  232 non-null    float64\n",
            " 17  APF                  211 non-null    float64\n",
            " 18  SOF                  232 non-null    float64\n",
            " 19  IFS                  213 non-null    float64\n",
            " 20  MIF                  215 non-null    float64\n",
            " 21  MHB                  213 non-null    float64\n",
            " 22  MEN                  210 non-null    float64\n",
            " 23  APIC                 206 non-null    float64\n",
            " 24  INCA                 228 non-null    float64\n",
            " 25  BREG                 212 non-null    float64\n",
            " 26  PALT                 215 non-null    float64\n",
            " 27  MANT                 202 non-null    float64\n",
            " 28  METO                 228 non-null    float64\n",
            " 29  PHAR                 192 non-null    float64\n",
            " 30  SSSF                 184 non-null    float64\n",
            " 31  Collection           236 non-null    object \n",
            " 32  SON                  0 non-null      float64\n",
            " 33  PTB                  0 non-null      float64\n",
            " 34  CIV                  0 non-null      float64\n",
            " 35  ZFF                  0 non-null      float64\n",
            " 36  CCO                  0 non-null      float64\n",
            " 37  FOI                  0 non-null      float64\n",
            " 38  FSI                  0 non-null      float64\n",
            " 39  AUD                  0 non-null      float64\n",
            " 40  ANS                  0 non-null      float64\n",
            " 41  INA                  0 non-null      float64\n",
            " 42  IOB                  0 non-null      float64\n",
            " 43  MT                   0 non-null      float64\n",
            " 44  NAS                  0 non-null      float64\n",
            " 45  NAW                  0 non-null      float64\n",
            " 46  NBC                  0 non-null      float64\n",
            " 47  NBS                  0 non-null      float64\n",
            " 48  NO                   0 non-null      float64\n",
            " 49  NFS                  0 non-null      float64\n",
            " 50  OBS                  0 non-null      float64\n",
            " 51  PZT                  0 non-null      float64\n",
            " 52  TPS                  0 non-null      float64\n",
            " 53  ZS                   0 non-null      float64\n",
            " 54  FF                   0 non-null      float64\n",
            "dtypes: float64(50), int64(1), object(4)\n",
            "memory usage: 101.5+ KB\n"
          ]
        }
      ]
    },
    {
      "cell_type": "code",
      "source": [
        "del Comp1_cnm['FF']"
      ],
      "metadata": {
        "id": "q0S-CkhyLfYr"
      },
      "execution_count": null,
      "outputs": []
    },
    {
      "cell_type": "code",
      "source": [
        "del Comp1_cnm['APIC']"
      ],
      "metadata": {
        "id": "-jxlEwYfL2jD"
      },
      "execution_count": null,
      "outputs": []
    },
    {
      "cell_type": "code",
      "source": [
        "Comp1_cnm_sorted = Comp1_cnm.sort_index(axis=1, ascending=True)\n",
        "Comp1_cnm_sorted.info()"
      ],
      "metadata": {
        "colab": {
          "base_uri": "https://localhost:8080/"
        },
        "id": "SCUEJdoqHDBf",
        "outputId": "aa0de094-419c-4e9a-9400-a16778c5dfda"
      },
      "execution_count": null,
      "outputs": [
        {
          "output_type": "stream",
          "name": "stdout",
          "text": [
            "<class 'pandas.core.frame.DataFrame'>\n",
            "RangeIndex: 236 entries, 0 to 235\n",
            "Data columns (total 53 columns):\n",
            " #   Column               Non-Null Count  Dtype  \n",
            "---  ------               --------------  -----  \n",
            " 0   ANS                  0 non-null      float64\n",
            " 1   APF                  211 non-null    float64\n",
            " 2   AST                  225 non-null    float64\n",
            " 3   AUD                  0 non-null      float64\n",
            " 4   Age                  187 non-null    object \n",
            " 5   BREG                 212 non-null    float64\n",
            " 6   CCO                  0 non-null      float64\n",
            " 7   CIV                  0 non-null      float64\n",
            " 8   CRB                  212 non-null    float64\n",
            " 9   Collection           236 non-null    object \n",
            " 10  EPB                  207 non-null    float64\n",
            " 11  FOI                  0 non-null      float64\n",
            " 12  FSI                  0 non-null      float64\n",
            " 13  FTA                  223 non-null    float64\n",
            " 14  HYP                  232 non-null    float64\n",
            " 15  IFS                  213 non-null    float64\n",
            " 16  INA                  0 non-null      float64\n",
            " 17  INCA                 228 non-null    float64\n",
            " 18  IOB                  0 non-null      float64\n",
            " 19  LBLa                 205 non-null    float64\n",
            " 20  LBM                  188 non-null    float64\n",
            " 21  MANT                 202 non-null    float64\n",
            " 22  MEN                  210 non-null    float64\n",
            " 23  METO                 228 non-null    float64\n",
            " 24  MF                   233 non-null    float64\n",
            " 25  MFLo                 226 non-null    float64\n",
            " 26  MHB                  213 non-null    float64\n",
            " 27  MIF                  215 non-null    float64\n",
            " 28  MT                   0 non-null      float64\n",
            " 29  NAS                  0 non-null      float64\n",
            " 30  NAW                  0 non-null      float64\n",
            " 31  NBC                  0 non-null      float64\n",
            " 32  NBS                  0 non-null      float64\n",
            " 33  NFS                  0 non-null      float64\n",
            " 34  NO                   0 non-null      float64\n",
            " 35  OBS                  0 non-null      float64\n",
            " 36  OMB                  218 non-null    float64\n",
            " 37  PALT                 215 non-null    float64\n",
            " 38  PF                   231 non-null    float64\n",
            " 39  PHAR                 192 non-null    float64\n",
            " 40  PNB                  226 non-null    float64\n",
            " 41  PTB                  0 non-null      float64\n",
            " 42  PZT                  0 non-null      float64\n",
            " 43  Population Affinity  236 non-null    object \n",
            " 44  SOF                  232 non-null    float64\n",
            " 45  SON                  0 non-null      float64\n",
            " 46  SSSF                 184 non-null    float64\n",
            " 47  Sex                  236 non-null    object \n",
            " 48  SkelID               236 non-null    int64  \n",
            " 49  TPS                  0 non-null      float64\n",
            " 50  TYM                  220 non-null    float64\n",
            " 51  ZFF                  0 non-null      float64\n",
            " 52  ZS                   0 non-null      float64\n",
            "dtypes: float64(48), int64(1), object(4)\n",
            "memory usage: 97.8+ KB\n"
          ]
        }
      ]
    },
    {
      "cell_type": "code",
      "source": [
        "Comp1_cnm.info()"
      ],
      "metadata": {
        "colab": {
          "base_uri": "https://localhost:8080/"
        },
        "id": "fK_ODGZuU5_2",
        "outputId": "93957443-6f5b-479a-9d3f-d29051308bd4"
      },
      "execution_count": null,
      "outputs": [
        {
          "output_type": "stream",
          "name": "stdout",
          "text": [
            "<class 'pandas.core.frame.DataFrame'>\n",
            "RangeIndex: 236 entries, 0 to 235\n",
            "Data columns (total 53 columns):\n",
            " #   Column               Non-Null Count  Dtype  \n",
            "---  ------               --------------  -----  \n",
            " 0   SkelID               236 non-null    int64  \n",
            " 1   Sex                  236 non-null    object \n",
            " 2   Population Affinity  236 non-null    object \n",
            " 3   Age                  187 non-null    object \n",
            " 4   LBM                  188 non-null    float64\n",
            " 5   LBLa                 205 non-null    float64\n",
            " 6   PF                   231 non-null    float64\n",
            " 7   MF                   233 non-null    float64\n",
            " 8   MFLo                 226 non-null    float64\n",
            " 9   CRB                  212 non-null    float64\n",
            " 10  EPB                  207 non-null    float64\n",
            " 11  FTA                  223 non-null    float64\n",
            " 12  PNB                  226 non-null    float64\n",
            " 13  AST                  225 non-null    float64\n",
            " 14  OMB                  218 non-null    float64\n",
            " 15  TYM                  220 non-null    float64\n",
            " 16  HYP                  232 non-null    float64\n",
            " 17  APF                  211 non-null    float64\n",
            " 18  SOF                  232 non-null    float64\n",
            " 19  IFS                  213 non-null    float64\n",
            " 20  MIF                  215 non-null    float64\n",
            " 21  MHB                  213 non-null    float64\n",
            " 22  MEN                  210 non-null    float64\n",
            " 23  INCA                 228 non-null    float64\n",
            " 24  BREG                 212 non-null    float64\n",
            " 25  PALT                 215 non-null    float64\n",
            " 26  MANT                 202 non-null    float64\n",
            " 27  METO                 228 non-null    float64\n",
            " 28  PHAR                 192 non-null    float64\n",
            " 29  SSSF                 184 non-null    float64\n",
            " 30  Collection           236 non-null    object \n",
            " 31  SON                  0 non-null      float64\n",
            " 32  PTB                  0 non-null      float64\n",
            " 33  CIV                  0 non-null      float64\n",
            " 34  ZFF                  0 non-null      float64\n",
            " 35  CCO                  0 non-null      float64\n",
            " 36  FOI                  0 non-null      float64\n",
            " 37  FSI                  0 non-null      float64\n",
            " 38  AUD                  0 non-null      float64\n",
            " 39  ANS                  0 non-null      float64\n",
            " 40  INA                  0 non-null      float64\n",
            " 41  IOB                  0 non-null      float64\n",
            " 42  MT                   0 non-null      float64\n",
            " 43  NAS                  0 non-null      float64\n",
            " 44  NAW                  0 non-null      float64\n",
            " 45  NBC                  0 non-null      float64\n",
            " 46  NBS                  0 non-null      float64\n",
            " 47  NO                   0 non-null      float64\n",
            " 48  NFS                  0 non-null      float64\n",
            " 49  OBS                  0 non-null      float64\n",
            " 50  PZT                  0 non-null      float64\n",
            " 51  TPS                  0 non-null      float64\n",
            " 52  ZS                   0 non-null      float64\n",
            "dtypes: float64(48), int64(1), object(4)\n",
            "memory usage: 97.8+ KB\n"
          ]
        }
      ]
    },
    {
      "cell_type": "code",
      "source": [
        "Comp1_cnm = Comp1_cnm.rename(columns = {'Population Affinity': 'Population Name'})"
      ],
      "metadata": {
        "id": "flfXc8llEOqL"
      },
      "execution_count": null,
      "outputs": []
    },
    {
      "cell_type": "code",
      "source": [
        "Comp1_cnm.info()"
      ],
      "metadata": {
        "colab": {
          "base_uri": "https://localhost:8080/"
        },
        "id": "85RNntZ7G48L",
        "outputId": "f6d91c0a-60bf-4ada-98ee-bf54b064721e"
      },
      "execution_count": null,
      "outputs": [
        {
          "output_type": "stream",
          "name": "stdout",
          "text": [
            "<class 'pandas.core.frame.DataFrame'>\n",
            "RangeIndex: 236 entries, 0 to 235\n",
            "Data columns (total 53 columns):\n",
            " #   Column           Non-Null Count  Dtype  \n",
            "---  ------           --------------  -----  \n",
            " 0   SkelID           236 non-null    int64  \n",
            " 1   Sex              236 non-null    object \n",
            " 2   Population Name  236 non-null    object \n",
            " 3   Age              187 non-null    object \n",
            " 4   LBM              188 non-null    float64\n",
            " 5   LBLa             205 non-null    float64\n",
            " 6   PF               231 non-null    float64\n",
            " 7   MF               233 non-null    float64\n",
            " 8   MFLo             226 non-null    float64\n",
            " 9   CRB              212 non-null    float64\n",
            " 10  EPB              207 non-null    float64\n",
            " 11  FTA              223 non-null    float64\n",
            " 12  PNB              226 non-null    float64\n",
            " 13  AST              225 non-null    float64\n",
            " 14  OMB              218 non-null    float64\n",
            " 15  TYM              220 non-null    float64\n",
            " 16  HYP              232 non-null    float64\n",
            " 17  APF              211 non-null    float64\n",
            " 18  SOF              232 non-null    float64\n",
            " 19  IFS              213 non-null    float64\n",
            " 20  MIF              215 non-null    float64\n",
            " 21  MHB              213 non-null    float64\n",
            " 22  MEN              210 non-null    float64\n",
            " 23  INCA             228 non-null    float64\n",
            " 24  BREG             212 non-null    float64\n",
            " 25  PALT             215 non-null    float64\n",
            " 26  MANT             202 non-null    float64\n",
            " 27  METO             228 non-null    float64\n",
            " 28  PHAR             192 non-null    float64\n",
            " 29  SSSF             184 non-null    float64\n",
            " 30  Collection       236 non-null    object \n",
            " 31  SON              0 non-null      float64\n",
            " 32  PTB              0 non-null      float64\n",
            " 33  CIV              0 non-null      float64\n",
            " 34  ZFF              0 non-null      float64\n",
            " 35  CCO              0 non-null      float64\n",
            " 36  FOI              0 non-null      float64\n",
            " 37  FSI              0 non-null      float64\n",
            " 38  AUD              0 non-null      float64\n",
            " 39  ANS              0 non-null      float64\n",
            " 40  INA              0 non-null      float64\n",
            " 41  IOB              0 non-null      float64\n",
            " 42  MT               0 non-null      float64\n",
            " 43  NAS              0 non-null      float64\n",
            " 44  NAW              0 non-null      float64\n",
            " 45  NBC              0 non-null      float64\n",
            " 46  NBS              0 non-null      float64\n",
            " 47  NO               0 non-null      float64\n",
            " 48  NFS              0 non-null      float64\n",
            " 49  OBS              0 non-null      float64\n",
            " 50  PZT              0 non-null      float64\n",
            " 51  TPS              0 non-null      float64\n",
            " 52  ZS               0 non-null      float64\n",
            "dtypes: float64(48), int64(1), object(4)\n",
            "memory usage: 97.8+ KB\n"
          ]
        }
      ]
    },
    {
      "cell_type": "code",
      "source": [
        "Comp1_cnm['Population Name'].unique()"
      ],
      "metadata": {
        "colab": {
          "base_uri": "https://localhost:8080/"
        },
        "id": "dRW5ezCHE8v2",
        "outputId": "1ff24577-3c4c-4d04-d0d6-9cc920449270"
      },
      "execution_count": null,
      "outputs": [
        {
          "output_type": "execute_result",
          "data": {
            "text/plain": [
              "array(['B', 'W', 'H', 'EA'], dtype=object)"
            ]
          },
          "metadata": {},
          "execution_count": 162
        }
      ]
    },
    {
      "cell_type": "code",
      "source": [
        "#Comp1_cnm.to_excel('/drive/My Drive/Colab Notebooks/Statistical analysis/Aim 2 - Microevolution/Comp1_cnm.xlsx', index=False)"
      ],
      "metadata": {
        "id": "1N3nXfx4FdCQ"
      },
      "execution_count": null,
      "outputs": []
    },
    {
      "cell_type": "code",
      "source": [
        "# drop the EA population because there are only 4 individuals\n",
        "\n",
        "Comp1_cnm.drop(Comp1_cnm.index[Comp1_cnm['Population Name'] == 'EA'], inplace=True)"
      ],
      "metadata": {
        "id": "jOixIia2Hmwx"
      },
      "execution_count": null,
      "outputs": []
    },
    {
      "cell_type": "code",
      "source": [
        "Comp1_cnm['Population Name'].unique()"
      ],
      "metadata": {
        "colab": {
          "base_uri": "https://localhost:8080/"
        },
        "id": "G1ObRASNIH9W",
        "outputId": "1070cd43-f258-4c86-aa18-8df44f3a762e"
      },
      "execution_count": null,
      "outputs": [
        {
          "output_type": "execute_result",
          "data": {
            "text/plain": [
              "array(['B', 'W', 'H'], dtype=object)"
            ]
          },
          "metadata": {},
          "execution_count": 165
        }
      ]
    },
    {
      "cell_type": "code",
      "source": [
        "# rename Population Name values\n",
        "\n",
        "Comp1_cnm['Population Name'].replace({'B': 'Black', 'W': 'White', 'H': 'Hispanic'}, inplace=True)"
      ],
      "metadata": {
        "id": "YNM10p2EIDw0"
      },
      "execution_count": null,
      "outputs": []
    },
    {
      "cell_type": "code",
      "source": [
        "Comp1_cnm['Population Name'].unique()"
      ],
      "metadata": {
        "colab": {
          "base_uri": "https://localhost:8080/"
        },
        "id": "4Kx6sEUmIXsX",
        "outputId": "2c4bf1de-d63e-41c5-cad2-0b4ed096bb1e"
      },
      "execution_count": null,
      "outputs": [
        {
          "output_type": "execute_result",
          "data": {
            "text/plain": [
              "array(['Black', 'White', 'Hispanic'], dtype=object)"
            ]
          },
          "metadata": {},
          "execution_count": 169
        }
      ]
    },
    {
      "cell_type": "code",
      "source": [
        "conditions = [\n",
        "    (Comp1_cnm['Population Name'] == 'Black'),\n",
        "    (Comp1_cnm['Population Name'] == 'White'),\n",
        "    (Comp1_cnm['Population Name'] == 'Hispanic')]\n",
        "choices = ['B', 'WH', 'H']\n",
        "Comp1_cnm['Population Code'] = np.select(conditions, choices)"
      ],
      "metadata": {
        "id": "HO0fTM2cEafJ"
      },
      "execution_count": null,
      "outputs": []
    },
    {
      "cell_type": "markdown",
      "source": [
        "The output for the following code cell was removed to protect PII and/or the raw data. The output contained the following columns:\n",
        "* SkelID, Sex, Population Name, Age, LBM, LBLa..."
      ],
      "metadata": {
        "id": "Rs8b5y7kM9Qn"
      }
    },
    {
      "cell_type": "code",
      "source": [
        "Comp1_cnm.head(25)"
      ],
      "metadata": {
        "id": "llBC3TzvIrpd"
      },
      "execution_count": null,
      "outputs": []
    },
    {
      "cell_type": "code",
      "source": [
        "Comp1_cnm['SkelID'] ='F-' + Comp1_cnm['SkelID'].astype(str)\n",
        "Comp1_cnm.head()"
      ],
      "metadata": {
        "id": "fnMww0WPEalx"
      },
      "execution_count": null,
      "outputs": []
    },
    {
      "cell_type": "code",
      "source": [
        "Comp1_cnm_dems = pd.DataFrame()\n",
        "Comp1_cnm_dems['SkelID'] = Comp1_cnm['SkelID']\n",
        "Comp1_cnm_dems['Collection'] = Comp1_cnm['Collection']\n",
        "Comp1_cnm_dems['Sex'] = Comp1_cnm['Sex']\n",
        "Comp1_cnm_dems['Age'] = Comp1_cnm['Age']\n",
        "Comp1_cnm_dems['Population Name'] = Comp1_cnm['Population Name']\n",
        "Comp1_cnm_dems['Population Code'] = Comp1_cnm['Population Code']"
      ],
      "metadata": {
        "id": "fGwBgE-VJJx4"
      },
      "execution_count": null,
      "outputs": []
    },
    {
      "cell_type": "code",
      "source": [
        "Comp1_cnm_dems.head()"
      ],
      "metadata": {
        "id": "DU7HJ9LNJJx5"
      },
      "execution_count": null,
      "outputs": []
    },
    {
      "cell_type": "code",
      "source": [
        "Comp1_cnm.info()"
      ],
      "metadata": {
        "colab": {
          "base_uri": "https://localhost:8080/"
        },
        "id": "C_hN-erfJkiZ",
        "outputId": "7d3d0fcf-0585-41ba-8094-ea4484bb4765"
      },
      "execution_count": null,
      "outputs": [
        {
          "output_type": "stream",
          "name": "stdout",
          "text": [
            "<class 'pandas.core.frame.DataFrame'>\n",
            "Int64Index: 232 entries, 0 to 235\n",
            "Data columns (total 54 columns):\n",
            " #   Column           Non-Null Count  Dtype  \n",
            "---  ------           --------------  -----  \n",
            " 0   SkelID           232 non-null    object \n",
            " 1   Sex              232 non-null    object \n",
            " 2   Population Name  232 non-null    object \n",
            " 3   Age              183 non-null    object \n",
            " 4   LBM              186 non-null    float64\n",
            " 5   LBLa             203 non-null    float64\n",
            " 6   PF               227 non-null    float64\n",
            " 7   MF               229 non-null    float64\n",
            " 8   MFLo             222 non-null    float64\n",
            " 9   CRB              210 non-null    float64\n",
            " 10  EPB              203 non-null    float64\n",
            " 11  FTA              219 non-null    float64\n",
            " 12  PNB              222 non-null    float64\n",
            " 13  AST              221 non-null    float64\n",
            " 14  OMB              214 non-null    float64\n",
            " 15  TYM              216 non-null    float64\n",
            " 16  HYP              228 non-null    float64\n",
            " 17  APF              207 non-null    float64\n",
            " 18  SOF              228 non-null    float64\n",
            " 19  IFS              210 non-null    float64\n",
            " 20  MIF              211 non-null    float64\n",
            " 21  MHB              209 non-null    float64\n",
            " 22  MEN              206 non-null    float64\n",
            " 23  INCA             225 non-null    float64\n",
            " 24  BREG             210 non-null    float64\n",
            " 25  PALT             212 non-null    float64\n",
            " 26  MANT             198 non-null    float64\n",
            " 27  METO             224 non-null    float64\n",
            " 28  PHAR             190 non-null    float64\n",
            " 29  SSSF             180 non-null    float64\n",
            " 30  Collection       232 non-null    object \n",
            " 31  SON              0 non-null      float64\n",
            " 32  PTB              0 non-null      float64\n",
            " 33  CIV              0 non-null      float64\n",
            " 34  ZFF              0 non-null      float64\n",
            " 35  CCO              0 non-null      float64\n",
            " 36  FOI              0 non-null      float64\n",
            " 37  FSI              0 non-null      float64\n",
            " 38  AUD              0 non-null      float64\n",
            " 39  ANS              0 non-null      float64\n",
            " 40  INA              0 non-null      float64\n",
            " 41  IOB              0 non-null      float64\n",
            " 42  MT               0 non-null      float64\n",
            " 43  NAS              0 non-null      float64\n",
            " 44  NAW              0 non-null      float64\n",
            " 45  NBC              0 non-null      float64\n",
            " 46  NBS              0 non-null      float64\n",
            " 47  NO               0 non-null      float64\n",
            " 48  NFS              0 non-null      float64\n",
            " 49  OBS              0 non-null      float64\n",
            " 50  PZT              0 non-null      float64\n",
            " 51  TPS              0 non-null      float64\n",
            " 52  ZS               0 non-null      float64\n",
            " 53  Population Code  232 non-null    object \n",
            "dtypes: float64(48), object(6)\n",
            "memory usage: 99.7+ KB\n"
          ]
        }
      ]
    },
    {
      "cell_type": "code",
      "source": [
        "Comp1_cnm_VarsOnly = pd.DataFrame(Comp1_cnm.iloc[:, 4:53])\n",
        "Comp1_cnm_VarsOnly.head()"
      ],
      "metadata": {
        "id": "yIiHhvrpJJx5"
      },
      "execution_count": null,
      "outputs": []
    },
    {
      "cell_type": "code",
      "source": [
        "del Comp1_cnm_VarsOnly['Collection']"
      ],
      "metadata": {
        "id": "j8BzM45wJtRx"
      },
      "execution_count": null,
      "outputs": []
    },
    {
      "cell_type": "code",
      "source": [
        "Comp1_cnm_VarsOnly.head()"
      ],
      "metadata": {
        "id": "tKBasDYxJv98"
      },
      "execution_count": null,
      "outputs": []
    },
    {
      "cell_type": "markdown",
      "source": [
        "Sort columns in ascending order (A-Z)"
      ],
      "metadata": {
        "id": "f-6dYwihN2j7"
      }
    },
    {
      "cell_type": "code",
      "source": [
        "Comp1_cnm_VarsOnly_sorted = Comp1_cnm_VarsOnly.sort_index(axis=1, ascending=True)"
      ],
      "metadata": {
        "id": "9HpGnd1yJJx6"
      },
      "execution_count": null,
      "outputs": []
    },
    {
      "cell_type": "code",
      "source": [
        "Comp1_cnm_VarsOnly_sorted.head()"
      ],
      "metadata": {
        "id": "7mqt7tGhJJx6"
      },
      "execution_count": null,
      "outputs": []
    },
    {
      "cell_type": "code",
      "source": [
        "Comp1_cnm_prepped = pd.concat([Comp1_cnm_dems, Comp1_cnm_VarsOnly_sorted], axis=1)"
      ],
      "metadata": {
        "id": "DXT2kgt7JJx6"
      },
      "execution_count": null,
      "outputs": []
    },
    {
      "cell_type": "code",
      "source": [
        "Comp1_cnm_prepped.head()"
      ],
      "metadata": {
        "id": "GNgYbdl4JJx6"
      },
      "execution_count": null,
      "outputs": []
    },
    {
      "cell_type": "code",
      "source": [
        "CES_cnm_prepped.info()"
      ],
      "metadata": {
        "id": "IRWvomiCJ-6s"
      },
      "execution_count": null,
      "outputs": []
    },
    {
      "cell_type": "code",
      "source": [
        "Comp1_cnm_prepped.info()"
      ],
      "metadata": {
        "colab": {
          "base_uri": "https://localhost:8080/"
        },
        "id": "YlNAfhO4J9R6",
        "outputId": "c33b0b7c-ae01-48ca-ca21-702658b9f351"
      },
      "execution_count": null,
      "outputs": [
        {
          "output_type": "stream",
          "name": "stdout",
          "text": [
            "<class 'pandas.core.frame.DataFrame'>\n",
            "Int64Index: 232 entries, 0 to 235\n",
            "Data columns (total 54 columns):\n",
            " #   Column           Non-Null Count  Dtype  \n",
            "---  ------           --------------  -----  \n",
            " 0   SkelID           232 non-null    object \n",
            " 1   Collection       232 non-null    object \n",
            " 2   Sex              232 non-null    object \n",
            " 3   Age              183 non-null    object \n",
            " 4   Population Name  232 non-null    object \n",
            " 5   Population Code  232 non-null    object \n",
            " 6   ANS              0 non-null      float64\n",
            " 7   APF              207 non-null    float64\n",
            " 8   AST              221 non-null    float64\n",
            " 9   AUD              0 non-null      float64\n",
            " 10  BREG             210 non-null    float64\n",
            " 11  CCO              0 non-null      float64\n",
            " 12  CIV              0 non-null      float64\n",
            " 13  CRB              210 non-null    float64\n",
            " 14  EPB              203 non-null    float64\n",
            " 15  FOI              0 non-null      float64\n",
            " 16  FSI              0 non-null      float64\n",
            " 17  FTA              219 non-null    float64\n",
            " 18  HYP              228 non-null    float64\n",
            " 19  IFS              210 non-null    float64\n",
            " 20  INA              0 non-null      float64\n",
            " 21  INCA             225 non-null    float64\n",
            " 22  IOB              0 non-null      float64\n",
            " 23  LBLa             203 non-null    float64\n",
            " 24  LBM              186 non-null    float64\n",
            " 25  MANT             198 non-null    float64\n",
            " 26  MEN              206 non-null    float64\n",
            " 27  METO             224 non-null    float64\n",
            " 28  MF               229 non-null    float64\n",
            " 29  MFLo             222 non-null    float64\n",
            " 30  MHB              209 non-null    float64\n",
            " 31  MIF              211 non-null    float64\n",
            " 32  MT               0 non-null      float64\n",
            " 33  NAS              0 non-null      float64\n",
            " 34  NAW              0 non-null      float64\n",
            " 35  NBC              0 non-null      float64\n",
            " 36  NBS              0 non-null      float64\n",
            " 37  NFS              0 non-null      float64\n",
            " 38  NO               0 non-null      float64\n",
            " 39  OBS              0 non-null      float64\n",
            " 40  OMB              214 non-null    float64\n",
            " 41  PALT             212 non-null    float64\n",
            " 42  PF               227 non-null    float64\n",
            " 43  PHAR             190 non-null    float64\n",
            " 44  PNB              222 non-null    float64\n",
            " 45  PTB              0 non-null      float64\n",
            " 46  PZT              0 non-null      float64\n",
            " 47  SOF              228 non-null    float64\n",
            " 48  SON              0 non-null      float64\n",
            " 49  SSSF             180 non-null    float64\n",
            " 50  TPS              0 non-null      float64\n",
            " 51  TYM              216 non-null    float64\n",
            " 52  ZFF              0 non-null      float64\n",
            " 53  ZS               0 non-null      float64\n",
            "dtypes: float64(48), object(6)\n",
            "memory usage: 99.7+ KB\n"
          ]
        }
      ]
    },
    {
      "cell_type": "code",
      "source": [
        "del Comp1_cnm_prepped['AUD']"
      ],
      "metadata": {
        "id": "UCujuPrudQje"
      },
      "execution_count": null,
      "outputs": []
    },
    {
      "cell_type": "markdown",
      "source": [
        "#### Output file: Comp1_cnm_prepped"
      ],
      "metadata": {
        "id": "3eqWI9VaKGmm"
      }
    },
    {
      "cell_type": "code",
      "source": [
        "Comp1_cnm_prepped.to_excel('/drive/My Drive/Colab Notebooks/Statistical analysis/Aim 2 - Microevolution/Comp1_cnm_prepped.xlsx', index=False)"
      ],
      "metadata": {
        "id": "zVIDAn4WKGmn"
      },
      "execution_count": null,
      "outputs": []
    },
    {
      "cell_type": "markdown",
      "source": [
        " ---"
      ],
      "metadata": {
        "id": "xTOr_O5CqDu6"
      }
    },
    {
      "cell_type": "markdown",
      "source": [
        "# Comp2 data"
      ],
      "metadata": {
        "id": "JWY4J2ZxqG4m"
      }
    },
    {
      "cell_type": "code",
      "source": [
        "Comp2_cnm = pd.read_excel('Comp2_cnm_for_analysis.xlsx')"
      ],
      "metadata": {
        "id": "X1ifQWzeqIpA"
      },
      "execution_count": null,
      "outputs": []
    },
    {
      "cell_type": "code",
      "source": [
        "Comp2_cnm.info()"
      ],
      "metadata": {
        "colab": {
          "base_uri": "https://localhost:8080/"
        },
        "id": "JUcRdZd6qwHr",
        "outputId": "8ef587ce-0086-424e-b4fd-6c706cc1f2e9"
      },
      "execution_count": null,
      "outputs": [
        {
          "output_type": "stream",
          "name": "stdout",
          "text": [
            "<class 'pandas.core.frame.DataFrame'>\n",
            "RangeIndex: 7471 entries, 0 to 7470\n",
            "Data columns (total 84 columns):\n",
            " #   Column          Non-Null Count  Dtype  \n",
            "---  ------          --------------  -----  \n",
            " 0   file.name       6678 non-null   object \n",
            " 1   GP1             2528 non-null   object \n",
            " 2   GP2             6513 non-null   object \n",
            " 3   GP3             6420 non-null   object \n",
            " 4   GP4             6068 non-null   object \n",
            " 5   GP5             5388 non-null   object \n",
            " 6   Site            5812 non-null   object \n",
            " 7   CatalogNo       6678 non-null   object \n",
            " 8   Museum          6678 non-null   object \n",
            " 9   AgeC            6678 non-null   float64\n",
            " 10  AgeY            720 non-null    object \n",
            " 11  Sex             6678 non-null   float64\n",
            " 12  DeformOriginal  6678 non-null   object \n",
            " 13  DeformGrade     6678 non-null   float64\n",
            " 14  DeformLRS       6678 non-null   object \n",
            " 15  METO            6678 non-null   float64\n",
            " 16  APIC            6678 non-null   float64\n",
            " 17  INCA            6678 non-null   float64\n",
            " 18  OMBL            6678 non-null   float64\n",
            " 19  OMBR            6678 non-null   float64\n",
            " 20  ASTL            6678 non-null   float64\n",
            " 21  ASTR            6678 non-null   float64\n",
            " 22  PNBL            6678 non-null   float64\n",
            " 23  PNBR            6678 non-null   float64\n",
            " 24  POSL            6678 non-null   float64\n",
            " 25  POSR            6678 non-null   float64\n",
            " 26  PCTB            6678 non-null   float64\n",
            " 27  ODON            6678 non-null   float64\n",
            " 28  TRFS            6678 non-null   float64\n",
            " 29  PHAR            6678 non-null   float64\n",
            " 30  HYPL            6678 non-null   float64\n",
            " 31  HYPR            6678 non-null   float64\n",
            " 32  PCPL            6678 non-null   float64\n",
            " 33  PCPR            6678 non-null   float64\n",
            " 34  ICCL            6678 non-null   float64\n",
            " 35  ICCR            6678 non-null   float64\n",
            " 36  SQSL            6678 non-null   float64\n",
            " 37  SQSR            6678 non-null   float64\n",
            " 38  SPSL            6678 non-null   float64\n",
            " 39  SPSR            6678 non-null   float64\n",
            " 40  MARL            6677 non-null   float64\n",
            " 41  MARR            6678 non-null   float64\n",
            " 42  TYML            6678 non-null   float64\n",
            " 43  TYMR            6678 non-null   float64\n",
            " 44  FSPL            6678 non-null   float64\n",
            " 45  FSPR            6678 non-null   float64\n",
            " 46  LPFL            6678 non-null   float64\n",
            " 47  LPFR            6678 non-null   float64\n",
            " 48  CIVL            6678 non-null   float64\n",
            " 49  CIVR            6678 non-null   float64\n",
            " 50  PTBL            6678 non-null   float64\n",
            " 51  PTBR            6678 non-null   float64\n",
            " 52  CLNL            6678 non-null   float64\n",
            " 53  CLNR            6678 non-null   float64\n",
            " 54  SOFL            6678 non-null   float64\n",
            " 55  SOFR            6678 non-null   float64\n",
            " 56  FRGL            6678 non-null   float64\n",
            " 57  FRGR            6678 non-null   float64\n",
            " 58  TRSL            6678 non-null   float64\n",
            " 59  TRSR            6678 non-null   float64\n",
            " 60  OPTL            6676 non-null   float64\n",
            " 61  OPTR            6678 non-null   float64\n",
            " 62  ORBL            6678 non-null   float64\n",
            " 63  ORBR            6678 non-null   float64\n",
            " 64  CONL            6678 non-null   float64\n",
            " 65  CONR            6678 non-null   float64\n",
            " 66  JAPL            6678 non-null   float64\n",
            " 67  JAPR            6678 non-null   float64\n",
            " 68  M3UL            6678 non-null   float64\n",
            " 69  M3UR            6678 non-null   float64\n",
            " 70  MENL            6678 non-null   float64\n",
            " 71  MENR            6678 non-null   float64\n",
            " 72  MHBL            6678 non-null   float64\n",
            " 73  MHBR            6678 non-null   float64\n",
            " 74  BUCL            6678 non-null   float64\n",
            " 75  BUCR            6678 non-null   float64\n",
            " 76  M3LL            6678 non-null   float64\n",
            " 77  M3LR            6678 non-null   float64\n",
            " 78  TRML            6678 non-null   float64\n",
            " 79  TRMR            6678 non-null   float64\n",
            " 80  ATAL            6678 non-null   float64\n",
            " 81  ATAR            6678 non-null   float64\n",
            " 82  ATBL            6678 non-null   float64\n",
            " 83  ATBR            6678 non-null   float64\n",
            "dtypes: float64(72), object(12)\n",
            "memory usage: 4.8+ MB\n"
          ]
        }
      ]
    },
    {
      "cell_type": "code",
      "source": [
        "Comp2_cnm.head()"
      ],
      "metadata": {
        "id": "bKw6o4T0qac4"
      },
      "execution_count": null,
      "outputs": []
    },
    {
      "cell_type": "markdown",
      "source": [
        "### Rename Comp2 data"
      ],
      "metadata": {
        "id": "PaF8vfqaqJW5"
      }
    },
    {
      "cell_type": "code",
      "source": [
        "Comp2_cnm_renamed = Comp2_cnm.rename(columns={'CONL': 'IFSL',\n",
        "                                  'CONR': 'IFSR',\n",
        "                                  'POSR': 'CCOR',\n",
        "                                  'POSL': 'CCOL'})\n",
        "Comp2_cnm_renamed.info()"
      ],
      "metadata": {
        "colab": {
          "base_uri": "https://localhost:8080/"
        },
        "id": "9wGlA0aZqIrk",
        "outputId": "3b6bf8e2-4961-454d-e1fb-97ecc04885a2"
      },
      "execution_count": null,
      "outputs": [
        {
          "output_type": "stream",
          "name": "stdout",
          "text": [
            "<class 'pandas.core.frame.DataFrame'>\n",
            "RangeIndex: 7471 entries, 0 to 7470\n",
            "Data columns (total 84 columns):\n",
            " #   Column          Non-Null Count  Dtype  \n",
            "---  ------          --------------  -----  \n",
            " 0   file.name       6678 non-null   object \n",
            " 1   GP1             2528 non-null   object \n",
            " 2   GP2             6513 non-null   object \n",
            " 3   GP3             6420 non-null   object \n",
            " 4   GP4             6068 non-null   object \n",
            " 5   GP5             5388 non-null   object \n",
            " 6   Site            5812 non-null   object \n",
            " 7   CatalogNo       6678 non-null   object \n",
            " 8   Museum          6678 non-null   object \n",
            " 9   AgeC            6678 non-null   float64\n",
            " 10  AgeY            720 non-null    object \n",
            " 11  Sex             6678 non-null   float64\n",
            " 12  DeformOriginal  6678 non-null   object \n",
            " 13  DeformGrade     6678 non-null   float64\n",
            " 14  DeformLRS       6678 non-null   object \n",
            " 15  METO            6678 non-null   float64\n",
            " 16  APIC            6678 non-null   float64\n",
            " 17  INCA            6678 non-null   float64\n",
            " 18  OMBL            6678 non-null   float64\n",
            " 19  OMBR            6678 non-null   float64\n",
            " 20  ASTL            6678 non-null   float64\n",
            " 21  ASTR            6678 non-null   float64\n",
            " 22  PNBL            6678 non-null   float64\n",
            " 23  PNBR            6678 non-null   float64\n",
            " 24  CCOL            6678 non-null   float64\n",
            " 25  CCOR            6678 non-null   float64\n",
            " 26  PCTB            6678 non-null   float64\n",
            " 27  ODON            6678 non-null   float64\n",
            " 28  TRFS            6678 non-null   float64\n",
            " 29  PHAR            6678 non-null   float64\n",
            " 30  HYPL            6678 non-null   float64\n",
            " 31  HYPR            6678 non-null   float64\n",
            " 32  PCPL            6678 non-null   float64\n",
            " 33  PCPR            6678 non-null   float64\n",
            " 34  ICCL            6678 non-null   float64\n",
            " 35  ICCR            6678 non-null   float64\n",
            " 36  SQSL            6678 non-null   float64\n",
            " 37  SQSR            6678 non-null   float64\n",
            " 38  SPSL            6678 non-null   float64\n",
            " 39  SPSR            6678 non-null   float64\n",
            " 40  MARL            6677 non-null   float64\n",
            " 41  MARR            6678 non-null   float64\n",
            " 42  TYML            6678 non-null   float64\n",
            " 43  TYMR            6678 non-null   float64\n",
            " 44  FSPL            6678 non-null   float64\n",
            " 45  FSPR            6678 non-null   float64\n",
            " 46  LPFL            6678 non-null   float64\n",
            " 47  LPFR            6678 non-null   float64\n",
            " 48  CIVL            6678 non-null   float64\n",
            " 49  CIVR            6678 non-null   float64\n",
            " 50  PTBL            6678 non-null   float64\n",
            " 51  PTBR            6678 non-null   float64\n",
            " 52  CLNL            6678 non-null   float64\n",
            " 53  CLNR            6678 non-null   float64\n",
            " 54  SOFL            6678 non-null   float64\n",
            " 55  SOFR            6678 non-null   float64\n",
            " 56  FRGL            6678 non-null   float64\n",
            " 57  FRGR            6678 non-null   float64\n",
            " 58  TRSL            6678 non-null   float64\n",
            " 59  TRSR            6678 non-null   float64\n",
            " 60  OPTL            6676 non-null   float64\n",
            " 61  OPTR            6678 non-null   float64\n",
            " 62  ORBL            6678 non-null   float64\n",
            " 63  ORBR            6678 non-null   float64\n",
            " 64  IFSL            6678 non-null   float64\n",
            " 65  IFSR            6678 non-null   float64\n",
            " 66  JAPL            6678 non-null   float64\n",
            " 67  JAPR            6678 non-null   float64\n",
            " 68  M3UL            6678 non-null   float64\n",
            " 69  M3UR            6678 non-null   float64\n",
            " 70  MENL            6678 non-null   float64\n",
            " 71  MENR            6678 non-null   float64\n",
            " 72  MHBL            6678 non-null   float64\n",
            " 73  MHBR            6678 non-null   float64\n",
            " 74  BUCL            6678 non-null   float64\n",
            " 75  BUCR            6678 non-null   float64\n",
            " 76  M3LL            6678 non-null   float64\n",
            " 77  M3LR            6678 non-null   float64\n",
            " 78  TRML            6678 non-null   float64\n",
            " 79  TRMR            6678 non-null   float64\n",
            " 80  ATAL            6678 non-null   float64\n",
            " 81  ATAR            6678 non-null   float64\n",
            " 82  ATBL            6678 non-null   float64\n",
            " 83  ATBR            6678 non-null   float64\n",
            "dtypes: float64(72), object(12)\n",
            "memory usage: 4.8+ MB\n"
          ]
        }
      ]
    },
    {
      "cell_type": "code",
      "source": [
        "Comp2_cnm_renamed_keep = pd.DataFrame(Comp2_cnm_renamed.iloc[:, :12])"
      ],
      "metadata": {
        "id": "d5gSdf40qIuN"
      },
      "execution_count": null,
      "outputs": []
    },
    {
      "cell_type": "code",
      "source": [
        "Comp2_cnm_renamed_keep['Collection'] = 'Comp2'"
      ],
      "metadata": {
        "id": "B9cMZki9qIzO"
      },
      "execution_count": null,
      "outputs": []
    },
    {
      "cell_type": "code",
      "source": [
        "Comp2_cnm_renamed_keep.head()"
      ],
      "metadata": {
        "id": "GaOtpoUpqIwl"
      },
      "execution_count": null,
      "outputs": []
    },
    {
      "cell_type": "code",
      "source": [
        "Comp2_cnm_renamed_keep['METO'] = Comp2_cnm_renamed['METO']\n",
        "Comp2_cnm_renamed_keep['INCA'] = Comp2_cnm_renamed['INCA']\n",
        "Comp2_cnm_renamed_keep['PHAR'] = Comp2_cnm_renamed['PHAR']\n",
        "Comp2_cnm_renamed_keep['APIC'] = Comp2_cnm_renamed['APIC']"
      ],
      "metadata": {
        "id": "o6FYT1mHtltI"
      },
      "execution_count": null,
      "outputs": []
    },
    {
      "cell_type": "code",
      "source": [
        "Comp2_cnm_renamed_keep.head()"
      ],
      "metadata": {
        "id": "f-zHPik-uYaj"
      },
      "execution_count": null,
      "outputs": []
    },
    {
      "cell_type": "markdown",
      "source": [
        "### Collapse Comp2 sided traits"
      ],
      "metadata": {
        "id": "e0s36AiHFp6d"
      }
    },
    {
      "cell_type": "code",
      "source": [
        "selected_columns = Comp2_cnm_renamed[['OMBL', 'OMBR', 'ASTL', 'ASTR', 'PNBL', 'PNBR',\n",
        "                                          'HYPL', 'HYPR', 'TYML', 'TYMR', 'CIVL', 'CIVR',\n",
        "                                          'PTBL', 'PTBR', 'SOFL', 'SOFR', 'MENL', 'MENR',\n",
        "                                          'MHBL', 'MHBR', 'IFSL', 'IFSR', 'CCOL', 'CCOR']]\n",
        "Comp2_cnm_sidedVars_collapsing = selected_columns.copy()"
      ],
      "metadata": {
        "id": "-4-M_VwIs3zS"
      },
      "execution_count": null,
      "outputs": []
    },
    {
      "cell_type": "code",
      "source": [
        "Comp2_cnm_sidedVars_collapsing.head()"
      ],
      "metadata": {
        "id": "L1I5dnfxuz91"
      },
      "execution_count": null,
      "outputs": []
    },
    {
      "cell_type": "code",
      "source": [
        "our_column_names = []                    # create an empty list for the column names\n",
        "for t in list(Comp2_cnm_sidedVars_collapsing.columns):\n",
        "    if t[-1] == 'L':                     # find all column names that end in L (double check that on Lefts end in L prior to this step)\n",
        "        our_column_names.append(t[:-1])  # t[:-1] truncates the last letter (L or R) from the col name\n",
        "print(our_column_names)"
      ],
      "metadata": {
        "colab": {
          "base_uri": "https://localhost:8080/"
        },
        "outputId": "a10b2996-aef4-4f23-93dc-42f5e809ab33",
        "id": "9PSlydphvIr5"
      },
      "execution_count": null,
      "outputs": [
        {
          "output_type": "stream",
          "name": "stdout",
          "text": [
            "['OMB', 'AST', 'PNB', 'HYP', 'TYM', 'CIV', 'PTB', 'SOF', 'MEN', 'MHB', 'IFS', 'CCO']\n"
          ]
        }
      ]
    },
    {
      "cell_type": "markdown",
      "source": [
        "The output for the following code cell was removed to protect PII and/or the raw data. The output contained the following columns:\n",
        "* LBMR, LBML, LBLaR, LBLaL...MENR, MENL\n"
      ],
      "metadata": {
        "id": "bloZxoKsSNxF"
      }
    },
    {
      "cell_type": "code",
      "source": [
        "Comp2_cnm_sidedVars_collapsing.head()"
      ],
      "metadata": {
        "id": "666mIBfBvIr6"
      },
      "execution_count": null,
      "outputs": []
    },
    {
      "cell_type": "code",
      "source": [
        "for c in our_column_names:\n",
        "    c_l = c +'L'                                # loop through all Lefts in variable c_l\n",
        "    c_r = c + 'R'                               # loop through all Rights in variable c_r\n",
        "    #print(value)\n",
        "    Comp2_cnm_sidedVars_collapsing[c] = Comp2_cnm_sidedVars_collapsing[c_l]                     # overwrite the base (unsided) column variables (c) with Left values (c_l)\n",
        "    Comp2_cnm_sidedVars_collapsing['mask'] = (Comp2_cnm_sidedVars_collapsing[c].isnull())       # create a mask variable where all NaNs will be True\n",
        "\n",
        "    Comp2_cnm_sidedVars_collapsing.loc[Comp2_cnm_sidedVars_collapsing['mask'], c] = Comp2_cnm_sidedVars_collapsing[c_r] # for rows that have NaNs in 'mask', overwrite the corresponding value in c with the value from the Right side (c_r)\n",
        "    print(Comp2_cnm_sidedVars_collapsing[c].tail(15))                   # print the unsided columns tail to check for\n",
        "#print(Comp2_cnm_sidedVars_collapsing['SON'].head())\n",
        "#print(Comp2_cnm_sidedVars_collapsing['FOI'].tail(10))"
      ],
      "metadata": {
        "id": "n0IdGMEwvIr6"
      },
      "execution_count": null,
      "outputs": []
    },
    {
      "cell_type": "code",
      "source": [
        "del Comp2_cnm_sidedVars_collapsing['mask']"
      ],
      "metadata": {
        "id": "wcU_GSRbvk2H"
      },
      "execution_count": null,
      "outputs": []
    },
    {
      "cell_type": "code",
      "source": [
        "Comp2_cnm_sidedVars_collapsing.info()"
      ],
      "metadata": {
        "colab": {
          "base_uri": "https://localhost:8080/"
        },
        "id": "c1W3zw3Nvcn_",
        "outputId": "5326f000-b198-4dee-cd69-7b80dc1af4db"
      },
      "execution_count": null,
      "outputs": [
        {
          "output_type": "stream",
          "name": "stdout",
          "text": [
            "<class 'pandas.core.frame.DataFrame'>\n",
            "RangeIndex: 7471 entries, 0 to 7470\n",
            "Data columns (total 36 columns):\n",
            " #   Column  Non-Null Count  Dtype  \n",
            "---  ------  --------------  -----  \n",
            " 0   OMBL    6678 non-null   float64\n",
            " 1   OMBR    6678 non-null   float64\n",
            " 2   ASTL    6678 non-null   float64\n",
            " 3   ASTR    6678 non-null   float64\n",
            " 4   PNBL    6678 non-null   float64\n",
            " 5   PNBR    6678 non-null   float64\n",
            " 6   HYPL    6678 non-null   float64\n",
            " 7   HYPR    6678 non-null   float64\n",
            " 8   TYML    6678 non-null   float64\n",
            " 9   TYMR    6678 non-null   float64\n",
            " 10  CIVL    6678 non-null   float64\n",
            " 11  CIVR    6678 non-null   float64\n",
            " 12  PTBL    6678 non-null   float64\n",
            " 13  PTBR    6678 non-null   float64\n",
            " 14  SOFL    6678 non-null   float64\n",
            " 15  SOFR    6678 non-null   float64\n",
            " 16  MENL    6678 non-null   float64\n",
            " 17  MENR    6678 non-null   float64\n",
            " 18  MHBL    6678 non-null   float64\n",
            " 19  MHBR    6678 non-null   float64\n",
            " 20  IFSL    6678 non-null   float64\n",
            " 21  IFSR    6678 non-null   float64\n",
            " 22  CCOL    6678 non-null   float64\n",
            " 23  CCOR    6678 non-null   float64\n",
            " 24  OMB     6678 non-null   float64\n",
            " 25  AST     6678 non-null   float64\n",
            " 26  PNB     6678 non-null   float64\n",
            " 27  HYP     6678 non-null   float64\n",
            " 28  TYM     6678 non-null   float64\n",
            " 29  CIV     6678 non-null   float64\n",
            " 30  PTB     6678 non-null   float64\n",
            " 31  SOF     6678 non-null   float64\n",
            " 32  MEN     6678 non-null   float64\n",
            " 33  MHB     6678 non-null   float64\n",
            " 34  IFS     6678 non-null   float64\n",
            " 35  CCO     6678 non-null   float64\n",
            "dtypes: float64(36)\n",
            "memory usage: 2.1 MB\n"
          ]
        }
      ]
    },
    {
      "cell_type": "code",
      "source": [
        "Comp2_cnm_sidedVars_collapsed = pd.DataFrame(Comp2_cnm_sidedVars_collapsing.iloc[:, 24:])"
      ],
      "metadata": {
        "id": "q-8OLNP4vcrq"
      },
      "execution_count": null,
      "outputs": []
    },
    {
      "cell_type": "code",
      "source": [
        "Comp2_cnm_sidedVars_collapsed.info()"
      ],
      "metadata": {
        "colab": {
          "base_uri": "https://localhost:8080/"
        },
        "id": "pjpQ1BkQvcwA",
        "outputId": "560b52af-e477-445d-f5e1-ad13de2105b9"
      },
      "execution_count": null,
      "outputs": [
        {
          "output_type": "stream",
          "name": "stdout",
          "text": [
            "<class 'pandas.core.frame.DataFrame'>\n",
            "RangeIndex: 7471 entries, 0 to 7470\n",
            "Data columns (total 12 columns):\n",
            " #   Column  Non-Null Count  Dtype  \n",
            "---  ------  --------------  -----  \n",
            " 0   OMB     6678 non-null   float64\n",
            " 1   AST     6678 non-null   float64\n",
            " 2   PNB     6678 non-null   float64\n",
            " 3   HYP     6678 non-null   float64\n",
            " 4   TYM     6678 non-null   float64\n",
            " 5   CIV     6678 non-null   float64\n",
            " 6   PTB     6678 non-null   float64\n",
            " 7   SOF     6678 non-null   float64\n",
            " 8   MEN     6678 non-null   float64\n",
            " 9   MHB     6678 non-null   float64\n",
            " 10  IFS     6678 non-null   float64\n",
            " 11  CCO     6678 non-null   float64\n",
            "dtypes: float64(12)\n",
            "memory usage: 700.5 KB\n"
          ]
        }
      ]
    },
    {
      "cell_type": "code",
      "source": [
        "Comp2_cnm_collapsed = pd.concat([Comp2_cnm_renamed_keep, Comp2_cnm_sidedVars_collapsed], axis=1)"
      ],
      "metadata": {
        "id": "Oz1bKPzPvz8Z"
      },
      "execution_count": null,
      "outputs": []
    },
    {
      "cell_type": "markdown",
      "source": [
        "The output for the following code cell was removed to protect PII and/or the raw data. The output contained the following columns:\n",
        "* file.name, GP1, GP2, GP3, GP4, GP5, Site, CatalogNo, Museum, AgeC, AgeY, Sex, Collection, METO, INCA..."
      ],
      "metadata": {
        "id": "IIFzWqArTEOG"
      }
    },
    {
      "cell_type": "code",
      "source": [
        "Comp2_cnm_collapsed.head()"
      ],
      "metadata": {
        "id": "uK8T3ajLwN7x"
      },
      "execution_count": null,
      "outputs": []
    },
    {
      "cell_type": "code",
      "source": [
        "Comp2_cnm_recoded = pd.DataFrame(Comp2_cnm_collapsed.iloc[:, :])"
      ],
      "metadata": {
        "id": "u2QfVWKXxRU7"
      },
      "execution_count": null,
      "outputs": []
    },
    {
      "cell_type": "code",
      "source": [
        "Comp2_cnm_recoded['PHAR'] = Comp2_cnm_collapsed['PHAR'].replace([0.0, 1.0, 2.0, 3.0], [0, 1, 1, 1])\n",
        "Comp2_cnm_recoded['SOF'] = Comp2_cnm_collapsed['SOF'].replace([0.0, 1.0, 2.0], [0, 1, 1])\n",
        "Comp2_cnm_recoded['CCO'] = Comp2_cnm_collapsed['CCO'].replace([0.0, 1.0], [1, 0])"
      ],
      "metadata": {
        "id": "UehDToWQxL5l"
      },
      "execution_count": null,
      "outputs": []
    },
    {
      "cell_type": "code",
      "source": [
        "Comp2_cnm_recoded.head()"
      ],
      "metadata": {
        "id": "F_UPnE4hx6LA"
      },
      "execution_count": null,
      "outputs": []
    },
    {
      "cell_type": "markdown",
      "source": [
        "#### Output file: Comp2 data recoded"
      ],
      "metadata": {
        "id": "4SOj6PiAw9gB"
      }
    },
    {
      "cell_type": "code",
      "source": [
        "Comp2_cnm_recoded.to_excel('/drive/My Drive/Colab Notebooks/Statistical analysis/Aim 2 - Microevolution/Comp2_cnm_recoded.xlsx', index=False)"
      ],
      "metadata": {
        "id": "6IejpWM2w9gC"
      },
      "execution_count": null,
      "outputs": []
    },
    {
      "cell_type": "markdown",
      "source": [
        "### Prep Comp2 data for analyses\n",
        "*Comp2_cnm_recoded_popAff.xlsx* is the *Comp2_cnm_recoded.xlsx* file with Population Affinity added manually in Excel"
      ],
      "metadata": {
        "id": "9l1gIEXZYJ0U"
      }
    },
    {
      "cell_type": "code",
      "source": [
        "Comp2_cnm_recoded_popAff = pd.read_excel('Comp2_cnm_recoded_popAff.xlsx')"
      ],
      "metadata": {
        "id": "Ltb3X0yAYglf"
      },
      "execution_count": null,
      "outputs": []
    },
    {
      "cell_type": "markdown",
      "source": [
        "The output for the following code cell was removed to protect PII and/or the raw data. The output contained the following columns:\n",
        "* file.name, GP1, GP2, GP3, GP4, GP5, Site, CatalogNo, Museum, AgeC, AgeY, Sex, Collection, METO, INCA..."
      ],
      "metadata": {
        "id": "jwQzjCk7TtIs"
      }
    },
    {
      "cell_type": "code",
      "source": [
        "Comp2_cnm_recoded_popAff.head()"
      ],
      "metadata": {
        "id": "oJ6TzHeUUSXR"
      },
      "execution_count": null,
      "outputs": []
    },
    {
      "cell_type": "code",
      "source": [
        "Comp2_cnm_recoded_popAff.info()"
      ],
      "metadata": {
        "colab": {
          "base_uri": "https://localhost:8080/"
        },
        "id": "aepfNSpOUUqn",
        "outputId": "81f04254-0664-4036-a680-d846d5b0681e"
      },
      "execution_count": null,
      "outputs": [
        {
          "output_type": "stream",
          "name": "stdout",
          "text": [
            "<class 'pandas.core.frame.DataFrame'>\n",
            "RangeIndex: 6678 entries, 0 to 6677\n",
            "Data columns (total 31 columns):\n",
            " #   Column           Non-Null Count  Dtype \n",
            "---  ------           --------------  ----- \n",
            " 0   file.name        6678 non-null   object\n",
            " 1   Population Code  6678 non-null   object\n",
            " 2   Population Name  6678 non-null   object\n",
            " 3   GP1              2528 non-null   object\n",
            " 4   GP2              6513 non-null   object\n",
            " 5   GP3              6420 non-null   object\n",
            " 6   GP4              6068 non-null   object\n",
            " 7   GP5              5388 non-null   object\n",
            " 8   Site             5812 non-null   object\n",
            " 9   CatalogNo        6678 non-null   object\n",
            " 10  Museum           6678 non-null   object\n",
            " 11  AgeC             6678 non-null   int64 \n",
            " 12  AgeY             720 non-null    object\n",
            " 13  Sex              6678 non-null   int64 \n",
            " 14  Collection       6678 non-null   object\n",
            " 15  METO             6678 non-null   int64 \n",
            " 16  INCA             6678 non-null   int64 \n",
            " 17  PHAR             6678 non-null   int64 \n",
            " 18  APIC             6678 non-null   int64 \n",
            " 19  OMB              6678 non-null   int64 \n",
            " 20  AST              6678 non-null   int64 \n",
            " 21  PNB              6678 non-null   int64 \n",
            " 22  HYP              6678 non-null   int64 \n",
            " 23  TYM              6678 non-null   int64 \n",
            " 24  CIV              6678 non-null   int64 \n",
            " 25  PTB              6678 non-null   int64 \n",
            " 26  SOF              6678 non-null   int64 \n",
            " 27  MEN              6678 non-null   int64 \n",
            " 28  MHB              6678 non-null   int64 \n",
            " 29  IFS              6678 non-null   int64 \n",
            " 30  CCO              6678 non-null   int64 \n",
            "dtypes: int64(18), object(13)\n",
            "memory usage: 1.6+ MB\n"
          ]
        }
      ]
    },
    {
      "cell_type": "markdown",
      "source": [
        "#### Remove pop count < 5"
      ],
      "metadata": {
        "id": "Kz4saUytpCMo"
      }
    },
    {
      "cell_type": "code",
      "source": [
        "Comp2_cnm_recoded_popAff[Comp2_cnm_recoded_popAff['Population Code'] == 'CAM']"
      ],
      "metadata": {
        "id": "E4oG7yKujjdo"
      },
      "execution_count": null,
      "outputs": []
    },
    {
      "cell_type": "code",
      "source": [
        "Comp2_cnm_recoded_popAff['Population Code'].value_counts(ascending=True)"
      ],
      "metadata": {
        "colab": {
          "base_uri": "https://localhost:8080/"
        },
        "id": "8-raJJDFkHLl",
        "outputId": "c77cc904-b8b9-4a42-9a89-fee6fa737750"
      },
      "execution_count": null,
      "outputs": [
        {
          "output_type": "execute_result",
          "data": {
            "text/plain": [
              "FR        1\n",
              "LIB       2\n",
              "CAM       2\n",
              "EU        4\n",
              "GAB       6\n",
              "GE        7\n",
              "BV        7\n",
              "PT       12\n",
              "CZ       13\n",
              "RU       13\n",
              "TF       14\n",
              "CHAT     20\n",
              "KEN      21\n",
              "NIG      28\n",
              "GHA      31\n",
              "CH       32\n",
              "NFL      35\n",
              "IC       38\n",
              "NZ       44\n",
              "TAN      47\n",
              "AU       50\n",
              "MQ       51\n",
              "NN       52\n",
              "HU       58\n",
              "MON      59\n",
              "S        60\n",
              "USB      60\n",
              "ONT      63\n",
              "SUD      67\n",
              "CHN      68\n",
              "SIE      87\n",
              "ILL      92\n",
              "ARM     117\n",
              "IND     118\n",
              "PEC     152\n",
              "AT      165\n",
              "SIB     176\n",
              "HK      189\n",
              "N       192\n",
              "PLT     205\n",
              "CAN     216\n",
              "PLN     225\n",
              "W       267\n",
              "CAR     328\n",
              "EAR     333\n",
              "SLS     348\n",
              "C       357\n",
              "NMV     366\n",
              "AL      395\n",
              "NAL     414\n",
              "NPC     428\n",
              "SAL     543\n",
              "Name: Population Code, dtype: int64"
            ]
          },
          "metadata": {},
          "execution_count": 12
        }
      ]
    },
    {
      "cell_type": "code",
      "source": [
        "# Remove CAM, LIB, EU, and FR because each of these populations has less than 5 individuals\n",
        "\n",
        "Comp2_cnm_recoded_popAff.drop(Comp2_cnm_recoded_popAff.index[Comp2_cnm_recoded_popAff['Population Code'] == 'FR'], inplace=True)\n",
        "Comp2_cnm_recoded_popAff.drop(Comp2_cnm_recoded_popAff.index[Comp2_cnm_recoded_popAff['Population Code'] == 'LIB'], inplace=True)\n",
        "Comp2_cnm_recoded_popAff.drop(Comp2_cnm_recoded_popAff.index[Comp2_cnm_recoded_popAff['Population Code'] == 'CAM'], inplace=True)\n",
        "Comp2_cnm_recoded_popAff.drop(Comp2_cnm_recoded_popAff.index[Comp2_cnm_recoded_popAff['Population Code'] == 'EU'], inplace=True)"
      ],
      "metadata": {
        "id": "XnkcvXBrjymI"
      },
      "execution_count": null,
      "outputs": []
    },
    {
      "cell_type": "code",
      "source": [
        "# Check to make sure all populations with < 5 were removed\n",
        "Comp2_cnm_recoded_popAff['Population Code'].value_counts(ascending=True)"
      ],
      "metadata": {
        "colab": {
          "base_uri": "https://localhost:8080/"
        },
        "id": "jyXQ6aMfmnrv",
        "outputId": "557c772c-3caf-471e-afdd-884fe4424aa6"
      },
      "execution_count": null,
      "outputs": [
        {
          "output_type": "execute_result",
          "data": {
            "text/plain": [
              "GAB       6\n",
              "BV        7\n",
              "GE        7\n",
              "PT       12\n",
              "CZ       13\n",
              "RU       13\n",
              "TF       14\n",
              "CHAT     20\n",
              "KEN      21\n",
              "NIG      28\n",
              "GHA      31\n",
              "CH       32\n",
              "NFL      35\n",
              "IC       38\n",
              "NZ       44\n",
              "TAN      47\n",
              "AU       50\n",
              "MQ       51\n",
              "NN       52\n",
              "HU       58\n",
              "MON      59\n",
              "USB      60\n",
              "S        60\n",
              "ONT      63\n",
              "SUD      67\n",
              "CHN      68\n",
              "SIE      87\n",
              "ILL      92\n",
              "ARM     117\n",
              "IND     118\n",
              "PEC     152\n",
              "AT      165\n",
              "SIB     176\n",
              "HK      189\n",
              "N       192\n",
              "PLT     205\n",
              "CAN     216\n",
              "PLN     225\n",
              "W       267\n",
              "CAR     328\n",
              "EAR     333\n",
              "SLS     348\n",
              "C       357\n",
              "NMV     366\n",
              "AL      395\n",
              "NAL     414\n",
              "NPC     428\n",
              "SAL     543\n",
              "Name: Population Code, dtype: int64"
            ]
          },
          "metadata": {},
          "execution_count": 14
        }
      ]
    },
    {
      "cell_type": "code",
      "source": [
        "Comp2_cnm_recoded_popAff.info()"
      ],
      "metadata": {
        "colab": {
          "base_uri": "https://localhost:8080/"
        },
        "id": "8BCVnlDTm6H8",
        "outputId": "a1466c13-a27e-45d3-e58b-266c31db82df"
      },
      "execution_count": null,
      "outputs": [
        {
          "output_type": "stream",
          "name": "stdout",
          "text": [
            "<class 'pandas.core.frame.DataFrame'>\n",
            "Int64Index: 6669 entries, 0 to 6677\n",
            "Data columns (total 31 columns):\n",
            " #   Column           Non-Null Count  Dtype \n",
            "---  ------           --------------  ----- \n",
            " 0   file.name        6669 non-null   object\n",
            " 1   Population Code  6669 non-null   object\n",
            " 2   Population Name  6669 non-null   object\n",
            " 3   GP1              2519 non-null   object\n",
            " 4   GP2              6504 non-null   object\n",
            " 5   GP3              6416 non-null   object\n",
            " 6   GP4              6068 non-null   object\n",
            " 7   GP5              5383 non-null   object\n",
            " 8   Site             5812 non-null   object\n",
            " 9   CatalogNo        6669 non-null   object\n",
            " 10  Museum           6669 non-null   object\n",
            " 11  AgeC             6669 non-null   int64 \n",
            " 12  AgeY             720 non-null    object\n",
            " 13  Sex              6669 non-null   int64 \n",
            " 14  Collection       6669 non-null   object\n",
            " 15  METO             6669 non-null   int64 \n",
            " 16  INCA             6669 non-null   int64 \n",
            " 17  PHAR             6669 non-null   int64 \n",
            " 18  APIC             6669 non-null   int64 \n",
            " 19  OMB              6669 non-null   int64 \n",
            " 20  AST              6669 non-null   int64 \n",
            " 21  PNB              6669 non-null   int64 \n",
            " 22  HYP              6669 non-null   int64 \n",
            " 23  TYM              6669 non-null   int64 \n",
            " 24  CIV              6669 non-null   int64 \n",
            " 25  PTB              6669 non-null   int64 \n",
            " 26  SOF              6669 non-null   int64 \n",
            " 27  MEN              6669 non-null   int64 \n",
            " 28  MHB              6669 non-null   int64 \n",
            " 29  IFS              6669 non-null   int64 \n",
            " 30  CCO              6669 non-null   int64 \n",
            "dtypes: int64(18), object(13)\n",
            "memory usage: 1.6+ MB\n"
          ]
        }
      ]
    },
    {
      "cell_type": "markdown",
      "source": [
        "#### Age"
      ],
      "metadata": {
        "id": "0trK7AIRo-kq"
      }
    },
    {
      "cell_type": "code",
      "source": [
        "Comp2_cnm_recoded_popAff['AgeC'].unique()"
      ],
      "metadata": {
        "colab": {
          "base_uri": "https://localhost:8080/"
        },
        "id": "lvrK6BiknxHV",
        "outputId": "660b213f-dd30-41e0-99e5-a751f71662ce"
      },
      "execution_count": null,
      "outputs": [
        {
          "output_type": "execute_result",
          "data": {
            "text/plain": [
              "array([5, 6, 9, 8])"
            ]
          },
          "metadata": {},
          "execution_count": 16
        }
      ]
    },
    {
      "cell_type": "code",
      "source": [
        "# drop AgeC == 8 because 8s are children\n",
        "\n",
        "Comp2_cnm_recoded_popAff.drop(Comp2_cnm_recoded_popAff.index[Comp2_cnm_recoded_popAff['AgeC'] == 8], inplace=True)"
      ],
      "metadata": {
        "id": "UuD9q44MohsS"
      },
      "execution_count": null,
      "outputs": []
    },
    {
      "cell_type": "code",
      "source": [
        "Comp2_cnm_recoded_popAff['AgeC'].unique()"
      ],
      "metadata": {
        "colab": {
          "base_uri": "https://localhost:8080/"
        },
        "id": "f8gMKdFQopd_",
        "outputId": "f8cc038d-9fda-4879-8544-d27c324b00ea"
      },
      "execution_count": null,
      "outputs": [
        {
          "output_type": "execute_result",
          "data": {
            "text/plain": [
              "array([5, 6, 9])"
            ]
          },
          "metadata": {},
          "execution_count": 18
        }
      ]
    },
    {
      "cell_type": "markdown",
      "source": [
        "#### Sex"
      ],
      "metadata": {
        "id": "o3pY_v1Do8Ay"
      }
    },
    {
      "cell_type": "code",
      "source": [
        "Comp2_sex = Comp2_cnm_recoded_popAff.groupby('Population Code').apply(lambda x: x['Sex'].value_counts())\n",
        "print(Comp2_sex)"
      ],
      "metadata": {
        "colab": {
          "base_uri": "https://localhost:8080/"
        },
        "id": "i8qH6G1yd9Un",
        "outputId": "df9167e3-e32c-4329-e316-3b6c9ac1c614"
      },
      "execution_count": null,
      "outputs": [
        {
          "output_type": "stream",
          "name": "stdout",
          "text": [
            "Population Code   \n",
            "AL               4    198\n",
            "                 0    197\n",
            "ARM              0     69\n",
            "                 4     48\n",
            "AT               4     84\n",
            "                 0     81\n",
            "AU               0     29\n",
            "                 4     21\n",
            "BV               0      4\n",
            "                 4      3\n",
            "C                0    223\n",
            "                 4    134\n",
            "CAN              0    118\n",
            "                 4     98\n",
            "CAR              4    165\n",
            "                 0    163\n",
            "CH               0     25\n",
            "                 4      7\n",
            "CHAT             0     11\n",
            "                 4      9\n",
            "CHN              0     55\n",
            "                 4     13\n",
            "CZ               0     10\n",
            "                 4      3\n",
            "EAR              4    185\n",
            "                 0    148\n",
            "GAB              4      3\n",
            "                 0      3\n",
            "GE               0      5\n",
            "                 4      2\n",
            "GHA              0     17\n",
            "                 4     14\n",
            "HK               0    102\n",
            "                 4     87\n",
            "HU               0     41\n",
            "                 4     17\n",
            "IC               4     19\n",
            "                 0     19\n",
            "ILL              0     51\n",
            "                 4     41\n",
            "IND              0     68\n",
            "                 4     50\n",
            "KEN              4     14\n",
            "                 0      7\n",
            "MON              0     35\n",
            "                 4     24\n",
            "MQ               0     37\n",
            "                 4     14\n",
            "N                0    106\n",
            "                 4     86\n",
            "NAL              0    218\n",
            "                 4    196\n",
            "NFL              0     20\n",
            "                 4     15\n",
            "NIG              0     15\n",
            "                 4     13\n",
            "NMV              0    217\n",
            "                 4    147\n",
            "NN               0     31\n",
            "                 4     21\n",
            "NPC              0    248\n",
            "                 4    180\n",
            "NZ               0     24\n",
            "                 4     20\n",
            "ONT              4     34\n",
            "                 0     29\n",
            "PEC              4     81\n",
            "                 0     71\n",
            "PLN              0    133\n",
            "                 4     92\n",
            "PLT              0    114\n",
            "                 4     91\n",
            "PT               0     10\n",
            "                 4      2\n",
            "RU               0     13\n",
            "S                0     42\n",
            "                 4     18\n",
            "SAL              4    282\n",
            "                 0    261\n",
            "SIB              0     93\n",
            "                 4     83\n",
            "SIE              0     44\n",
            "                 4     43\n",
            "SLS              0    180\n",
            "                 4    168\n",
            "SUD              0     42\n",
            "                 4     25\n",
            "TAN              4     31\n",
            "                 0     16\n",
            "TF               0      9\n",
            "                 4      5\n",
            "USB              0     33\n",
            "                 4     27\n",
            "W                0    161\n",
            "                 4    106\n",
            "Name: Sex, dtype: int64\n"
          ]
        }
      ]
    },
    {
      "cell_type": "code",
      "source": [
        "# total number of females in the df\n",
        "\n",
        "females = (Comp2_cnm_recoded_popAff['Sex']==4).sum()\n",
        "females"
      ],
      "metadata": {
        "colab": {
          "base_uri": "https://localhost:8080/"
        },
        "id": "A-vN0dRZp7GO",
        "outputId": "0ac36c53-e3a5-44aa-add0-466cf5638dd2"
      },
      "execution_count": null,
      "outputs": [
        {
          "output_type": "execute_result",
          "data": {
            "text/plain": [
              "3019"
            ]
          },
          "metadata": {},
          "execution_count": 20
        }
      ]
    },
    {
      "cell_type": "code",
      "source": [
        "# total number of males in the df\n",
        "\n",
        "males = (Comp2_cnm_recoded_popAff['Sex']==0).sum()\n",
        "males"
      ],
      "metadata": {
        "colab": {
          "base_uri": "https://localhost:8080/"
        },
        "id": "fU9UoCdarMqb",
        "outputId": "56f9a419-6bc1-4bfb-a287-0d5d45d0e705"
      },
      "execution_count": null,
      "outputs": [
        {
          "output_type": "execute_result",
          "data": {
            "text/plain": [
              "3648"
            ]
          },
          "metadata": {},
          "execution_count": 21
        }
      ]
    },
    {
      "cell_type": "code",
      "source": [
        "# number of USB females\n",
        "\n",
        "females_USB = ((Comp2_cnm_recoded_popAff['Population Code']=='USB') & (Comp2_cnm_recoded_popAff['Sex']==4)).sum()\n",
        "females_USB"
      ],
      "metadata": {
        "colab": {
          "base_uri": "https://localhost:8080/"
        },
        "id": "UJxVMwJYtgWM",
        "outputId": "920928ab-e211-42f2-c2ca-6fe53e2163a2"
      },
      "execution_count": null,
      "outputs": [
        {
          "output_type": "execute_result",
          "data": {
            "text/plain": [
              "27"
            ]
          },
          "metadata": {},
          "execution_count": 22
        }
      ]
    },
    {
      "cell_type": "code",
      "source": [
        "# number of USB males\n",
        "\n",
        "males_USB = ((Comp2_cnm_recoded_popAff['Population Code']=='USB') & (Comp2_cnm_recoded_popAff['Sex']==0)).sum()\n",
        "males_USB"
      ],
      "metadata": {
        "colab": {
          "base_uri": "https://localhost:8080/"
        },
        "id": "l8r52e3F5V3s",
        "outputId": "adbf95e1-4b1f-48b9-f01c-4cf50bd5c912"
      },
      "execution_count": null,
      "outputs": [
        {
          "output_type": "execute_result",
          "data": {
            "text/plain": [
              "33"
            ]
          },
          "metadata": {},
          "execution_count": 23
        }
      ]
    },
    {
      "cell_type": "code",
      "source": [
        "# group the entire df by Population Code\n",
        "pop = Comp2_cnm_recoded_popAff.groupby(['Population Code'])\n",
        "pop.head()"
      ],
      "metadata": {
        "id": "pdG84FN-Ais8"
      },
      "execution_count": null,
      "outputs": []
    },
    {
      "cell_type": "code",
      "source": [
        "Comp2_cnm_recoded_popAff['Population Code'].describe()"
      ],
      "metadata": {
        "colab": {
          "base_uri": "https://localhost:8080/"
        },
        "id": "CmWZUaUeLeJY",
        "outputId": "0851f8cb-2dac-451e-8527-063afee98b83"
      },
      "execution_count": null,
      "outputs": [
        {
          "output_type": "execute_result",
          "data": {
            "text/plain": [
              "count     6667\n",
              "unique      48\n",
              "top        SAL\n",
              "freq       543\n",
              "Name: Population Code, dtype: object"
            ]
          },
          "metadata": {},
          "execution_count": 28
        }
      ]
    },
    {
      "cell_type": "code",
      "source": [
        "Comp2_cnm_recoded_popAff['Population Code'].unique()"
      ],
      "metadata": {
        "colab": {
          "base_uri": "https://localhost:8080/"
        },
        "id": "Z3J-lz6mHXpu",
        "outputId": "590eaa52-6403-4ab6-f6c3-7e6b83dcc3be"
      },
      "execution_count": null,
      "outputs": [
        {
          "output_type": "execute_result",
          "data": {
            "text/plain": [
              "array(['USB', 'KEN', 'TAN', 'SUD', 'S', 'GAB', 'GHA', 'NIG', 'W', 'HK',\n",
              "       'AL', 'SAL', 'SLS', 'NAL', 'CAR', 'EAR', 'ARM', 'AT', 'CAN', 'BV',\n",
              "       'CZ', 'GE', 'RU', 'HU', 'IC', 'IND', 'SIE', 'C', 'N', 'NN', 'CHN',\n",
              "       'MON', 'SIB', 'NMV', 'ILL', 'NFL', 'ONT', 'NPC', 'PEC', 'PLN',\n",
              "       'PLT', 'CH', 'PT', 'TF', 'AU', 'CHAT', 'MQ', 'NZ'], dtype=object)"
            ]
          },
          "metadata": {},
          "execution_count": 27
        }
      ]
    },
    {
      "cell_type": "code",
      "source": [
        "# create a list of the unique Population Code values\n",
        "\n",
        "pops = Comp2_cnm_recoded_popAff['Population Code'].unique()\n",
        "pops"
      ],
      "metadata": {
        "colab": {
          "base_uri": "https://localhost:8080/"
        },
        "id": "HTXoWg-ZHbzT",
        "outputId": "a9893aa0-42ab-4a46-fce2-a13a08c57a36"
      },
      "execution_count": null,
      "outputs": [
        {
          "output_type": "execute_result",
          "data": {
            "text/plain": [
              "array(['USB', 'KEN', 'TAN', 'SUD', 'S', 'GAB', 'GHA', 'NIG', 'W', 'HK',\n",
              "       'AL', 'SAL', 'SLS', 'NAL', 'CAR', 'EAR', 'ARM', 'AT', 'CAN', 'BV',\n",
              "       'CZ', 'GE', 'RU', 'HU', 'IC', 'IND', 'SIE', 'C', 'N', 'NN', 'CHN',\n",
              "       'MON', 'SIB', 'NMV', 'ILL', 'NFL', 'ONT', 'NPC', 'PEC', 'PLN',\n",
              "       'PLT', 'CH', 'PT', 'TF', 'AU', 'CHAT', 'MQ', 'NZ'], dtype=object)"
            ]
          },
          "metadata": {},
          "execution_count": 29
        }
      ]
    },
    {
      "cell_type": "code",
      "source": [
        "column_names = ['Population Code', 'Females', 'Males', 'Total']\n",
        "Comp2_sex = pd.DataFrame(columns = column_names)\n",
        "\n",
        "for i, pop in enumerate(pops):\n",
        "  females = ((Comp2_cnm_recoded_popAff['Population Code']==pop) & (Comp2_cnm_recoded_popAff['Sex']==4)).sum()\n",
        "  males = ((Comp2_cnm_recoded_popAff['Population Code']==pop) & (Comp2_cnm_recoded_popAff['Sex']==0)).sum()\n",
        "  total = females + males\n",
        "  #print(females)\n",
        "  Comp2_sex.loc[i] = [pop,  females, males, total]"
      ],
      "metadata": {
        "id": "6CN0dd4bHjBD"
      },
      "execution_count": null,
      "outputs": []
    },
    {
      "cell_type": "code",
      "source": [
        "print(Comp2_sex)"
      ],
      "metadata": {
        "colab": {
          "base_uri": "https://localhost:8080/"
        },
        "id": "wqauPo6CIUUo",
        "outputId": "f3830749-66f9-4f2c-acf9-7c831b12a38b"
      },
      "execution_count": null,
      "outputs": [
        {
          "output_type": "stream",
          "name": "stdout",
          "text": [
            "   Population Code Females Males Total\n",
            "0              USB      27    33    60\n",
            "1              KEN      14     7    21\n",
            "2              TAN      31    16    47\n",
            "3              SUD      25    42    67\n",
            "4                S      18    42    60\n",
            "5              GAB       3     3     6\n",
            "6              GHA      14    17    31\n",
            "7              NIG      13    15    28\n",
            "8                W     106   161   267\n",
            "9               HK      87   102   189\n",
            "10              AL     198   197   395\n",
            "11             SAL     282   261   543\n",
            "12             SLS     168   180   348\n",
            "13             NAL     196   218   414\n",
            "14             CAR     165   163   328\n",
            "15             EAR     185   148   333\n",
            "16             ARM      48    69   117\n",
            "17              AT      84    81   165\n",
            "18             CAN      98   118   216\n",
            "19              BV       3     4     7\n",
            "20              CZ       3    10    13\n",
            "21              GE       2     5     7\n",
            "22              RU       0    13    13\n",
            "23              HU      17    41    58\n",
            "24              IC      19    19    38\n",
            "25             IND      50    68   118\n",
            "26             SIE      43    44    87\n",
            "27               C     134   223   357\n",
            "28               N      86   106   192\n",
            "29              NN      21    31    52\n",
            "30             CHN      13    55    68\n",
            "31             MON      24    35    59\n",
            "32             SIB      83    93   176\n",
            "33             NMV     147   217   364\n",
            "34             ILL      41    51    92\n",
            "35             NFL      15    20    35\n",
            "36             ONT      34    29    63\n",
            "37             NPC     180   248   428\n",
            "38             PEC      81    71   152\n",
            "39             PLN      92   133   225\n",
            "40             PLT      91   114   205\n",
            "41              CH       7    25    32\n",
            "42              PT       2    10    12\n",
            "43              TF       5     9    14\n",
            "44              AU      21    29    50\n",
            "45            CHAT       9    11    20\n",
            "46              MQ      14    37    51\n",
            "47              NZ      20    24    44\n"
          ]
        }
      ]
    },
    {
      "cell_type": "code",
      "source": [
        "# path to this file: \"C:\\Users\\cskip\\Documents\\Dissertation\\Tables_dissertation\"\n",
        "\n",
        "Comp2_demographics = pd.read_excel('Comp2_cnm_demographics.xlsx')"
      ],
      "metadata": {
        "id": "Dsm4MxlsJup3"
      },
      "execution_count": null,
      "outputs": []
    },
    {
      "cell_type": "markdown",
      "source": [
        "The output for the following code cell was removed to protect PII and/or the raw data. The output contained the following columns:\n",
        "* Population Code, Population Name, Location, Source"
      ],
      "metadata": {
        "id": "B50tEYFzV27j"
      }
    },
    {
      "cell_type": "code",
      "source": [
        "Comp2_demographics.head()"
      ],
      "metadata": {
        "id": "RB6FyTw0J3hH"
      },
      "execution_count": null,
      "outputs": []
    },
    {
      "cell_type": "code",
      "source": [
        "Comp2_sex = pd.merge(Comp2_sex, Comp2_demographics, on='Population Code')"
      ],
      "metadata": {
        "id": "DqmwAXaDKRs8"
      },
      "execution_count": null,
      "outputs": []
    },
    {
      "cell_type": "markdown",
      "source": [
        "The output for the following code cell was removed to protect PII and/or the raw data. The output contained the following columns:\n",
        "* Population Code, Females, Males, Total, Population Name, Location, Source"
      ],
      "metadata": {
        "id": "CAZIIn8tWFCr"
      }
    },
    {
      "cell_type": "code",
      "source": [
        "Comp2_sex.head(15)"
      ],
      "metadata": {
        "id": "a1hQltgAKoQk"
      },
      "execution_count": null,
      "outputs": []
    },
    {
      "cell_type": "code",
      "source": [
        "Comp2_sex = Comp2_sex[['Population Code', 'Population Name', 'Location', 'Females', 'Males', 'Total', 'Source']]"
      ],
      "metadata": {
        "id": "QAu15hyDKv0j"
      },
      "execution_count": null,
      "outputs": []
    },
    {
      "cell_type": "code",
      "source": [
        "Comp2_sex.head()"
      ],
      "metadata": {
        "id": "xwSmYY03LE4E"
      },
      "execution_count": null,
      "outputs": []
    },
    {
      "cell_type": "code",
      "source": [
        "Comp2_sex.tail()"
      ],
      "metadata": {
        "id": "oz3n6687LJ9m"
      },
      "execution_count": null,
      "outputs": []
    },
    {
      "cell_type": "markdown",
      "source": [
        "##### Output file: Comp2 sex"
      ],
      "metadata": {
        "id": "wjI3gIQkGd0O"
      }
    },
    {
      "cell_type": "code",
      "source": [
        "Comp2_sex.to_excel('/drive/My Drive/Colab Notebooks/Pre-statistical treatments/2_EDA/Comp2_sex.xlsx', index=False)"
      ],
      "metadata": {
        "id": "ODl8c-VUe0zw"
      },
      "execution_count": null,
      "outputs": []
    },
    {
      "cell_type": "markdown",
      "source": [
        "---"
      ],
      "metadata": {
        "id": "mMxNgy0VMOYL"
      }
    },
    {
      "cell_type": "markdown",
      "source": [
        "### Back to prep"
      ],
      "metadata": {
        "id": "GU4xltegZJF4"
      }
    },
    {
      "cell_type": "code",
      "source": [
        "Comp2_cnm_recoded_popAff.info()"
      ],
      "metadata": {
        "colab": {
          "base_uri": "https://localhost:8080/"
        },
        "id": "WHcGlPRuZNJ6",
        "outputId": "9d9ac26e-f453-40f6-e041-a3584be63f0d"
      },
      "execution_count": null,
      "outputs": [
        {
          "output_type": "stream",
          "name": "stdout",
          "text": [
            "<class 'pandas.core.frame.DataFrame'>\n",
            "Int64Index: 6667 entries, 0 to 6677\n",
            "Data columns (total 31 columns):\n",
            " #   Column           Non-Null Count  Dtype \n",
            "---  ------           --------------  ----- \n",
            " 0   file.name        6667 non-null   object\n",
            " 1   Population Code  6667 non-null   object\n",
            " 2   Population Name  6667 non-null   object\n",
            " 3   GP1              2519 non-null   object\n",
            " 4   GP2              6502 non-null   object\n",
            " 5   GP3              6414 non-null   object\n",
            " 6   GP4              6066 non-null   object\n",
            " 7   GP5              5381 non-null   object\n",
            " 8   Site             5810 non-null   object\n",
            " 9   CatalogNo        6667 non-null   object\n",
            " 10  Museum           6667 non-null   object\n",
            " 11  AgeC             6667 non-null   int64 \n",
            " 12  AgeY             720 non-null    object\n",
            " 13  Sex              6667 non-null   int64 \n",
            " 14  Collection       6667 non-null   object\n",
            " 15  METO             6667 non-null   int64 \n",
            " 16  INCA             6667 non-null   int64 \n",
            " 17  PHAR             6667 non-null   int64 \n",
            " 18  APIC             6667 non-null   int64 \n",
            " 19  OMB              6667 non-null   int64 \n",
            " 20  AST              6667 non-null   int64 \n",
            " 21  PNB              6667 non-null   int64 \n",
            " 22  HYP              6667 non-null   int64 \n",
            " 23  TYM              6667 non-null   int64 \n",
            " 24  CIV              6667 non-null   int64 \n",
            " 25  PTB              6667 non-null   int64 \n",
            " 26  SOF              6667 non-null   int64 \n",
            " 27  MEN              6667 non-null   int64 \n",
            " 28  MHB              6667 non-null   int64 \n",
            " 29  IFS              6667 non-null   int64 \n",
            " 30  CCO              6667 non-null   int64 \n",
            "dtypes: int64(18), object(13)\n",
            "memory usage: 1.6+ MB\n"
          ]
        }
      ]
    },
    {
      "cell_type": "code",
      "source": [
        "del Comp2_cnm_recoded_popAff['file.name']\n",
        "del Comp2_cnm_recoded_popAff['GP1']\n",
        "del Comp2_cnm_recoded_popAff['GP2']\n",
        "del Comp2_cnm_recoded_popAff['GP3']\n",
        "del Comp2_cnm_recoded_popAff['GP4']\n",
        "del Comp2_cnm_recoded_popAff['GP5']\n",
        "del Comp2_cnm_recoded_popAff['Site']\n",
        "del Comp2_cnm_recoded_popAff['Museum']\n",
        "del Comp2_cnm_recoded_popAff['AgeY']"
      ],
      "metadata": {
        "id": "bkp7zmT3nI4e"
      },
      "execution_count": null,
      "outputs": []
    },
    {
      "cell_type": "code",
      "source": [
        "Comp2_cnm_recoded_popAff = Comp2_cnm_recoded_popAff.rename(columns={'AgeC': 'Age', 'CatalogNo': 'SkelID'})"
      ],
      "metadata": {
        "id": "jUt-gdR8ZaJZ"
      },
      "execution_count": null,
      "outputs": []
    },
    {
      "cell_type": "code",
      "source": [
        "Comp2_cnm_recoded_popAff.info()"
      ],
      "metadata": {
        "colab": {
          "base_uri": "https://localhost:8080/"
        },
        "id": "ywoswiz2Z0AI",
        "outputId": "7add6122-a14a-4f74-f990-138eceb7a5a2"
      },
      "execution_count": null,
      "outputs": [
        {
          "output_type": "stream",
          "name": "stdout",
          "text": [
            "<class 'pandas.core.frame.DataFrame'>\n",
            "Int64Index: 6667 entries, 0 to 6677\n",
            "Data columns (total 22 columns):\n",
            " #   Column           Non-Null Count  Dtype \n",
            "---  ------           --------------  ----- \n",
            " 0   Population Code  6667 non-null   object\n",
            " 1   Population Name  6667 non-null   object\n",
            " 2   SkelID           6667 non-null   object\n",
            " 3   Age              6667 non-null   int64 \n",
            " 4   Sex              6667 non-null   int64 \n",
            " 5   Collection       6667 non-null   object\n",
            " 6   METO             6667 non-null   int64 \n",
            " 7   INCA             6667 non-null   int64 \n",
            " 8   PHAR             6667 non-null   int64 \n",
            " 9   APIC             6667 non-null   int64 \n",
            " 10  OMB              6667 non-null   int64 \n",
            " 11  AST              6667 non-null   int64 \n",
            " 12  PNB              6667 non-null   int64 \n",
            " 13  HYP              6667 non-null   int64 \n",
            " 14  TYM              6667 non-null   int64 \n",
            " 15  CIV              6667 non-null   int64 \n",
            " 16  PTB              6667 non-null   int64 \n",
            " 17  SOF              6667 non-null   int64 \n",
            " 18  MEN              6667 non-null   int64 \n",
            " 19  MHB              6667 non-null   int64 \n",
            " 20  IFS              6667 non-null   int64 \n",
            " 21  CCO              6667 non-null   int64 \n",
            "dtypes: int64(18), object(4)\n",
            "memory usage: 1.2+ MB\n"
          ]
        }
      ]
    },
    {
      "cell_type": "markdown",
      "source": [
        "#### Recode Comp2"
      ],
      "metadata": {
        "id": "0rhtoL-YG0fO"
      }
    },
    {
      "cell_type": "code",
      "source": [
        "Comp2_cnm_recoded_popAff['CCO'] = Comp2_cnm_recoded_popAff['CCO'].replace([0.0, 1.0], [1, 0])"
      ],
      "metadata": {
        "id": "1twrMKRk18rY"
      },
      "execution_count": null,
      "outputs": []
    },
    {
      "cell_type": "markdown",
      "source": [
        "The output for the following code cell was removed to protect PII and/or the raw data. The output contained the following columns:\n",
        "* Population Code, Population Name, SkelID, Age, Sex, Collection, METO, INCA...CCO"
      ],
      "metadata": {
        "id": "4KepIGm5WldP"
      }
    },
    {
      "cell_type": "code",
      "source": [
        "Comp2_cnm_recoded_popAff.head()"
      ],
      "metadata": {
        "id": "VZCu1XNh2Eh-"
      },
      "execution_count": null,
      "outputs": []
    },
    {
      "cell_type": "code",
      "source": [
        "Comp2_cnm = pd.DataFrame(Comp2_cnm_recoded_popAff.iloc[:, :])"
      ],
      "metadata": {
        "id": "UvHe5a-51HOb"
      },
      "execution_count": null,
      "outputs": []
    },
    {
      "cell_type": "markdown",
      "source": [
        "The output for the following code cell was removed to protect PII and/or the raw data. The output contained the following columns:\n",
        "* Population Code, Population Name, SkelID, Age, Sex, Collection, METO, INCA...CCO"
      ],
      "metadata": {
        "id": "KUDApSy-W4OF"
      }
    },
    {
      "cell_type": "code",
      "source": [
        "Comp2_cnm.head()"
      ],
      "metadata": {
        "id": "wqTTVdz-1N8R"
      },
      "execution_count": null,
      "outputs": []
    },
    {
      "cell_type": "code",
      "source": [
        "# add empty columns to match other 3 dfs\n",
        "\n",
        "Comp2_cnm['SON'] = np.nan\n",
        "Comp2_cnm['LBLa'] = np.nan\n",
        "Comp2_cnm['LBM'] = np.nan\n",
        "Comp2_cnm['PF'] = np.nan\n",
        "Comp2_cnm['MF'] = np.nan\n",
        "Comp2_cnm['MFLo'] = np.nan\n",
        "Comp2_cnm['CRB'] = np.nan\n",
        "Comp2_cnm['EPB'] = np.nan\n",
        "Comp2_cnm['FTA'] = np.nan\n",
        "Comp2_cnm['APF'] = np.nan\n",
        "#Comp2_cnm['FF'] = np.nan\n",
        "Comp2_cnm['MIF'] = np.nan\n",
        "Comp2_cnm['BREG'] = np.nan\n",
        "Comp2_cnm['PALT'] = np.nan\n",
        "Comp2_cnm['MANT'] = np.nan\n",
        "Comp2_cnm['SSSF'] = np.nan\n",
        "Comp2_cnm['ZFF'] = np.nan\n",
        "Comp2_cnm['FOI'] = np.nan\n",
        "Comp2_cnm['FSI'] = np.nan\n",
        "Comp2_cnm['ANS'] = np.nan\n",
        "Comp2_cnm['INA'] = np.nan\n",
        "Comp2_cnm['IOB'] = np.nan\n",
        "Comp2_cnm['MT'] = np.nan\n",
        "Comp2_cnm['NAS'] = np.nan\n",
        "Comp2_cnm['NAW'] = np.nan\n",
        "Comp2_cnm['NBC'] = np.nan\n",
        "Comp2_cnm['NBS'] = np.nan\n",
        "Comp2_cnm['NO'] = np.nan\n",
        "Comp2_cnm['NFS'] = np.nan\n",
        "Comp2_cnm['OBS'] = np.nan\n",
        "Comp2_cnm['PZT'] = np.nan\n",
        "Comp2_cnm['TPS'] = np.nan\n",
        "Comp2_cnm['ZS'] = np.nan"
      ],
      "metadata": {
        "id": "vZY8IAYSfAU_"
      },
      "execution_count": null,
      "outputs": []
    },
    {
      "cell_type": "code",
      "source": [
        "Comp2_cnm.info()"
      ],
      "metadata": {
        "id": "7B2M8Lg3fAaF",
        "colab": {
          "base_uri": "https://localhost:8080/"
        },
        "outputId": "e91cdc29-f595-4420-e975-a2387f9bf771"
      },
      "execution_count": null,
      "outputs": [
        {
          "output_type": "stream",
          "name": "stdout",
          "text": [
            "<class 'pandas.core.frame.DataFrame'>\n",
            "Int64Index: 6667 entries, 0 to 6677\n",
            "Data columns (total 55 columns):\n",
            " #   Column           Non-Null Count  Dtype  \n",
            "---  ------           --------------  -----  \n",
            " 0   Population Code  6667 non-null   object \n",
            " 1   Population Name  6667 non-null   object \n",
            " 2   SkelID           6667 non-null   object \n",
            " 3   Age              6667 non-null   int64  \n",
            " 4   Sex              6667 non-null   int64  \n",
            " 5   Collection       6667 non-null   object \n",
            " 6   METO             6667 non-null   int64  \n",
            " 7   INCA             6667 non-null   int64  \n",
            " 8   PHAR             6667 non-null   int64  \n",
            " 9   APIC             6667 non-null   int64  \n",
            " 10  OMB              6667 non-null   int64  \n",
            " 11  AST              6667 non-null   int64  \n",
            " 12  PNB              6667 non-null   int64  \n",
            " 13  HYP              6667 non-null   int64  \n",
            " 14  TYM              6667 non-null   int64  \n",
            " 15  CIV              6667 non-null   int64  \n",
            " 16  PTB              6667 non-null   int64  \n",
            " 17  SOF              6667 non-null   int64  \n",
            " 18  MEN              6667 non-null   int64  \n",
            " 19  MHB              6667 non-null   int64  \n",
            " 20  IFS              6667 non-null   int64  \n",
            " 21  CCO              6667 non-null   int64  \n",
            " 22  SON              0 non-null      float64\n",
            " 23  LBLa             0 non-null      float64\n",
            " 24  LBM              0 non-null      float64\n",
            " 25  PF               0 non-null      float64\n",
            " 26  MF               0 non-null      float64\n",
            " 27  MFLo             0 non-null      float64\n",
            " 28  CRB              0 non-null      float64\n",
            " 29  EPB              0 non-null      float64\n",
            " 30  FTA              0 non-null      float64\n",
            " 31  APF              0 non-null      float64\n",
            " 32  MIF              0 non-null      float64\n",
            " 33  BREG             0 non-null      float64\n",
            " 34  PALT             0 non-null      float64\n",
            " 35  MANT             0 non-null      float64\n",
            " 36  SSSF             0 non-null      float64\n",
            " 37  ZFF              0 non-null      float64\n",
            " 38  FOI              0 non-null      float64\n",
            " 39  FSI              0 non-null      float64\n",
            " 40  AUD              0 non-null      float64\n",
            " 41  ANS              0 non-null      float64\n",
            " 42  INA              0 non-null      float64\n",
            " 43  IOB              0 non-null      float64\n",
            " 44  MT               0 non-null      float64\n",
            " 45  NAS              0 non-null      float64\n",
            " 46  NAW              0 non-null      float64\n",
            " 47  NBC              0 non-null      float64\n",
            " 48  NBS              0 non-null      float64\n",
            " 49  NO               0 non-null      float64\n",
            " 50  NFS              0 non-null      float64\n",
            " 51  OBS              0 non-null      float64\n",
            " 52  PZT              0 non-null      float64\n",
            " 53  TPS              0 non-null      float64\n",
            " 54  ZS               0 non-null      float64\n",
            "dtypes: float64(33), int64(18), object(4)\n",
            "memory usage: 2.8+ MB\n"
          ]
        }
      ]
    },
    {
      "cell_type": "code",
      "source": [
        "Comp2_cnm.head(25)"
      ],
      "metadata": {
        "id": "jPF0X3NQLfhZ"
      },
      "execution_count": null,
      "outputs": []
    },
    {
      "cell_type": "markdown",
      "source": [
        "Add prefix 'O-' to SkelID values"
      ],
      "metadata": {
        "id": "Z7D0HYMzXIkf"
      }
    },
    {
      "cell_type": "code",
      "source": [
        "Comp2_cnm['SkelID'] ='O-' + Comp2_cnm['SkelID'].astype(str)\n",
        "Comp2_cnm.head()"
      ],
      "metadata": {
        "id": "C195aKTYLfha"
      },
      "execution_count": null,
      "outputs": []
    },
    {
      "cell_type": "code",
      "source": [
        "Comp2_cnm_dems = pd.DataFrame()\n",
        "Comp2_cnm_dems['SkelID'] = Comp2_cnm['SkelID']\n",
        "Comp2_cnm_dems['Collection'] = Comp2_cnm['Collection']\n",
        "Comp2_cnm_dems['Sex'] = Comp2_cnm['Sex']\n",
        "Comp2_cnm_dems['Age'] = Comp2_cnm['Age']\n",
        "Comp2_cnm_dems['Population Name'] = Comp2_cnm['Population Name']\n",
        "Comp2_cnm_dems['Population Code'] = Comp2_cnm['Population Code']"
      ],
      "metadata": {
        "id": "4yzTJca5Lfha"
      },
      "execution_count": null,
      "outputs": []
    },
    {
      "cell_type": "markdown",
      "source": [
        "The output for the following code cell was removed to protect PII and/or the raw data. The output contained the following columns:\n",
        "* SkelID, Collection, Sex, Age, Population Name, Population Code\n",
        "\n"
      ],
      "metadata": {
        "id": "7-6760H3XVqW"
      }
    },
    {
      "cell_type": "code",
      "source": [
        "Comp2_cnm_dems.head()"
      ],
      "metadata": {
        "id": "tdcUHfMiLfha"
      },
      "execution_count": null,
      "outputs": []
    },
    {
      "cell_type": "code",
      "source": [
        "Comp2_cnm.info()"
      ],
      "metadata": {
        "colab": {
          "base_uri": "https://localhost:8080/"
        },
        "outputId": "eb1168e1-3932-4fe4-b51e-0b3e2b03131d",
        "id": "mnYzu0fxLfhb"
      },
      "execution_count": null,
      "outputs": [
        {
          "output_type": "stream",
          "name": "stdout",
          "text": [
            "<class 'pandas.core.frame.DataFrame'>\n",
            "Int64Index: 6667 entries, 0 to 6677\n",
            "Data columns (total 55 columns):\n",
            " #   Column           Non-Null Count  Dtype  \n",
            "---  ------           --------------  -----  \n",
            " 0   Population Code  6667 non-null   object \n",
            " 1   Population Name  6667 non-null   object \n",
            " 2   SkelID           6667 non-null   object \n",
            " 3   Age              6667 non-null   int64  \n",
            " 4   Sex              6667 non-null   int64  \n",
            " 5   Collection       6667 non-null   object \n",
            " 6   METO             6667 non-null   int64  \n",
            " 7   INCA             6667 non-null   int64  \n",
            " 8   PHAR             6667 non-null   int64  \n",
            " 9   APIC             6667 non-null   int64  \n",
            " 10  OMB              6667 non-null   int64  \n",
            " 11  AST              6667 non-null   int64  \n",
            " 12  PNB              6667 non-null   int64  \n",
            " 13  HYP              6667 non-null   int64  \n",
            " 14  TYM              6667 non-null   int64  \n",
            " 15  CIV              6667 non-null   int64  \n",
            " 16  PTB              6667 non-null   int64  \n",
            " 17  SOF              6667 non-null   int64  \n",
            " 18  MEN              6667 non-null   int64  \n",
            " 19  MHB              6667 non-null   int64  \n",
            " 20  IFS              6667 non-null   int64  \n",
            " 21  CCO              6667 non-null   int64  \n",
            " 22  SON              0 non-null      float64\n",
            " 23  LBLa             0 non-null      float64\n",
            " 24  LBM              0 non-null      float64\n",
            " 25  PF               0 non-null      float64\n",
            " 26  MF               0 non-null      float64\n",
            " 27  MFLo             0 non-null      float64\n",
            " 28  CRB              0 non-null      float64\n",
            " 29  EPB              0 non-null      float64\n",
            " 30  FTA              0 non-null      float64\n",
            " 31  APF              0 non-null      float64\n",
            " 32  MIF              0 non-null      float64\n",
            " 33  BREG             0 non-null      float64\n",
            " 34  PALT             0 non-null      float64\n",
            " 35  MANT             0 non-null      float64\n",
            " 36  SSSF             0 non-null      float64\n",
            " 37  ZFF              0 non-null      float64\n",
            " 38  FOI              0 non-null      float64\n",
            " 39  FSI              0 non-null      float64\n",
            " 40  AUD              0 non-null      float64\n",
            " 41  ANS              0 non-null      float64\n",
            " 42  INA              0 non-null      float64\n",
            " 43  IOB              0 non-null      float64\n",
            " 44  MT               0 non-null      float64\n",
            " 45  NAS              0 non-null      float64\n",
            " 46  NAW              0 non-null      float64\n",
            " 47  NBC              0 non-null      float64\n",
            " 48  NBS              0 non-null      float64\n",
            " 49  NO               0 non-null      float64\n",
            " 50  NFS              0 non-null      float64\n",
            " 51  OBS              0 non-null      float64\n",
            " 52  PZT              0 non-null      float64\n",
            " 53  TPS              0 non-null      float64\n",
            " 54  ZS               0 non-null      float64\n",
            "dtypes: float64(33), int64(18), object(4)\n",
            "memory usage: 2.8+ MB\n"
          ]
        }
      ]
    },
    {
      "cell_type": "code",
      "source": [
        "Comp2_cnm_VarsOnly = pd.DataFrame(Comp2_cnm.iloc[:, 6:])\n",
        "Comp2_cnm_VarsOnly.head()\n",
        "\n",
        "# METO....ZS"
      ],
      "metadata": {
        "id": "Zsm_2xU0Lfhb"
      },
      "execution_count": null,
      "outputs": []
    },
    {
      "cell_type": "code",
      "source": [
        "Comp2_cnm_VarsOnly.info()"
      ],
      "metadata": {
        "colab": {
          "base_uri": "https://localhost:8080/"
        },
        "id": "w3sCTQ2FMqyN",
        "outputId": "23a48ac4-9e8e-4011-8176-b001959b297a"
      },
      "execution_count": null,
      "outputs": [
        {
          "output_type": "stream",
          "name": "stdout",
          "text": [
            "<class 'pandas.core.frame.DataFrame'>\n",
            "Int64Index: 6667 entries, 0 to 6677\n",
            "Data columns (total 49 columns):\n",
            " #   Column  Non-Null Count  Dtype  \n",
            "---  ------  --------------  -----  \n",
            " 0   METO    6667 non-null   int64  \n",
            " 1   INCA    6667 non-null   int64  \n",
            " 2   PHAR    6667 non-null   int64  \n",
            " 3   APIC    6667 non-null   int64  \n",
            " 4   OMB     6667 non-null   int64  \n",
            " 5   AST     6667 non-null   int64  \n",
            " 6   PNB     6667 non-null   int64  \n",
            " 7   HYP     6667 non-null   int64  \n",
            " 8   TYM     6667 non-null   int64  \n",
            " 9   CIV     6667 non-null   int64  \n",
            " 10  PTB     6667 non-null   int64  \n",
            " 11  SOF     6667 non-null   int64  \n",
            " 12  MEN     6667 non-null   int64  \n",
            " 13  MHB     6667 non-null   int64  \n",
            " 14  IFS     6667 non-null   int64  \n",
            " 15  CCO     6667 non-null   int64  \n",
            " 16  SON     0 non-null      float64\n",
            " 17  LBLa    0 non-null      float64\n",
            " 18  LBM     0 non-null      float64\n",
            " 19  PF      0 non-null      float64\n",
            " 20  MF      0 non-null      float64\n",
            " 21  MFLo    0 non-null      float64\n",
            " 22  CRB     0 non-null      float64\n",
            " 23  EPB     0 non-null      float64\n",
            " 24  FTA     0 non-null      float64\n",
            " 25  APF     0 non-null      float64\n",
            " 26  MIF     0 non-null      float64\n",
            " 27  BREG    0 non-null      float64\n",
            " 28  PALT    0 non-null      float64\n",
            " 29  MANT    0 non-null      float64\n",
            " 30  SSSF    0 non-null      float64\n",
            " 31  ZFF     0 non-null      float64\n",
            " 32  FOI     0 non-null      float64\n",
            " 33  FSI     0 non-null      float64\n",
            " 34  AUD     0 non-null      float64\n",
            " 35  ANS     0 non-null      float64\n",
            " 36  INA     0 non-null      float64\n",
            " 37  IOB     0 non-null      float64\n",
            " 38  MT      0 non-null      float64\n",
            " 39  NAS     0 non-null      float64\n",
            " 40  NAW     0 non-null      float64\n",
            " 41  NBC     0 non-null      float64\n",
            " 42  NBS     0 non-null      float64\n",
            " 43  NO      0 non-null      float64\n",
            " 44  NFS     0 non-null      float64\n",
            " 45  OBS     0 non-null      float64\n",
            " 46  PZT     0 non-null      float64\n",
            " 47  TPS     0 non-null      float64\n",
            " 48  ZS      0 non-null      float64\n",
            "dtypes: float64(33), int64(16)\n",
            "memory usage: 2.5 MB\n"
          ]
        }
      ]
    },
    {
      "cell_type": "code",
      "source": [
        "Comp2_cnm_VarsOnly_sorted = Comp2_cnm_VarsOnly.sort_index(axis=1, ascending=True)"
      ],
      "metadata": {
        "id": "un0vZAuhNeh2"
      },
      "execution_count": null,
      "outputs": []
    },
    {
      "cell_type": "code",
      "source": [
        "Comp2_cnm_VarsOnly_sorted.info()"
      ],
      "metadata": {
        "colab": {
          "base_uri": "https://localhost:8080/"
        },
        "id": "K028DUwrNwMw",
        "outputId": "a747fd60-bda3-4e8f-8bf7-c3b528d2b69d"
      },
      "execution_count": null,
      "outputs": [
        {
          "output_type": "stream",
          "name": "stdout",
          "text": [
            "<class 'pandas.core.frame.DataFrame'>\n",
            "Int64Index: 6667 entries, 0 to 6677\n",
            "Data columns (total 49 columns):\n",
            " #   Column  Non-Null Count  Dtype  \n",
            "---  ------  --------------  -----  \n",
            " 0   ANS     0 non-null      float64\n",
            " 1   APF     0 non-null      float64\n",
            " 2   APIC    6667 non-null   int64  \n",
            " 3   AST     6667 non-null   int64  \n",
            " 4   AUD     0 non-null      float64\n",
            " 5   BREG    0 non-null      float64\n",
            " 6   CCO     6667 non-null   int64  \n",
            " 7   CIV     6667 non-null   int64  \n",
            " 8   CRB     0 non-null      float64\n",
            " 9   EPB     0 non-null      float64\n",
            " 10  FOI     0 non-null      float64\n",
            " 11  FSI     0 non-null      float64\n",
            " 12  FTA     0 non-null      float64\n",
            " 13  HYP     6667 non-null   int64  \n",
            " 14  IFS     6667 non-null   int64  \n",
            " 15  INA     0 non-null      float64\n",
            " 16  INCA    6667 non-null   int64  \n",
            " 17  IOB     0 non-null      float64\n",
            " 18  LBLa    0 non-null      float64\n",
            " 19  LBM     0 non-null      float64\n",
            " 20  MANT    0 non-null      float64\n",
            " 21  MEN     6667 non-null   int64  \n",
            " 22  METO    6667 non-null   int64  \n",
            " 23  MF      0 non-null      float64\n",
            " 24  MFLo    0 non-null      float64\n",
            " 25  MHB     6667 non-null   int64  \n",
            " 26  MIF     0 non-null      float64\n",
            " 27  MT      0 non-null      float64\n",
            " 28  NAS     0 non-null      float64\n",
            " 29  NAW     0 non-null      float64\n",
            " 30  NBC     0 non-null      float64\n",
            " 31  NBS     0 non-null      float64\n",
            " 32  NFS     0 non-null      float64\n",
            " 33  NO      0 non-null      float64\n",
            " 34  OBS     0 non-null      float64\n",
            " 35  OMB     6667 non-null   int64  \n",
            " 36  PALT    0 non-null      float64\n",
            " 37  PF      0 non-null      float64\n",
            " 38  PHAR    6667 non-null   int64  \n",
            " 39  PNB     6667 non-null   int64  \n",
            " 40  PTB     6667 non-null   int64  \n",
            " 41  PZT     0 non-null      float64\n",
            " 42  SOF     6667 non-null   int64  \n",
            " 43  SON     0 non-null      float64\n",
            " 44  SSSF    0 non-null      float64\n",
            " 45  TPS     0 non-null      float64\n",
            " 46  TYM     6667 non-null   int64  \n",
            " 47  ZFF     0 non-null      float64\n",
            " 48  ZS      0 non-null      float64\n",
            "dtypes: float64(33), int64(16)\n",
            "memory usage: 2.5 MB\n"
          ]
        }
      ]
    },
    {
      "cell_type": "code",
      "source": [
        "Comp2_cnm_prepped = pd.concat([Comp2_cnm_dems, Comp2_cnm_VarsOnly_sorted], axis=1)"
      ],
      "metadata": {
        "id": "Bv2VQXRWN5N5"
      },
      "execution_count": null,
      "outputs": []
    },
    {
      "cell_type": "code",
      "source": [
        "Comp2_cnm_prepped.info()"
      ],
      "metadata": {
        "colab": {
          "base_uri": "https://localhost:8080/"
        },
        "id": "9YHbP0xQOPTj",
        "outputId": "70dd9575-0081-4f76-bfc5-ff8adda4edf2"
      },
      "execution_count": null,
      "outputs": [
        {
          "output_type": "stream",
          "name": "stdout",
          "text": [
            "<class 'pandas.core.frame.DataFrame'>\n",
            "Int64Index: 6667 entries, 0 to 6677\n",
            "Data columns (total 55 columns):\n",
            " #   Column           Non-Null Count  Dtype  \n",
            "---  ------           --------------  -----  \n",
            " 0   SkelID           6667 non-null   object \n",
            " 1   Collection       6667 non-null   object \n",
            " 2   Sex              6667 non-null   int64  \n",
            " 3   Age              6667 non-null   int64  \n",
            " 4   Population Name  6667 non-null   object \n",
            " 5   Population Code  6667 non-null   object \n",
            " 6   ANS              0 non-null      float64\n",
            " 7   APF              0 non-null      float64\n",
            " 8   APIC             6667 non-null   int64  \n",
            " 9   AST              6667 non-null   int64  \n",
            " 10  AUD              0 non-null      float64\n",
            " 11  BREG             0 non-null      float64\n",
            " 12  CCO              6667 non-null   int64  \n",
            " 13  CIV              6667 non-null   int64  \n",
            " 14  CRB              0 non-null      float64\n",
            " 15  EPB              0 non-null      float64\n",
            " 16  FOI              0 non-null      float64\n",
            " 17  FSI              0 non-null      float64\n",
            " 18  FTA              0 non-null      float64\n",
            " 19  HYP              6667 non-null   int64  \n",
            " 20  IFS              6667 non-null   int64  \n",
            " 21  INA              0 non-null      float64\n",
            " 22  INCA             6667 non-null   int64  \n",
            " 23  IOB              0 non-null      float64\n",
            " 24  LBLa             0 non-null      float64\n",
            " 25  LBM              0 non-null      float64\n",
            " 26  MANT             0 non-null      float64\n",
            " 27  MEN              6667 non-null   int64  \n",
            " 28  METO             6667 non-null   int64  \n",
            " 29  MF               0 non-null      float64\n",
            " 30  MFLo             0 non-null      float64\n",
            " 31  MHB              6667 non-null   int64  \n",
            " 32  MIF              0 non-null      float64\n",
            " 33  MT               0 non-null      float64\n",
            " 34  NAS              0 non-null      float64\n",
            " 35  NAW              0 non-null      float64\n",
            " 36  NBC              0 non-null      float64\n",
            " 37  NBS              0 non-null      float64\n",
            " 38  NFS              0 non-null      float64\n",
            " 39  NO               0 non-null      float64\n",
            " 40  OBS              0 non-null      float64\n",
            " 41  OMB              6667 non-null   int64  \n",
            " 42  PALT             0 non-null      float64\n",
            " 43  PF               0 non-null      float64\n",
            " 44  PHAR             6667 non-null   int64  \n",
            " 45  PNB              6667 non-null   int64  \n",
            " 46  PTB              6667 non-null   int64  \n",
            " 47  PZT              0 non-null      float64\n",
            " 48  SOF              6667 non-null   int64  \n",
            " 49  SON              0 non-null      float64\n",
            " 50  SSSF             0 non-null      float64\n",
            " 51  TPS              0 non-null      float64\n",
            " 52  TYM              6667 non-null   int64  \n",
            " 53  ZFF              0 non-null      float64\n",
            " 54  ZS               0 non-null      float64\n",
            "dtypes: float64(33), int64(18), object(4)\n",
            "memory usage: 2.8+ MB\n"
          ]
        }
      ]
    },
    {
      "cell_type": "code",
      "source": [
        "Comp2_cnm_prepped.head()"
      ],
      "metadata": {
        "id": "GNJ8LaW7OM68"
      },
      "execution_count": null,
      "outputs": []
    },
    {
      "cell_type": "code",
      "source": [
        "del Comp2_cnm_prepped['AUD']"
      ],
      "metadata": {
        "id": "Cj4Rb-dfPjX_"
      },
      "execution_count": null,
      "outputs": []
    },
    {
      "cell_type": "code",
      "source": [
        "del Comp2_cnm_prepped['APIC']"
      ],
      "metadata": {
        "id": "EGkk4pTIdVSe"
      },
      "execution_count": null,
      "outputs": []
    },
    {
      "cell_type": "markdown",
      "source": [
        "#### Output file: Comp2_cnm_prepped"
      ],
      "metadata": {
        "id": "45dV4I5aOVXo"
      }
    },
    {
      "cell_type": "code",
      "source": [
        "Comp2_cnm_prepped.to_excel('/drive/My Drive/Colab Notebooks/Statistical analysis/Aim 2 - Microevolution/Comp2_cnm_prepped.xlsx', index=False)"
      ],
      "metadata": {
        "id": "gIfzbP-tOVXp"
      },
      "execution_count": null,
      "outputs": []
    },
    {
      "cell_type": "markdown",
      "source": [
        "# Comp3 data"
      ],
      "metadata": {
        "id": "b4lXdVDY9tuT"
      }
    },
    {
      "cell_type": "code",
      "source": [
        "Comp3_cnm = pd.read_excel('Comp3_for_analysis.xlsx')"
      ],
      "metadata": {
        "id": "CMLKyaGk9vzI"
      },
      "execution_count": null,
      "outputs": []
    },
    {
      "cell_type": "markdown",
      "source": [
        "The output for the following code cell was removed to protect PII and/or the raw data. The output contained the following columns:\n",
        "* ID, Provenience, Ancestry, Sex, Age, ANS, INA..."
      ],
      "metadata": {
        "id": "7G4bajkWYGVL"
      }
    },
    {
      "cell_type": "code",
      "source": [
        "Comp3_cnm.head()"
      ],
      "metadata": {
        "id": "ipJ3IwVoQ0ZT"
      },
      "execution_count": null,
      "outputs": []
    },
    {
      "cell_type": "code",
      "source": [
        "Comp3_cnm = Comp3_cnm.rename(columns={'ID': 'SkelID', 'Ancestry': 'Population Name'})"
      ],
      "metadata": {
        "id": "sSc4rVMER060"
      },
      "execution_count": null,
      "outputs": []
    },
    {
      "cell_type": "code",
      "source": [
        "del Comp3_cnm['Provenience']"
      ],
      "metadata": {
        "id": "ggvuWPxaR83q"
      },
      "execution_count": null,
      "outputs": []
    },
    {
      "cell_type": "code",
      "source": [
        "Comp3_cnm.head()"
      ],
      "metadata": {
        "id": "TlXaKuHeSHSF"
      },
      "execution_count": null,
      "outputs": []
    },
    {
      "cell_type": "markdown",
      "source": [
        "Add 'H-' prefix to SkelID values"
      ],
      "metadata": {
        "id": "B7PjMH9WYQvA"
      }
    },
    {
      "cell_type": "code",
      "source": [
        "Comp3_cnm['SkelID'] ='H-' + Comp3_cnm['SkelID'].astype(str)\n",
        "Comp3_cnm.head()"
      ],
      "metadata": {
        "id": "QdCcvDh1RPO_"
      },
      "execution_count": null,
      "outputs": []
    },
    {
      "cell_type": "code",
      "source": [
        "Comp3_cnm['Population Name'].unique()"
      ],
      "metadata": {
        "colab": {
          "base_uri": "https://localhost:8080/"
        },
        "id": "ALeyp5QERPaU",
        "outputId": "ecb58ae1-3bdf-490e-fc37-a6bcc213f7c1"
      },
      "execution_count": null,
      "outputs": [
        {
          "output_type": "execute_result",
          "data": {
            "text/plain": [
              "array(['Amerindian', 'Hispanic', 'AmericanWhite', 'AmericanBlack'],\n",
              "      dtype=object)"
            ]
          },
          "metadata": {},
          "execution_count": 213
        }
      ]
    },
    {
      "cell_type": "code",
      "source": [
        "conditions = [\n",
        "    (Comp3_cnm['Population Name'] == 'Amerindian'),\n",
        "    (Comp3_cnm['Population Name'] == 'Hispanic'),\n",
        "    (Comp3_cnm['Population Name'] == 'AmericanWhite'),\n",
        "    (Comp3_cnm['Population Name'] == 'AmericanBlack'),]\n",
        "choices = ['AI', 'HH', 'AMWH', 'AMBL']\n",
        "Comp3_cnm['Population Code'] = np.select(conditions, choices)\n",
        "print(Comp3_cnm)"
      ],
      "metadata": {
        "id": "d2x6yzcPRPmX"
      },
      "execution_count": null,
      "outputs": []
    },
    {
      "cell_type": "code",
      "source": [
        "Comp3_cnm['METO'] = np.nan\n",
        "Comp3_cnm['INCA'] = np.nan\n",
        "Comp3_cnm['OMB'] = np.nan\n",
        "Comp3_cnm['AST'] = np.nan\n",
        "Comp3_cnm['PNB'] = np.nan\n",
        "Comp3_cnm['PHAR'] = np.nan\n",
        "Comp3_cnm['HYP'] = np.nan\n",
        "Comp3_cnm['TYM'] = np.nan\n",
        "Comp3_cnm['CIV'] = np.nan\n",
        "Comp3_cnm['PTB'] = np.nan\n",
        "Comp3_cnm['SOF'] = np.nan\n",
        "Comp3_cnm['SON'] = np.nan\n",
        "Comp3_cnm['MEN'] = np.nan\n",
        "Comp3_cnm['MHB'] = np.nan\n",
        "#Comp3_cnm['APIC'] = np.nan\n",
        "Comp3_cnm['LBLa'] = np.nan\n",
        "Comp3_cnm['LBM'] = np.nan\n",
        "Comp3_cnm['PF'] = np.nan\n",
        "Comp3_cnm['MF'] = np.nan\n",
        "Comp3_cnm['MFLo'] = np.nan\n",
        "Comp3_cnm['CRB'] = np.nan\n",
        "Comp3_cnm['EPB'] = np.nan\n",
        "Comp3_cnm['FTA'] = np.nan\n",
        "Comp3_cnm['APF'] = np.nan\n",
        "Comp3_cnm['IFS'] = np.nan\n",
        "Comp3_cnm['MIF'] = np.nan\n",
        "Comp3_cnm['BREG'] = np.nan\n",
        "Comp3_cnm['PALT'] = np.nan\n",
        "Comp3_cnm['MANT'] = np.nan\n",
        "Comp3_cnm['SSSF'] = np.nan\n",
        "Comp3_cnm['ZFF'] = np.nan\n",
        "Comp3_cnm['CCO'] = np.nan\n",
        "Comp3_cnm['FOI'] = np.nan\n",
        "Comp3_cnm['FSI'] = np.nan"
      ],
      "metadata": {
        "id": "MmoISW86RPtI"
      },
      "execution_count": null,
      "outputs": []
    },
    {
      "cell_type": "code",
      "source": [
        "Comp3_cnm['Collection'] = 'MaMD'"
      ],
      "metadata": {
        "id": "A3DQYaocVhdk"
      },
      "execution_count": null,
      "outputs": []
    },
    {
      "cell_type": "code",
      "source": [
        "Comp3_cnm.info()"
      ],
      "metadata": {
        "colab": {
          "base_uri": "https://localhost:8080/"
        },
        "id": "xZyR7t9ZRP4x",
        "outputId": "2e06db80-f614-44fc-dfa8-4aff7de758d7"
      },
      "execution_count": null,
      "outputs": [
        {
          "output_type": "stream",
          "name": "stdout",
          "text": [
            "<class 'pandas.core.frame.DataFrame'>\n",
            "RangeIndex: 398 entries, 0 to 397\n",
            "Data columns (total 57 columns):\n",
            " #   Column           Non-Null Count  Dtype  \n",
            "---  ------           --------------  -----  \n",
            " 0   SkelID           398 non-null    object \n",
            " 1   Population Name  398 non-null    object \n",
            " 2   Sex              299 non-null    object \n",
            " 3   Age              240 non-null    float64\n",
            " 4   ANS              336 non-null    float64\n",
            " 5   INA              373 non-null    float64\n",
            " 6   IOB              370 non-null    float64\n",
            " 7   MT               374 non-null    float64\n",
            " 8   NAS              171 non-null    float64\n",
            " 9   NAW              365 non-null    float64\n",
            " 10  NBC              344 non-null    float64\n",
            " 11  NBS              177 non-null    float64\n",
            " 12  NFS              170 non-null    float64\n",
            " 13  NO               301 non-null    float64\n",
            " 14  OBS              208 non-null    float64\n",
            " 15  PBD              345 non-null    float64\n",
            " 16  PS               81 non-null     float64\n",
            " 17  PZT              334 non-null    float64\n",
            " 18  SPS              263 non-null    float64\n",
            " 19  TPS              183 non-null    float64\n",
            " 20  ZS               327 non-null    float64\n",
            " 21  Population Code  398 non-null    object \n",
            " 22  METO             0 non-null      float64\n",
            " 23  INCA             0 non-null      float64\n",
            " 24  OMB              0 non-null      float64\n",
            " 25  AST              0 non-null      float64\n",
            " 26  PNB              0 non-null      float64\n",
            " 27  PHAR             0 non-null      float64\n",
            " 28  HYP              0 non-null      float64\n",
            " 29  TYM              0 non-null      float64\n",
            " 30  CIV              0 non-null      float64\n",
            " 31  PTB              0 non-null      float64\n",
            " 32  SOF              0 non-null      float64\n",
            " 33  SON              0 non-null      float64\n",
            " 34  MEN              0 non-null      float64\n",
            " 35  MHB              0 non-null      float64\n",
            " 36  APIC             0 non-null      float64\n",
            " 37  LBLa             0 non-null      float64\n",
            " 38  LBM              0 non-null      float64\n",
            " 39  PF               0 non-null      float64\n",
            " 40  MF               0 non-null      float64\n",
            " 41  MFLo             0 non-null      float64\n",
            " 42  CRB              0 non-null      float64\n",
            " 43  EPB              0 non-null      float64\n",
            " 44  FTA              0 non-null      float64\n",
            " 45  APF              0 non-null      float64\n",
            " 46  IFS              0 non-null      float64\n",
            " 47  MIF              0 non-null      float64\n",
            " 48  BREG             0 non-null      float64\n",
            " 49  PALT             0 non-null      float64\n",
            " 50  MANT             0 non-null      float64\n",
            " 51  SSSF             0 non-null      float64\n",
            " 52  ZFF              0 non-null      float64\n",
            " 53  CCO              0 non-null      float64\n",
            " 54  FOI              0 non-null      float64\n",
            " 55  FSI              0 non-null      float64\n",
            " 56  Collection       398 non-null    object \n",
            "dtypes: float64(52), object(5)\n",
            "memory usage: 177.4+ KB\n"
          ]
        }
      ]
    },
    {
      "cell_type": "code",
      "source": [
        "Comp3_cnm_dems = pd.DataFrame()\n",
        "Comp3_cnm_dems['SkelID'] = Comp3_cnm['SkelID']\n",
        "Comp3_cnm_dems['Collection'] = Comp3_cnm['Collection']\n",
        "Comp3_cnm_dems['Sex'] = Comp3_cnm['Sex']\n",
        "Comp3_cnm_dems['Age'] = Comp3_cnm['Age']\n",
        "Comp3_cnm_dems['Population Name'] = Comp3_cnm['Population Name']\n",
        "Comp3_cnm_dems['Population Code'] = Comp3_cnm['Population Code']"
      ],
      "metadata": {
        "id": "Ac16MqpDRQKO"
      },
      "execution_count": null,
      "outputs": []
    },
    {
      "cell_type": "code",
      "source": [
        "Comp3_cnm_dems.head()"
      ],
      "metadata": {
        "id": "V8U9nqKaWPaJ"
      },
      "execution_count": null,
      "outputs": []
    },
    {
      "cell_type": "code",
      "source": [
        "Comp3_cnm.info()"
      ],
      "metadata": {
        "colab": {
          "base_uri": "https://localhost:8080/"
        },
        "outputId": "1ded133f-7159-42b6-e1fc-1e1b7460cfbc",
        "id": "FYKQus7TWPaJ"
      },
      "execution_count": null,
      "outputs": [
        {
          "output_type": "stream",
          "name": "stdout",
          "text": [
            "<class 'pandas.core.frame.DataFrame'>\n",
            "RangeIndex: 398 entries, 0 to 397\n",
            "Data columns (total 57 columns):\n",
            " #   Column           Non-Null Count  Dtype  \n",
            "---  ------           --------------  -----  \n",
            " 0   SkelID           398 non-null    object \n",
            " 1   Population Name  398 non-null    object \n",
            " 2   Sex              299 non-null    object \n",
            " 3   Age              240 non-null    float64\n",
            " 4   ANS              336 non-null    float64\n",
            " 5   INA              373 non-null    float64\n",
            " 6   IOB              370 non-null    float64\n",
            " 7   MT               374 non-null    float64\n",
            " 8   NAS              171 non-null    float64\n",
            " 9   NAW              365 non-null    float64\n",
            " 10  NBC              344 non-null    float64\n",
            " 11  NBS              177 non-null    float64\n",
            " 12  NFS              170 non-null    float64\n",
            " 13  NO               301 non-null    float64\n",
            " 14  OBS              208 non-null    float64\n",
            " 15  PBD              345 non-null    float64\n",
            " 16  PS               81 non-null     float64\n",
            " 17  PZT              334 non-null    float64\n",
            " 18  SPS              263 non-null    float64\n",
            " 19  TPS              183 non-null    float64\n",
            " 20  ZS               327 non-null    float64\n",
            " 21  Population Code  398 non-null    object \n",
            " 22  METO             0 non-null      float64\n",
            " 23  INCA             0 non-null      float64\n",
            " 24  OMB              0 non-null      float64\n",
            " 25  AST              0 non-null      float64\n",
            " 26  PNB              0 non-null      float64\n",
            " 27  PHAR             0 non-null      float64\n",
            " 28  HYP              0 non-null      float64\n",
            " 29  TYM              0 non-null      float64\n",
            " 30  CIV              0 non-null      float64\n",
            " 31  PTB              0 non-null      float64\n",
            " 32  SOF              0 non-null      float64\n",
            " 33  SON              0 non-null      float64\n",
            " 34  MEN              0 non-null      float64\n",
            " 35  MHB              0 non-null      float64\n",
            " 36  APIC             0 non-null      float64\n",
            " 37  LBLa             0 non-null      float64\n",
            " 38  LBM              0 non-null      float64\n",
            " 39  PF               0 non-null      float64\n",
            " 40  MF               0 non-null      float64\n",
            " 41  MFLo             0 non-null      float64\n",
            " 42  CRB              0 non-null      float64\n",
            " 43  EPB              0 non-null      float64\n",
            " 44  FTA              0 non-null      float64\n",
            " 45  APF              0 non-null      float64\n",
            " 46  IFS              0 non-null      float64\n",
            " 47  MIF              0 non-null      float64\n",
            " 48  BREG             0 non-null      float64\n",
            " 49  PALT             0 non-null      float64\n",
            " 50  MANT             0 non-null      float64\n",
            " 51  SSSF             0 non-null      float64\n",
            " 52  ZFF              0 non-null      float64\n",
            " 53  CCO              0 non-null      float64\n",
            " 54  FOI              0 non-null      float64\n",
            " 55  FSI              0 non-null      float64\n",
            " 56  Collection       398 non-null    object \n",
            "dtypes: float64(52), object(5)\n",
            "memory usage: 177.4+ KB\n"
          ]
        }
      ]
    },
    {
      "cell_type": "code",
      "source": [
        "Comp3_cnm_VarsOnly = pd.DataFrame(Comp3_cnm.iloc[:, 4:56])\n",
        "Comp3_cnm_VarsOnly.head()"
      ],
      "metadata": {
        "id": "iIP7xNEZWPaK"
      },
      "execution_count": null,
      "outputs": []
    },
    {
      "cell_type": "code",
      "source": [
        "del Comp3_cnm_VarsOnly['Population Code']"
      ],
      "metadata": {
        "id": "S-Tyko2eWPaK"
      },
      "execution_count": null,
      "outputs": []
    },
    {
      "cell_type": "code",
      "source": [
        "Comp3_cnm_VarsOnly.head()"
      ],
      "metadata": {
        "id": "zD7sBA27WPaK"
      },
      "execution_count": null,
      "outputs": []
    },
    {
      "cell_type": "code",
      "source": [
        "Comp3_cnm_VarsOnly_sorted = Comp3_cnm_VarsOnly.sort_index(axis=1, ascending=True)"
      ],
      "metadata": {
        "id": "rQTqbdbaWPaL"
      },
      "execution_count": null,
      "outputs": []
    },
    {
      "cell_type": "markdown",
      "source": [
        "Sort columns in ascending order (A-Z)"
      ],
      "metadata": {
        "id": "LbYassq6Y3oD"
      }
    },
    {
      "cell_type": "code",
      "source": [
        "Comp3_cnm_VarsOnly_sorted.head()"
      ],
      "metadata": {
        "id": "UphGNR6jWPaL"
      },
      "execution_count": null,
      "outputs": []
    },
    {
      "cell_type": "code",
      "source": [
        "Comp3_cnm_prepped = pd.concat([Comp3_cnm_dems, Comp3_cnm_VarsOnly_sorted], axis=1)"
      ],
      "metadata": {
        "id": "n0HEZrNQW9ZC"
      },
      "execution_count": null,
      "outputs": []
    },
    {
      "cell_type": "code",
      "source": [
        "Comp3_cnm_prepped.head()"
      ],
      "metadata": {
        "id": "r2pB808xXLcs"
      },
      "execution_count": null,
      "outputs": []
    },
    {
      "cell_type": "code",
      "source": [
        "del Comp3_cnm_prepped['PBD']\n",
        "del Comp3_cnm_prepped['PS']\n",
        "del Comp3_cnm_prepped['SPS']"
      ],
      "metadata": {
        "id": "R3dIxDh2Z91s"
      },
      "execution_count": null,
      "outputs": []
    },
    {
      "cell_type": "code",
      "source": [
        "Comp3_cnm_prepped.head()"
      ],
      "metadata": {
        "id": "AQUr1VMBaGE_"
      },
      "execution_count": null,
      "outputs": []
    },
    {
      "cell_type": "code",
      "source": [
        "del Comp3_cnm_prepped['APIC']"
      ],
      "metadata": {
        "id": "RMRMIiCwdbHH"
      },
      "execution_count": null,
      "outputs": []
    },
    {
      "cell_type": "markdown",
      "source": [
        "#### Output file: Comp3_cnm_prepped"
      ],
      "metadata": {
        "id": "zgvwxtSJYfrh"
      }
    },
    {
      "cell_type": "code",
      "source": [
        "Comp3_cnm_prepped.to_excel('/drive/My Drive/Colab Notebooks/Statistical analysis/Aim 2 - Microevolution/Comp3_cnm_prepped.xlsx', index=False)"
      ],
      "metadata": {
        "id": "_8MvCbf2Yfri"
      },
      "execution_count": null,
      "outputs": []
    },
    {
      "cell_type": "markdown",
      "source": [
        "## Prep Comp3 for CES match"
      ],
      "metadata": {
        "id": "-lWtGANSHfry"
      }
    },
    {
      "cell_type": "code",
      "source": [
        "Comp3_cnm_prepped = pd.read_excel('Comp3_cnm_prepped.xlsx')"
      ],
      "metadata": {
        "id": "Ww8-_ZBOHfry"
      },
      "execution_count": null,
      "outputs": []
    },
    {
      "cell_type": "code",
      "source": [
        "Comp3_cnm_prepped.head()"
      ],
      "metadata": {
        "id": "tZZQRnSNHfry"
      },
      "execution_count": null,
      "outputs": []
    },
    {
      "cell_type": "code",
      "source": [
        "Comp3_CES_match = pd.DataFrame()"
      ],
      "metadata": {
        "id": "so8nIL44Hfrz"
      },
      "execution_count": null,
      "outputs": []
    },
    {
      "cell_type": "code",
      "source": [
        "Comp3_CES_match['SkelID'] = Comp3_cnm_prepped['SkelID']\n",
        "Comp3_CES_match['Collection'] = Comp3_cnm_prepped['Collection']\n",
        "Comp3_CES_match['Sex'] = Comp3_cnm_prepped['Sex']\n",
        "Comp3_CES_match['Age'] = Comp3_cnm_prepped['Age']\n",
        "Comp3_CES_match['Population Name'] = Comp3_cnm_prepped['Population Name']\n",
        "Comp3_CES_match['Population Code'] = Comp3_cnm_prepped['Population Code']\n",
        "Comp3_CES_match['ANS'] = Comp3_cnm_prepped['ANS']\n",
        "Comp3_CES_match['INA'] = Comp3_cnm_prepped['INA']\n",
        "Comp3_CES_match['IOB'] = Comp3_cnm_prepped['IOB']\n",
        "Comp3_CES_match['MT'] = Comp3_cnm_prepped['MT']\n",
        "Comp3_CES_match['NAS'] = Comp3_cnm_prepped['NAS']\n",
        "Comp3_CES_match['NAW'] = Comp3_cnm_prepped['NAW']\n",
        "Comp3_CES_match['NBC'] = Comp3_cnm_prepped['NBC']\n",
        "Comp3_CES_match['NBS'] = Comp3_cnm_prepped['NBS']\n",
        "Comp3_CES_match['NO'] = Comp3_cnm_prepped['NO']\n",
        "Comp3_CES_match['NFS'] = Comp3_cnm_prepped['NFS']\n",
        "Comp3_CES_match['OBS'] = Comp3_cnm_prepped['OBS']\n",
        "#Comp3_CES_match['PBD'] = Comp3_cnm_prepped['PBD']     # removed previously due to low IO agreement\n",
        "Comp3_CES_match['PZT'] = Comp3_cnm_prepped['PZT']\n",
        "#Comp3_CES_match['SPS'] = Comp3_cnm_prepped['SPS']     # removed previously due to IO agreement\n",
        "Comp3_CES_match['TPS'] = Comp3_cnm_prepped['TPS']\n",
        "#Comp3_CES_match['PS'] = Comp3_cnm_prepped['PS']       # removed previously because Japan didn't have this trait\n",
        "Comp3_CES_match['ZS'] = Comp3_cnm_prepped['ZS']"
      ],
      "metadata": {
        "id": "IU7fBtOWHbM-"
      },
      "execution_count": null,
      "outputs": []
    },
    {
      "cell_type": "markdown",
      "source": [
        "#### Output file: Comp3_CES_match"
      ],
      "metadata": {
        "id": "XrSfGtKqILrA"
      }
    },
    {
      "cell_type": "code",
      "source": [
        "Comp3_CES_match.to_excel('/drive/My Drive/Colab Notebooks/Statistical analysis/Aim 2 - Microevolution/Comp3_CES_match.xlsx', index=False)"
      ],
      "metadata": {
        "id": "EEVWYGgVILrA"
      },
      "execution_count": null,
      "outputs": []
    },
    {
      "cell_type": "markdown",
      "source": [
        "Because TMD can only handle present/absent traits, the only traits that can be used in the TMD analysis for the CES and Comp3 datasets are:\n",
        "\n",
        "\n",
        "*   MT\n",
        "*   NO\n",
        "*   PBD\n",
        "*   SPS\n",
        "*   PZT\n",
        "*   ZS\n",
        "\n",
        "But I cannot use PBD or SPS because they had low IO agreement...so the only traits in the analysis will be MT, NO, PZT, and ZS...\n",
        "\n"
      ],
      "metadata": {
        "id": "heZyyfX0ILq_"
      }
    },
    {
      "cell_type": "code",
      "source": [
        "Comp3_cnm_prepped = pd.DataFrame()"
      ],
      "metadata": {
        "id": "3fG_1OqyILrA"
      },
      "execution_count": null,
      "outputs": []
    },
    {
      "cell_type": "code",
      "source": [
        "Comp3_cnm_prepped['SkelID'] = Comp3_CES_match['SkelID']\n",
        "Comp3_cnm_prepped['Collection'] = Comp3_CES_match['Collection']\n",
        "Comp3_cnm_prepped['Sex'] = Comp3_CES_match['Sex']\n",
        "Comp3_cnm_prepped['Age'] = Comp3_CES_match['Age']\n",
        "Comp3_cnm_prepped['Population Name'] = Comp3_CES_match['Population Name']\n",
        "Comp3_cnm_prepped['Population Code'] = Comp3_CES_match['Population Code']\n",
        "Comp3_cnm_prepped['MT'] = Comp3_CES_match['MT']\n",
        "Comp3_cnm_prepped['NO'] = Comp3_CES_match['NO']\n",
        "Comp3_cnm_prepped['PZT'] = Comp3_CES_match['PZT']\n",
        "Comp3_cnm_prepped['ZS'] = Comp3_CES_match['ZS']"
      ],
      "metadata": {
        "id": "_60ESB8rILrA"
      },
      "execution_count": null,
      "outputs": []
    },
    {
      "cell_type": "markdown",
      "source": [
        "The output for the following code cell was removed to protect PII and/or the raw data. The output contained the following columns:\n",
        "* SkelID, Collection, Sex, Age, Population Name, Population Code, MT, NO, PZT, ZS\n"
      ],
      "metadata": {
        "id": "R_-DwQpAZ6UX"
      }
    },
    {
      "cell_type": "code",
      "source": [
        "Comp3_cnm_prepped.head()"
      ],
      "metadata": {
        "id": "1OCzdcAkILrB"
      },
      "execution_count": null,
      "outputs": []
    },
    {
      "cell_type": "code",
      "source": [
        "Comp3_cnm_prepped['MT'].unique()"
      ],
      "metadata": {
        "colab": {
          "base_uri": "https://localhost:8080/"
        },
        "outputId": "3bc1084a-a0cd-4339-dff7-5646807d6a48",
        "id": "3DtFtxzWILrB"
      },
      "execution_count": null,
      "outputs": [
        {
          "output_type": "execute_result",
          "data": {
            "text/plain": [
              "array([ 1.,  2.,  0., nan,  3.])"
            ]
          },
          "metadata": {},
          "execution_count": 41
        }
      ]
    },
    {
      "cell_type": "markdown",
      "source": [
        "#### Output file: Comp3_cnm_prepped"
      ],
      "metadata": {
        "id": "3hDugBvcILrB"
      }
    },
    {
      "cell_type": "code",
      "source": [
        "Comp3_cnm_prepped.to_excel('/drive/My Drive/Colab Notebooks/Statistical analysis/Aim 2 - Microevolution/Comp3_cnm_prepped.xlsx', index=False)"
      ],
      "metadata": {
        "id": "qMGoloTyILrB"
      },
      "execution_count": null,
      "outputs": []
    },
    {
      "cell_type": "markdown",
      "source": [
        "# Merge CES and Comp3 for TMD"
      ],
      "metadata": {
        "id": "z3eunup0JHbd"
      }
    },
    {
      "cell_type": "code",
      "source": [
        "CES_Comp3_for_TMD = CES_Comp3_prepped.append(Comp3_cnm_prepped)"
      ],
      "metadata": {
        "id": "ScQUWHjwHbPd"
      },
      "execution_count": null,
      "outputs": []
    },
    {
      "cell_type": "code",
      "source": [
        "CES_Comp3_for_TMD.info()"
      ],
      "metadata": {
        "colab": {
          "base_uri": "https://localhost:8080/"
        },
        "id": "OSz7FomhHbR4",
        "outputId": "dce0ec41-ba68-4344-dcc4-4f4712a4c143"
      },
      "execution_count": null,
      "outputs": [
        {
          "output_type": "stream",
          "name": "stdout",
          "text": [
            "<class 'pandas.core.frame.DataFrame'>\n",
            "Int64Index: 495 entries, 0 to 397\n",
            "Data columns (total 10 columns):\n",
            " #   Column           Non-Null Count  Dtype  \n",
            "---  ------           --------------  -----  \n",
            " 0   SkelID           495 non-null    object \n",
            " 1   Collection       495 non-null    object \n",
            " 2   Sex              396 non-null    object \n",
            " 3   Age              337 non-null    float64\n",
            " 4   Population Name  495 non-null    object \n",
            " 5   Population Code  495 non-null    object \n",
            " 6   MT               471 non-null    float64\n",
            " 7   NO               395 non-null    float64\n",
            " 8   PZT              431 non-null    float64\n",
            " 9   ZS               419 non-null    float64\n",
            "dtypes: float64(5), object(5)\n",
            "memory usage: 42.5+ KB\n"
          ]
        }
      ]
    },
    {
      "cell_type": "markdown",
      "source": [
        "#### Output file: CES_Comp3_for_TMD\n",
        "**USE THIS FILE FOR CES/Comp3 TMD ANALYSIS!!**\n",
        "This file was subsequently converted to a .csv from .xlsx. All demographics columns were removed except Population Name. The following scores were converted in excel (more efficient than here) 0 -> 0, 1, 2, 3+ -> 1 in excel\n"
      ],
      "metadata": {
        "id": "RtAO46JYJYa7"
      }
    },
    {
      "cell_type": "code",
      "source": [
        "CES_Comp3_for_TMD.to_excel('/drive/My Drive/Colab Notebooks/Statistical analysis/Aim 2 - Microevolution/CES_Comp3_for_TMD.xlsx', index=False)"
      ],
      "metadata": {
        "id": "EQTMr-B_JYa8"
      },
      "execution_count": null,
      "outputs": []
    },
    {
      "cell_type": "markdown",
      "source": [
        "# Merge all cnm datasets"
      ],
      "metadata": {
        "id": "oXFAyt2FalKF"
      }
    },
    {
      "cell_type": "code",
      "source": [
        "cnm_for_TMD = CES_cnm_prepped.append(Comp1_cnm_prepped)"
      ],
      "metadata": {
        "id": "MqPog71xapfO"
      },
      "execution_count": null,
      "outputs": []
    },
    {
      "cell_type": "markdown",
      "source": [
        "The output for the following two code cells were removed to protect PII and/or the raw data. The outputs contained the following columns:\n",
        "* SkelID, Collection, Sex, Age, Population Name, Population Code, ANS, APF, AST...ZS"
      ],
      "metadata": {
        "id": "v2FEQY8Rgfo7"
      }
    },
    {
      "cell_type": "code",
      "source": [
        "cnm_for_TMD.head()"
      ],
      "metadata": {
        "id": "qsu2UflobZJ6"
      },
      "execution_count": null,
      "outputs": []
    },
    {
      "cell_type": "code",
      "source": [
        "cnm_for_TMD.tail()"
      ],
      "metadata": {
        "id": "3wd6zAUhbaJF"
      },
      "execution_count": null,
      "outputs": []
    },
    {
      "cell_type": "code",
      "source": [
        "Comp2_cnm_prepped.head()"
      ],
      "metadata": {
        "id": "LZADKFuAbsgD"
      },
      "execution_count": null,
      "outputs": []
    },
    {
      "cell_type": "code",
      "source": [
        "cnm_for_TMD = cnm_for_TMD.append(Comp2_cnm_prepped)"
      ],
      "metadata": {
        "id": "HW0QBEZibe5O"
      },
      "execution_count": null,
      "outputs": []
    },
    {
      "cell_type": "code",
      "source": [
        "cnm_for_TMD.tail()"
      ],
      "metadata": {
        "id": "HAyaNSZgbj8v"
      },
      "execution_count": null,
      "outputs": []
    },
    {
      "cell_type": "code",
      "source": [
        "cnm_for_TMD = cnm_for_TMD.append(Comp3_cnm_prepped)"
      ],
      "metadata": {
        "id": "ume6IfIXeUXl"
      },
      "execution_count": null,
      "outputs": []
    },
    {
      "cell_type": "code",
      "source": [
        "cnm_for_TMD.tail()"
      ],
      "metadata": {
        "id": "32QsBF6AeW67"
      },
      "execution_count": null,
      "outputs": []
    },
    {
      "cell_type": "code",
      "source": [
        "cnm_for_TMD.info()"
      ],
      "metadata": {
        "colab": {
          "base_uri": "https://localhost:8080/"
        },
        "id": "FpXDTUTzeg3z",
        "outputId": "7e0bb7f0-7a78-4d1f-cd72-cd2f6ca6e659"
      },
      "execution_count": null,
      "outputs": [
        {
          "output_type": "stream",
          "name": "stdout",
          "text": [
            "<class 'pandas.core.frame.DataFrame'>\n",
            "Int64Index: 7394 entries, 0 to 397\n",
            "Data columns (total 53 columns):\n",
            " #   Column           Non-Null Count  Dtype  \n",
            "---  ------           --------------  -----  \n",
            " 0   SkelID           7394 non-null   object \n",
            " 1   Collection       7394 non-null   object \n",
            " 2   Sex              7295 non-null   object \n",
            " 3   Age              7187 non-null   object \n",
            " 4   Population Name  7394 non-null   object \n",
            " 5   Population Code  7394 non-null   object \n",
            " 6   ANS              431 non-null    float64\n",
            " 7   APF              304 non-null    float64\n",
            " 8   AST              6976 non-null   float64\n",
            " 9   BREG             293 non-null    float64\n",
            " 10  CCO              6764 non-null   float64\n",
            " 11  CIV              6762 non-null   float64\n",
            " 12  CRB              291 non-null    float64\n",
            " 13  EPB              273 non-null    float64\n",
            " 14  FOI              96 non-null     float64\n",
            " 15  FSI              96 non-null     float64\n",
            " 16  FTA              300 non-null    float64\n",
            " 17  HYP              6991 non-null   float64\n",
            " 18  IFS              6972 non-null   float64\n",
            " 19  INA              470 non-null    float64\n",
            " 20  INCA             6972 non-null   float64\n",
            " 21  IOB              466 non-null    float64\n",
            " 22  LBLa             283 non-null    float64\n",
            " 23  LBM              250 non-null    float64\n",
            " 24  MANT             289 non-null    float64\n",
            " 25  MEN              6969 non-null   float64\n",
            " 26  METO             6987 non-null   float64\n",
            " 27  MF               325 non-null    float64\n",
            " 28  MFLo             316 non-null    float64\n",
            " 29  MHB              6973 non-null   float64\n",
            " 30  MIF              307 non-null    float64\n",
            " 31  MT               471 non-null    float64\n",
            " 32  NAS              267 non-null    float64\n",
            " 33  NAW              460 non-null    float64\n",
            " 34  NBC              438 non-null    float64\n",
            " 35  NBS              271 non-null    float64\n",
            " 36  NFS              265 non-null    float64\n",
            " 37  NO               395 non-null    float64\n",
            " 38  OBS              304 non-null    float64\n",
            " 39  OMB              6945 non-null   float64\n",
            " 40  PALT             307 non-null    float64\n",
            " 41  PF               322 non-null    float64\n",
            " 42  PHAR             6952 non-null   float64\n",
            " 43  PNB              6983 non-null   float64\n",
            " 44  PTB              6764 non-null   float64\n",
            " 45  PZT              431 non-null    float64\n",
            " 46  SOF              6992 non-null   float64\n",
            " 47  SON              97 non-null     float64\n",
            " 48  SSSF             275 non-null    float64\n",
            " 49  TPS              272 non-null    float64\n",
            " 50  TYM              6980 non-null   float64\n",
            " 51  ZFF              97 non-null     float64\n",
            " 52  ZS               419 non-null    float64\n",
            "dtypes: float64(47), object(6)\n",
            "memory usage: 3.0+ MB\n"
          ]
        }
      ]
    },
    {
      "cell_type": "code",
      "source": [
        "# filter demographics\n",
        "\n",
        "cnm_for_TMD_dems = pd.DataFrame(cnm_for_TMD.iloc[:, :6])"
      ],
      "metadata": {
        "id": "20YURLMhecgz"
      },
      "execution_count": null,
      "outputs": []
    },
    {
      "cell_type": "code",
      "source": [
        "cnm_for_TMD_dems.head()"
      ],
      "metadata": {
        "id": "HTu9gmcuev6L"
      },
      "execution_count": null,
      "outputs": []
    },
    {
      "cell_type": "code",
      "source": [
        "# filter for variables only\n",
        "\n",
        "cnm_for_TMD_VarsOnly = pd.DataFrame(cnm_for_TMD.iloc[:, 6:])"
      ],
      "metadata": {
        "id": "CDcxEGeUeoX4"
      },
      "execution_count": null,
      "outputs": []
    },
    {
      "cell_type": "code",
      "source": [
        "cnm_for_TMD_VarsOnly.head()"
      ],
      "metadata": {
        "id": "vyeWgAN3exhf"
      },
      "execution_count": null,
      "outputs": []
    },
    {
      "cell_type": "code",
      "source": [
        "# replace NaN/missing values with 9\n",
        "\n",
        "cnm_for_TMD_VarsOnly.replace(np.nan, 9, inplace=True)"
      ],
      "metadata": {
        "id": "6zZLmLxEe0AC"
      },
      "execution_count": null,
      "outputs": []
    },
    {
      "cell_type": "code",
      "source": [
        "cnm_for_TMD_VarsOnly.head()"
      ],
      "metadata": {
        "id": "4br9BKDpe9c4"
      },
      "execution_count": null,
      "outputs": []
    },
    {
      "cell_type": "code",
      "source": [
        "# merge demographics and variables only dfs\n",
        "\n",
        "cnm_for_TMD = pd.concat([cnm_for_TMD_dems, cnm_for_TMD_VarsOnly], axis=1)"
      ],
      "metadata": {
        "id": "OA2AmKu3e_uE"
      },
      "execution_count": null,
      "outputs": []
    },
    {
      "cell_type": "code",
      "source": [
        "cnm_for_TMD.head()"
      ],
      "metadata": {
        "id": "yH9srVlAfLdl"
      },
      "execution_count": null,
      "outputs": []
    },
    {
      "cell_type": "markdown",
      "source": [
        "#### Output file: cnm_all_merged\n",
        "This file was subsequently altered in Excel to remove all demographic columns except Population Code"
      ],
      "metadata": {
        "id": "QkX__rTefQkE"
      }
    },
    {
      "cell_type": "code",
      "source": [
        "cnm_for_TMD.to_excel('/drive/My Drive/Colab Notebooks/Statistical analysis/Aim 2 - Microevolution/cnm_all_merged.xlsx', index=False)"
      ],
      "metadata": {
        "id": "ZI3pYtGEfQkF"
      },
      "execution_count": null,
      "outputs": []
    },
    {
      "cell_type": "markdown",
      "source": [
        "## Prep CES and Comp1 for TMD\n"
      ],
      "metadata": {
        "id": "MnWZxTltM73Q"
      }
    },
    {
      "cell_type": "code",
      "source": [
        "cnm_all_merged = pd.read_excel('cnm_all_merged.xlsx')"
      ],
      "metadata": {
        "id": "J-bDc2qqNLlU"
      },
      "execution_count": null,
      "outputs": []
    },
    {
      "cell_type": "code",
      "source": [
        "CES_Comp1_for_TMD = pd.DataFrame(cnm_all_merged.iloc[:,:])"
      ],
      "metadata": {
        "id": "C9tkFuuLM_FJ"
      },
      "execution_count": null,
      "outputs": []
    },
    {
      "cell_type": "code",
      "source": [
        "CES_Comp1_for_TMD = cnm_all_merged.drop(cnm_all_merged[cnm_all_merged['Collection'] == 'Comp2'].index)\n",
        "CES_Comp1_for_TMD = cnm_all_merged.drop(cnm_all_merged[cnm_all_merged['Collection'] == 'Comp3'].index)"
      ],
      "metadata": {
        "id": "8R13ihXGM_Iy"
      },
      "execution_count": null,
      "outputs": []
    },
    {
      "cell_type": "code",
      "source": [
        "CES_Comp1_for_TMD.info()"
      ],
      "metadata": {
        "colab": {
          "base_uri": "https://localhost:8080/"
        },
        "id": "PJBciMfeNrB9",
        "outputId": "e1a1c887-cd50-40f4-c190-1ed52057fed3"
      },
      "execution_count": null,
      "outputs": [
        {
          "output_type": "stream",
          "name": "stdout",
          "text": [
            "<class 'pandas.core.frame.DataFrame'>\n",
            "Int64Index: 329 entries, 0 to 328\n",
            "Data columns (total 35 columns):\n",
            " #   Column           Non-Null Count  Dtype  \n",
            "---  ------           --------------  -----  \n",
            " 0   SkelID           329 non-null    object \n",
            " 1   Collection       329 non-null    object \n",
            " 2   Sex              329 non-null    object \n",
            " 3   Age              280 non-null    object \n",
            " 4   Population Name  329 non-null    object \n",
            " 5   Population Code  329 non-null    object \n",
            " 6   APF              304 non-null    float64\n",
            " 7   AST              309 non-null    float64\n",
            " 8   BREG             293 non-null    float64\n",
            " 9   CCO              97 non-null     float64\n",
            " 10  CIV              95 non-null     float64\n",
            " 11  CRB              291 non-null    float64\n",
            " 12  EPB              273 non-null    float64\n",
            " 13  FTA              300 non-null    float64\n",
            " 14  HYP              324 non-null    float64\n",
            " 15  IFS              305 non-null    float64\n",
            " 16  INCA             305 non-null    float64\n",
            " 17  LBLa             283 non-null    float64\n",
            " 18  LBM              250 non-null    float64\n",
            " 19  MANT             289 non-null    float64\n",
            " 20  MEN              302 non-null    float64\n",
            " 21  METO             320 non-null    float64\n",
            " 22  MF               325 non-null    float64\n",
            " 23  MFLo             316 non-null    float64\n",
            " 24  MHB              306 non-null    float64\n",
            " 25  MIF              307 non-null    float64\n",
            " 26  NFS              95 non-null     float64\n",
            " 27  NO               94 non-null     float64\n",
            " 28  OMB              278 non-null    float64\n",
            " 29  PALT             307 non-null    float64\n",
            " 30  PF               322 non-null    float64\n",
            " 31  PHAR             285 non-null    float64\n",
            " 32  PNB              316 non-null    float64\n",
            " 33  SOF              325 non-null    float64\n",
            " 34  TYM              313 non-null    float64\n",
            "dtypes: float64(29), object(6)\n",
            "memory usage: 92.5+ KB\n"
          ]
        }
      ]
    },
    {
      "cell_type": "code",
      "source": [
        "del CES_Comp1_for_TMD['PTB']\n",
        "del CES_Comp1_for_TMD['CIV']\n",
        "del CES_Comp1_for_TMD['CCO']\n",
        "del CES_Comp1_for_TMD['ANS']\n",
        "del CES_Comp1_for_TMD['INA']\n",
        "del CES_Comp1_for_TMD['IOB']\n",
        "del CES_Comp1_for_TMD['MT']\n",
        "del CES_Comp1_for_TMD['NAS']\n",
        "del CES_Comp1_for_TMD['NAW']\n",
        "del CES_Comp1_for_TMD['NBC']\n",
        "del CES_Comp1_for_TMD['NBS']\n",
        "del CES_Comp1_for_TMD['NO']\n",
        "del CES_Comp1_for_TMD['NFS']\n",
        "del CES_Comp1_for_TMD['OBS']\n",
        "#del CES_Comp1_for_TMD['PBD']\n",
        "del CES_Comp1_for_TMD['PZT']\n",
        "#del CES_Comp1_for_TMD['SPS']\n",
        "del CES_Comp1_for_TMD['TPS']\n",
        "#del CES_Comp1_for_TMD['PS']\n",
        "del CES_Comp1_for_TMD['ZS']"
      ],
      "metadata": {
        "id": "EwYDXHE2NZRp"
      },
      "execution_count": null,
      "outputs": []
    },
    {
      "cell_type": "code",
      "source": [
        "CES_Comp1_for_TMD3 = pd.DataFrame(CES_Comp1_for_TMD.iloc[:, 4:])"
      ],
      "metadata": {
        "id": "4_Ay72FIUIol"
      },
      "execution_count": null,
      "outputs": []
    },
    {
      "cell_type": "code",
      "source": [
        "CES_Comp1_for_TMD3.replace(9, np.nan, inplace=True)"
      ],
      "metadata": {
        "id": "sEm1HLU2Ugg_"
      },
      "execution_count": null,
      "outputs": []
    },
    {
      "cell_type": "code",
      "source": [
        "CES_Comp1_for_TMD3.info()"
      ],
      "metadata": {
        "colab": {
          "base_uri": "https://localhost:8080/"
        },
        "id": "_JO3phrlRMyY",
        "outputId": "942ee82a-42d9-4b91-9c10-c2f591d572a3"
      },
      "execution_count": null,
      "outputs": [
        {
          "output_type": "stream",
          "name": "stdout",
          "text": [
            "<class 'pandas.core.frame.DataFrame'>\n",
            "Int64Index: 329 entries, 0 to 328\n",
            "Data columns (total 31 columns):\n",
            " #   Column           Non-Null Count  Dtype  \n",
            "---  ------           --------------  -----  \n",
            " 0   Population Name  329 non-null    object \n",
            " 1   Population Code  329 non-null    object \n",
            " 2   APF              304 non-null    float64\n",
            " 3   AST              309 non-null    float64\n",
            " 4   BREG             293 non-null    float64\n",
            " 5   CCO              97 non-null     float64\n",
            " 6   CIV              95 non-null     float64\n",
            " 7   CRB              291 non-null    float64\n",
            " 8   EPB              273 non-null    float64\n",
            " 9   FTA              300 non-null    float64\n",
            " 10  HYP              324 non-null    float64\n",
            " 11  IFS              305 non-null    float64\n",
            " 12  INCA             305 non-null    float64\n",
            " 13  LBLa             283 non-null    float64\n",
            " 14  LBM              250 non-null    float64\n",
            " 15  MANT             289 non-null    float64\n",
            " 16  MEN              302 non-null    float64\n",
            " 17  METO             320 non-null    float64\n",
            " 18  MF               325 non-null    float64\n",
            " 19  MFLo             316 non-null    float64\n",
            " 20  MHB              306 non-null    float64\n",
            " 21  MIF              307 non-null    float64\n",
            " 22  NFS              95 non-null     float64\n",
            " 23  NO               94 non-null     float64\n",
            " 24  OMB              278 non-null    float64\n",
            " 25  PALT             307 non-null    float64\n",
            " 26  PF               322 non-null    float64\n",
            " 27  PHAR             285 non-null    float64\n",
            " 28  PNB              316 non-null    float64\n",
            " 29  SOF              325 non-null    float64\n",
            " 30  TYM              313 non-null    float64\n",
            "dtypes: float64(29), object(2)\n",
            "memory usage: 82.2+ KB\n"
          ]
        }
      ]
    },
    {
      "cell_type": "code",
      "source": [
        "CES_Comp1_for_TMD3.tail()"
      ],
      "metadata": {
        "id": "aofx3kzIVT2f"
      },
      "execution_count": null,
      "outputs": []
    },
    {
      "cell_type": "markdown",
      "source": [
        "#### Output file: CES_Comp1_for_TMD\n",
        "This file was subsequently altered in Excel to remove the Population Code column, and scores greater than 2 were recoded to 1."
      ],
      "metadata": {
        "id": "ezxZt7Q2OEu2"
      }
    },
    {
      "cell_type": "code",
      "source": [
        "CES_Comp1_for_TMD3.to_excel('/drive/My Drive/Colab Notebooks/Statistical analysis/Aim 2 - Microevolution/CES_Comp1_for_TMD3.xlsx', index=False)"
      ],
      "metadata": {
        "id": "vvDLFtTlOEu3"
      },
      "execution_count": null,
      "outputs": []
    },
    {
      "cell_type": "markdown",
      "source": [
        "## Prep CES and Comp2 for TMD"
      ],
      "metadata": {
        "id": "cFBDrMWJBIQ4"
      }
    },
    {
      "cell_type": "code",
      "source": [
        "cnm_all_merged = pd.read_excel('cnm_all_merged.xlsx')"
      ],
      "metadata": {
        "id": "XgoXjetRNZZd"
      },
      "execution_count": null,
      "outputs": []
    },
    {
      "cell_type": "code",
      "source": [
        "CES_Comp2_for_TMD = pd.DataFrame(cnm_all_merged.iloc[:,:])"
      ],
      "metadata": {
        "id": "OSNOQbX_Bvew"
      },
      "execution_count": null,
      "outputs": []
    },
    {
      "cell_type": "code",
      "source": [
        "CES_Comp2_for_TMD = cnm_all_merged.drop(cnm_all_merged[cnm_all_merged['Collection'] == 'Comp1'].index)\n",
        "CES_Comp2_for_TMD = cnm_all_merged.drop(cnm_all_merged[cnm_all_merged['Collection'] == 'Comp3'].index)"
      ],
      "metadata": {
        "id": "VgK80rUvBvex"
      },
      "execution_count": null,
      "outputs": []
    },
    {
      "cell_type": "code",
      "source": [
        "CES_Comp2_for_TMD['Collection'].unique()\n",
        "\n",
        "# result: US, Japan, Comp2"
      ],
      "metadata": {
        "id": "cRMo7VaVB3KO"
      },
      "execution_count": null,
      "outputs": []
    },
    {
      "cell_type": "code",
      "source": [
        "CES_Comp2_for_TMD.info()"
      ],
      "metadata": {
        "colab": {
          "base_uri": "https://localhost:8080/"
        },
        "outputId": "eb58548a-34fd-4968-8b8f-9fe898874a98",
        "id": "BKfCVOj2Bvex"
      },
      "execution_count": null,
      "outputs": [
        {
          "output_type": "stream",
          "name": "stdout",
          "text": [
            "<class 'pandas.core.frame.DataFrame'>\n",
            "Int64Index: 6764 entries, 0 to 6995\n",
            "Data columns (total 36 columns):\n",
            " #   Column           Non-Null Count  Dtype \n",
            "---  ------           --------------  ----- \n",
            " 0   SkelID           6764 non-null   object\n",
            " 1   Collection       6764 non-null   object\n",
            " 2   Sex              6764 non-null   object\n",
            " 3   Age              6764 non-null   object\n",
            " 4   Population Name  6764 non-null   object\n",
            " 5   Population Code  6764 non-null   object\n",
            " 6   APF              6764 non-null   int64 \n",
            " 7   AST              6764 non-null   int64 \n",
            " 8   BREG             6764 non-null   int64 \n",
            " 9   CCO              6764 non-null   int64 \n",
            " 10  CIV              6764 non-null   int64 \n",
            " 11  CRB              6764 non-null   int64 \n",
            " 12  EPB              6764 non-null   int64 \n",
            " 13  FTA              6764 non-null   int64 \n",
            " 14  HYP              6764 non-null   int64 \n",
            " 15  IFS              6764 non-null   int64 \n",
            " 16  INCA             6764 non-null   int64 \n",
            " 17  LBLa             6764 non-null   int64 \n",
            " 18  LBM              6764 non-null   int64 \n",
            " 19  MANT             6764 non-null   int64 \n",
            " 20  MEN              6764 non-null   int64 \n",
            " 21  METO             6764 non-null   int64 \n",
            " 22  MF               6764 non-null   int64 \n",
            " 23  MFLo             6764 non-null   int64 \n",
            " 24  MHB              6764 non-null   int64 \n",
            " 25  MIF              6764 non-null   int64 \n",
            " 26  NFS              6764 non-null   int64 \n",
            " 27  NO               6764 non-null   int64 \n",
            " 28  OMB              6764 non-null   int64 \n",
            " 29  PALT             6764 non-null   int64 \n",
            " 30  PF               6764 non-null   int64 \n",
            " 31  PHAR             6764 non-null   int64 \n",
            " 32  PNB              6764 non-null   int64 \n",
            " 33  PTB              6764 non-null   int64 \n",
            " 34  SOF              6764 non-null   int64 \n",
            " 35  TYM              6764 non-null   int64 \n",
            "dtypes: int64(30), object(6)\n",
            "memory usage: 1.9+ MB\n"
          ]
        }
      ]
    },
    {
      "cell_type": "code",
      "source": [
        "#del CES_Comp2_for_TMD['SON']      # already removed earlier\n",
        "#del CES_Comp2_for_TMD['APIC']      #low IO agreement\n",
        "del CES_Comp2_for_TMD['LBLa']\n",
        "del CES_Comp2_for_TMD['LBM']\n",
        "del CES_Comp2_for_TMD['PF']\n",
        "del CES_Comp2_for_TMD['MF']\n",
        "del CES_Comp2_for_TMD['MFLo']\n",
        "del CES_Comp2_for_TMD['CRB']\n",
        "del CES_Comp2_for_TMD['EPB']\n",
        "del CES_Comp2_for_TMD['FTA']\n",
        "del CES_Comp2_for_TMD['APF']\n",
        "#del CES_Comp2_for_TMD['FF']        # low IO agreement\n",
        "del CES_Comp2_for_TMD['MIF']\n",
        "#del CES_Comp2_for_TMD['SAGB']      # low IO agreeement\n",
        "del CES_Comp2_for_TMD['BREG']\n",
        "del CES_Comp2_for_TMD['PALT']\n",
        "del CES_Comp2_for_TMD['MANT']\n",
        "#del CES_Comp2_for_TMD['SSSF']      # already removed earlier\n",
        "#del CES_Comp2_for_TMD['ZFF']\n",
        "del CES_Comp2_for_TMD['CCO']         # removing CCO because it has NAs in the _z file for the TMD analysis\n",
        "#del CES_Comp2_for_TMD['FOI']\n",
        "#del CES_Comp2_for_TMD['FSI']\n",
        "#del CES_Comp2_for_TMD['AUD']\n",
        "del CES_Comp2_for_TMD['ANS']\n",
        "del CES_Comp2_for_TMD['INA']\n",
        "del CES_Comp2_for_TMD['IOB']\n",
        "del CES_Comp2_for_TMD['MT']\n",
        "del CES_Comp2_for_TMD['NAS']\n",
        "del CES_Comp2_for_TMD['NAW']\n",
        "del CES_Comp2_for_TMD['NBC']\n",
        "del CES_Comp2_for_TMD['NBS']\n",
        "del CES_Comp2_for_TMD['NO']\n",
        "del CES_Comp2_for_TMD['NFS']\n",
        "del CES_Comp2_for_TMD['OBS']\n",
        "#del CES_Comp2_for_TMD['PBD']\n",
        "del CES_Comp2_for_TMD['PZT']\n",
        "#del CES_Comp2_for_TMD['SPS']\n",
        "del CES_Comp2_for_TMD['TPS']\n",
        "#del CES_Comp2_for_TMD['PS']\n",
        "del CES_Comp2_for_TMD['ZS']"
      ],
      "metadata": {
        "id": "bxQRADonNZdP"
      },
      "execution_count": null,
      "outputs": []
    },
    {
      "cell_type": "code",
      "source": [
        "CES_Comp2_for_TMD.info()"
      ],
      "metadata": {
        "colab": {
          "base_uri": "https://localhost:8080/"
        },
        "id": "pCA5Jzg_EEKD",
        "outputId": "8e12da08-3ea2-4371-99e7-1c9f95649b9d"
      },
      "execution_count": null,
      "outputs": [
        {
          "output_type": "stream",
          "name": "stdout",
          "text": [
            "<class 'pandas.core.frame.DataFrame'>\n",
            "Int64Index: 6764 entries, 0 to 6995\n",
            "Data columns (total 20 columns):\n",
            " #   Column           Non-Null Count  Dtype \n",
            "---  ------           --------------  ----- \n",
            " 0   SkelID           6764 non-null   object\n",
            " 1   Collection       6764 non-null   object\n",
            " 2   Sex              6764 non-null   object\n",
            " 3   Age              6764 non-null   object\n",
            " 4   Population Name  6764 non-null   object\n",
            " 5   Population Code  6764 non-null   object\n",
            " 6   AST              6764 non-null   int64 \n",
            " 7   CIV              6764 non-null   int64 \n",
            " 8   HYP              6764 non-null   int64 \n",
            " 9   IFS              6764 non-null   int64 \n",
            " 10  INCA             6764 non-null   int64 \n",
            " 11  MEN              6764 non-null   int64 \n",
            " 12  METO             6764 non-null   int64 \n",
            " 13  MHB              6764 non-null   int64 \n",
            " 14  OMB              6764 non-null   int64 \n",
            " 15  PHAR             6764 non-null   int64 \n",
            " 16  PNB              6764 non-null   int64 \n",
            " 17  PTB              6764 non-null   int64 \n",
            " 18  SOF              6764 non-null   int64 \n",
            " 19  TYM              6764 non-null   int64 \n",
            "dtypes: int64(14), object(6)\n",
            "memory usage: 1.1+ MB\n"
          ]
        }
      ]
    },
    {
      "cell_type": "markdown",
      "source": [
        "#### Output file: CES_Comp2_for_TMD\n",
        "This file was subsequently altered in Excel to remove all demographic columns except Population Code, and and scores greater than 2 were recoded to 1.\n"
      ],
      "metadata": {
        "id": "3WXPUyFjEm2U"
      }
    },
    {
      "cell_type": "code",
      "source": [
        "CES_Comp2_for_TMD.to_excel('/drive/My Drive/Colab Notebooks/Statistical analysis/Aim 2 - Microevolution/CES_Comp2_for_TMD.xlsx', index=False)"
      ],
      "metadata": {
        "id": "Vx_mpf7yEm2V"
      },
      "execution_count": null,
      "outputs": []
    },
    {
      "cell_type": "markdown",
      "source": [
        "# Output data files:\n",
        "\n",
        "** My data**\n",
        "*   *CES_cnm_recoded.xlsx*: This file includes the cranial nonmetric and macromorphoscopic data and demographics after left and right sides have been collapsed and all traits have been recoded.\n",
        "*   *CES_cnm_prepped.xlsx*: Contains my data that is prepared to merge with the other dfs\n",
        "\n",
        "**Comp1 data**\n",
        "*   *Comp1_cnm_collapsed.xlsx*: This file contains the Comp1 cnm data with the left and right sides collapsed (prior to being recoded).\n",
        "*   *Comp1_cnm_prepped.xlsx*: Contains the Comp1 that is prepared to merge with the other dfs\n",
        "\n",
        "**Comp2 data**\n",
        "*   *Comp2_sex.xlsx*: This file contains the male and female counts for the Comp2 dataset.\n",
        "*   *Comp2_cnm_prepped.xlsx*: Contains the Comp2 that is prepared to merge with the other dfs\n",
        "\n",
        "**Comp3 data**\n",
        "*   *Comp3_cnm_prepped.xlsx*: Contains the Comp1 data that is prepared to merge with the other dfs\n",
        "*   *cnm_for_TMD.xlsx*: Contains all four dfs merged. This file was subsequently altered in Excel to remove all demographic columns except Population Code\n",
        "\n",
        "**All cnm data merged**\n",
        "*   *cnm_all_merged.xlsx*: This file contains all four cnm dfs merged. This file can be used in subsequent analyses (except the TMD analysis, which required my df to be match individually to each comparative df).\n",
        "\n",
        "**TMD analysis files**\n",
        "*   *CES_Comp1_for_TMD.xlsx*: This file contains my dataset and Comp1 matched and prepared for the TMD analysis.\n",
        "*   *CES_Comp2_for_TMD.xlsx*: This file contains my dataset and Comp2 matched and prepared for the TMD analysis.\n",
        "*   *CES_Comp3_for_TMD.xlsx*: This file contains my dataset and Comp3 matched and prepared for the TMD analysis."
      ],
      "metadata": {
        "id": "c8F5eI43nuoD"
      }
    }
  ]
}